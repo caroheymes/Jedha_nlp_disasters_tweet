{
  "nbformat": 4,
  "nbformat_minor": 0,
  "metadata": {
    "orig_nbformat": 2,
    "colab": {
      "name": "tweet_modeling_v3.ipynb",
      "provenance": [],
      "collapsed_sections": [
        "G6zzANJkKFY0",
        "A3Q2qRQDLagQ"
      ],
      "machine_shape": "hm",
      "include_colab_link": true
    },
    "language_info": {
      "name": "python"
    },
    "kernelspec": {
      "name": "python3",
      "display_name": "Python 3"
    },
    "accelerator": "TPU",
    "widgets": {
      "application/vnd.jupyter.widget-state+json": {
        "eb8b0572c2074af28d8a4d1954655870": {
          "model_module": "@jupyter-widgets/controls",
          "model_name": "HBoxModel",
          "model_module_version": "1.5.0",
          "state": {
            "_view_name": "HBoxView",
            "_dom_classes": [],
            "_model_name": "HBoxModel",
            "_view_module": "@jupyter-widgets/controls",
            "_model_module_version": "1.5.0",
            "_view_count": null,
            "_view_module_version": "1.5.0",
            "box_style": "",
            "layout": "IPY_MODEL_e12910b970f24d269ef3e2348d0be577",
            "_model_module": "@jupyter-widgets/controls",
            "children": [
              "IPY_MODEL_744b061b0a6c495c84ced7f39e8a9fc0",
              "IPY_MODEL_c78519bbcd954d108dc7809857f4031b",
              "IPY_MODEL_3d21469d55d04b99bc58a69e974d638d"
            ]
          }
        },
        "e12910b970f24d269ef3e2348d0be577": {
          "model_module": "@jupyter-widgets/base",
          "model_name": "LayoutModel",
          "model_module_version": "1.2.0",
          "state": {
            "_view_name": "LayoutView",
            "grid_template_rows": null,
            "right": null,
            "justify_content": null,
            "_view_module": "@jupyter-widgets/base",
            "overflow": null,
            "_model_module_version": "1.2.0",
            "_view_count": null,
            "flex_flow": null,
            "width": null,
            "min_width": null,
            "border": null,
            "align_items": null,
            "bottom": null,
            "_model_module": "@jupyter-widgets/base",
            "top": null,
            "grid_column": null,
            "overflow_y": null,
            "overflow_x": null,
            "grid_auto_flow": null,
            "grid_area": null,
            "grid_template_columns": null,
            "flex": null,
            "_model_name": "LayoutModel",
            "justify_items": null,
            "grid_row": null,
            "max_height": null,
            "align_content": null,
            "visibility": null,
            "align_self": null,
            "height": null,
            "min_height": null,
            "padding": null,
            "grid_auto_rows": null,
            "grid_gap": null,
            "max_width": null,
            "order": null,
            "_view_module_version": "1.2.0",
            "grid_template_areas": null,
            "object_position": null,
            "object_fit": null,
            "grid_auto_columns": null,
            "margin": null,
            "display": null,
            "left": null
          }
        },
        "744b061b0a6c495c84ced7f39e8a9fc0": {
          "model_module": "@jupyter-widgets/controls",
          "model_name": "HTMLModel",
          "model_module_version": "1.5.0",
          "state": {
            "_view_name": "HTMLView",
            "style": "IPY_MODEL_16c5fa5d374948b3a055daa29f90f523",
            "_dom_classes": [],
            "description": "",
            "_model_name": "HTMLModel",
            "placeholder": "​",
            "_view_module": "@jupyter-widgets/controls",
            "_model_module_version": "1.5.0",
            "value": "  2%",
            "_view_count": null,
            "_view_module_version": "1.5.0",
            "description_tooltip": null,
            "_model_module": "@jupyter-widgets/controls",
            "layout": "IPY_MODEL_5d6652a13906401abd9f8595b812246f"
          }
        },
        "c78519bbcd954d108dc7809857f4031b": {
          "model_module": "@jupyter-widgets/controls",
          "model_name": "FloatProgressModel",
          "model_module_version": "1.5.0",
          "state": {
            "_view_name": "ProgressView",
            "style": "IPY_MODEL_ce95e83073fa475b9a781c68ad1d6195",
            "_dom_classes": [],
            "description": "",
            "_model_name": "FloatProgressModel",
            "bar_style": "danger",
            "max": 64,
            "_view_module": "@jupyter-widgets/controls",
            "_model_module_version": "1.5.0",
            "value": 1,
            "_view_count": null,
            "_view_module_version": "1.5.0",
            "orientation": "horizontal",
            "min": 0,
            "description_tooltip": null,
            "_model_module": "@jupyter-widgets/controls",
            "layout": "IPY_MODEL_e435db0ab79546958b7c56ae0e4d5734"
          }
        },
        "3d21469d55d04b99bc58a69e974d638d": {
          "model_module": "@jupyter-widgets/controls",
          "model_name": "HTMLModel",
          "model_module_version": "1.5.0",
          "state": {
            "_view_name": "HTMLView",
            "style": "IPY_MODEL_d393918da5ea422f83f0ec22f2b78ecf",
            "_dom_classes": [],
            "description": "",
            "_model_name": "HTMLModel",
            "placeholder": "​",
            "_view_module": "@jupyter-widgets/controls",
            "_model_module_version": "1.5.0",
            "value": " 1/64 [00:00&lt;00:14,  4.32it/s]",
            "_view_count": null,
            "_view_module_version": "1.5.0",
            "description_tooltip": null,
            "_model_module": "@jupyter-widgets/controls",
            "layout": "IPY_MODEL_7d4c19e93f964521a0204e4b62ed9829"
          }
        },
        "16c5fa5d374948b3a055daa29f90f523": {
          "model_module": "@jupyter-widgets/controls",
          "model_name": "DescriptionStyleModel",
          "model_module_version": "1.5.0",
          "state": {
            "_view_name": "StyleView",
            "_model_name": "DescriptionStyleModel",
            "description_width": "",
            "_view_module": "@jupyter-widgets/base",
            "_model_module_version": "1.5.0",
            "_view_count": null,
            "_view_module_version": "1.2.0",
            "_model_module": "@jupyter-widgets/controls"
          }
        },
        "5d6652a13906401abd9f8595b812246f": {
          "model_module": "@jupyter-widgets/base",
          "model_name": "LayoutModel",
          "model_module_version": "1.2.0",
          "state": {
            "_view_name": "LayoutView",
            "grid_template_rows": null,
            "right": null,
            "justify_content": null,
            "_view_module": "@jupyter-widgets/base",
            "overflow": null,
            "_model_module_version": "1.2.0",
            "_view_count": null,
            "flex_flow": null,
            "width": null,
            "min_width": null,
            "border": null,
            "align_items": null,
            "bottom": null,
            "_model_module": "@jupyter-widgets/base",
            "top": null,
            "grid_column": null,
            "overflow_y": null,
            "overflow_x": null,
            "grid_auto_flow": null,
            "grid_area": null,
            "grid_template_columns": null,
            "flex": null,
            "_model_name": "LayoutModel",
            "justify_items": null,
            "grid_row": null,
            "max_height": null,
            "align_content": null,
            "visibility": null,
            "align_self": null,
            "height": null,
            "min_height": null,
            "padding": null,
            "grid_auto_rows": null,
            "grid_gap": null,
            "max_width": null,
            "order": null,
            "_view_module_version": "1.2.0",
            "grid_template_areas": null,
            "object_position": null,
            "object_fit": null,
            "grid_auto_columns": null,
            "margin": null,
            "display": null,
            "left": null
          }
        },
        "ce95e83073fa475b9a781c68ad1d6195": {
          "model_module": "@jupyter-widgets/controls",
          "model_name": "ProgressStyleModel",
          "model_module_version": "1.5.0",
          "state": {
            "_view_name": "StyleView",
            "_model_name": "ProgressStyleModel",
            "description_width": "",
            "_view_module": "@jupyter-widgets/base",
            "_model_module_version": "1.5.0",
            "_view_count": null,
            "_view_module_version": "1.2.0",
            "bar_color": null,
            "_model_module": "@jupyter-widgets/controls"
          }
        },
        "e435db0ab79546958b7c56ae0e4d5734": {
          "model_module": "@jupyter-widgets/base",
          "model_name": "LayoutModel",
          "model_module_version": "1.2.0",
          "state": {
            "_view_name": "LayoutView",
            "grid_template_rows": null,
            "right": null,
            "justify_content": null,
            "_view_module": "@jupyter-widgets/base",
            "overflow": null,
            "_model_module_version": "1.2.0",
            "_view_count": null,
            "flex_flow": null,
            "width": null,
            "min_width": null,
            "border": null,
            "align_items": null,
            "bottom": null,
            "_model_module": "@jupyter-widgets/base",
            "top": null,
            "grid_column": null,
            "overflow_y": null,
            "overflow_x": null,
            "grid_auto_flow": null,
            "grid_area": null,
            "grid_template_columns": null,
            "flex": null,
            "_model_name": "LayoutModel",
            "justify_items": null,
            "grid_row": null,
            "max_height": null,
            "align_content": null,
            "visibility": null,
            "align_self": null,
            "height": null,
            "min_height": null,
            "padding": null,
            "grid_auto_rows": null,
            "grid_gap": null,
            "max_width": null,
            "order": null,
            "_view_module_version": "1.2.0",
            "grid_template_areas": null,
            "object_position": null,
            "object_fit": null,
            "grid_auto_columns": null,
            "margin": null,
            "display": null,
            "left": null
          }
        },
        "d393918da5ea422f83f0ec22f2b78ecf": {
          "model_module": "@jupyter-widgets/controls",
          "model_name": "DescriptionStyleModel",
          "model_module_version": "1.5.0",
          "state": {
            "_view_name": "StyleView",
            "_model_name": "DescriptionStyleModel",
            "description_width": "",
            "_view_module": "@jupyter-widgets/base",
            "_model_module_version": "1.5.0",
            "_view_count": null,
            "_view_module_version": "1.2.0",
            "_model_module": "@jupyter-widgets/controls"
          }
        },
        "7d4c19e93f964521a0204e4b62ed9829": {
          "model_module": "@jupyter-widgets/base",
          "model_name": "LayoutModel",
          "model_module_version": "1.2.0",
          "state": {
            "_view_name": "LayoutView",
            "grid_template_rows": null,
            "right": null,
            "justify_content": null,
            "_view_module": "@jupyter-widgets/base",
            "overflow": null,
            "_model_module_version": "1.2.0",
            "_view_count": null,
            "flex_flow": null,
            "width": null,
            "min_width": null,
            "border": null,
            "align_items": null,
            "bottom": null,
            "_model_module": "@jupyter-widgets/base",
            "top": null,
            "grid_column": null,
            "overflow_y": null,
            "overflow_x": null,
            "grid_auto_flow": null,
            "grid_area": null,
            "grid_template_columns": null,
            "flex": null,
            "_model_name": "LayoutModel",
            "justify_items": null,
            "grid_row": null,
            "max_height": null,
            "align_content": null,
            "visibility": null,
            "align_self": null,
            "height": null,
            "min_height": null,
            "padding": null,
            "grid_auto_rows": null,
            "grid_gap": null,
            "max_width": null,
            "order": null,
            "_view_module_version": "1.2.0",
            "grid_template_areas": null,
            "object_position": null,
            "object_fit": null,
            "grid_auto_columns": null,
            "margin": null,
            "display": null,
            "left": null
          }
        },
        "ce15a31e1cb0420490baaad723283b12": {
          "model_module": "@jupyter-widgets/controls",
          "model_name": "HBoxModel",
          "model_module_version": "1.5.0",
          "state": {
            "_view_name": "HBoxView",
            "_dom_classes": [],
            "_model_name": "HBoxModel",
            "_view_module": "@jupyter-widgets/controls",
            "_model_module_version": "1.5.0",
            "_view_count": null,
            "_view_module_version": "1.5.0",
            "box_style": "",
            "layout": "IPY_MODEL_7fcb9c1920e644f7b4a0b113089b5e47",
            "_model_module": "@jupyter-widgets/controls",
            "children": [
              "IPY_MODEL_c01f17a71b494427a86b4f18d2ce7e4b",
              "IPY_MODEL_ca4e81b4e4a1476e99be79901bf14771",
              "IPY_MODEL_1fd2348fc5764f47b38bd82e7fdde70a"
            ]
          }
        },
        "7fcb9c1920e644f7b4a0b113089b5e47": {
          "model_module": "@jupyter-widgets/base",
          "model_name": "LayoutModel",
          "model_module_version": "1.2.0",
          "state": {
            "_view_name": "LayoutView",
            "grid_template_rows": null,
            "right": null,
            "justify_content": null,
            "_view_module": "@jupyter-widgets/base",
            "overflow": null,
            "_model_module_version": "1.2.0",
            "_view_count": null,
            "flex_flow": null,
            "width": null,
            "min_width": null,
            "border": null,
            "align_items": null,
            "bottom": null,
            "_model_module": "@jupyter-widgets/base",
            "top": null,
            "grid_column": null,
            "overflow_y": null,
            "overflow_x": null,
            "grid_auto_flow": null,
            "grid_area": null,
            "grid_template_columns": null,
            "flex": null,
            "_model_name": "LayoutModel",
            "justify_items": null,
            "grid_row": null,
            "max_height": null,
            "align_content": null,
            "visibility": null,
            "align_self": null,
            "height": null,
            "min_height": null,
            "padding": null,
            "grid_auto_rows": null,
            "grid_gap": null,
            "max_width": null,
            "order": null,
            "_view_module_version": "1.2.0",
            "grid_template_areas": null,
            "object_position": null,
            "object_fit": null,
            "grid_auto_columns": null,
            "margin": null,
            "display": null,
            "left": null
          }
        },
        "c01f17a71b494427a86b4f18d2ce7e4b": {
          "model_module": "@jupyter-widgets/controls",
          "model_name": "HTMLModel",
          "model_module_version": "1.5.0",
          "state": {
            "_view_name": "HTMLView",
            "style": "IPY_MODEL_a356a200e5c74b6aa907090578facfab",
            "_dom_classes": [],
            "description": "",
            "_model_name": "HTMLModel",
            "placeholder": "​",
            "_view_module": "@jupyter-widgets/controls",
            "_model_module_version": "1.5.0",
            "value": "100%",
            "_view_count": null,
            "_view_module_version": "1.5.0",
            "description_tooltip": null,
            "_model_module": "@jupyter-widgets/controls",
            "layout": "IPY_MODEL_606a0d0f99d04ea9b278be86a1f75f75"
          }
        },
        "ca4e81b4e4a1476e99be79901bf14771": {
          "model_module": "@jupyter-widgets/controls",
          "model_name": "FloatProgressModel",
          "model_module_version": "1.5.0",
          "state": {
            "_view_name": "ProgressView",
            "style": "IPY_MODEL_7723d59407414cfc8a20963a15289829",
            "_dom_classes": [],
            "description": "",
            "_model_name": "FloatProgressModel",
            "bar_style": "success",
            "max": 1,
            "_view_module": "@jupyter-widgets/controls",
            "_model_module_version": "1.5.0",
            "value": 1,
            "_view_count": null,
            "_view_module_version": "1.5.0",
            "orientation": "horizontal",
            "min": 0,
            "description_tooltip": null,
            "_model_module": "@jupyter-widgets/controls",
            "layout": "IPY_MODEL_5a686b04f5b44fda8391a3cf5a608d4a"
          }
        },
        "1fd2348fc5764f47b38bd82e7fdde70a": {
          "model_module": "@jupyter-widgets/controls",
          "model_name": "HTMLModel",
          "model_module_version": "1.5.0",
          "state": {
            "_view_name": "HTMLView",
            "style": "IPY_MODEL_e13b3d125434460ea8b4e6bed2d66e76",
            "_dom_classes": [],
            "description": "",
            "_model_name": "HTMLModel",
            "placeholder": "​",
            "_view_module": "@jupyter-widgets/controls",
            "_model_module_version": "1.5.0",
            "value": " 1/1 [00:00&lt;00:00, 18.77it/s]",
            "_view_count": null,
            "_view_module_version": "1.5.0",
            "description_tooltip": null,
            "_model_module": "@jupyter-widgets/controls",
            "layout": "IPY_MODEL_76015d71bfed49689119dd4b8055d0d8"
          }
        },
        "a356a200e5c74b6aa907090578facfab": {
          "model_module": "@jupyter-widgets/controls",
          "model_name": "DescriptionStyleModel",
          "model_module_version": "1.5.0",
          "state": {
            "_view_name": "StyleView",
            "_model_name": "DescriptionStyleModel",
            "description_width": "",
            "_view_module": "@jupyter-widgets/base",
            "_model_module_version": "1.5.0",
            "_view_count": null,
            "_view_module_version": "1.2.0",
            "_model_module": "@jupyter-widgets/controls"
          }
        },
        "606a0d0f99d04ea9b278be86a1f75f75": {
          "model_module": "@jupyter-widgets/base",
          "model_name": "LayoutModel",
          "model_module_version": "1.2.0",
          "state": {
            "_view_name": "LayoutView",
            "grid_template_rows": null,
            "right": null,
            "justify_content": null,
            "_view_module": "@jupyter-widgets/base",
            "overflow": null,
            "_model_module_version": "1.2.0",
            "_view_count": null,
            "flex_flow": null,
            "width": null,
            "min_width": null,
            "border": null,
            "align_items": null,
            "bottom": null,
            "_model_module": "@jupyter-widgets/base",
            "top": null,
            "grid_column": null,
            "overflow_y": null,
            "overflow_x": null,
            "grid_auto_flow": null,
            "grid_area": null,
            "grid_template_columns": null,
            "flex": null,
            "_model_name": "LayoutModel",
            "justify_items": null,
            "grid_row": null,
            "max_height": null,
            "align_content": null,
            "visibility": null,
            "align_self": null,
            "height": null,
            "min_height": null,
            "padding": null,
            "grid_auto_rows": null,
            "grid_gap": null,
            "max_width": null,
            "order": null,
            "_view_module_version": "1.2.0",
            "grid_template_areas": null,
            "object_position": null,
            "object_fit": null,
            "grid_auto_columns": null,
            "margin": null,
            "display": null,
            "left": null
          }
        },
        "7723d59407414cfc8a20963a15289829": {
          "model_module": "@jupyter-widgets/controls",
          "model_name": "ProgressStyleModel",
          "model_module_version": "1.5.0",
          "state": {
            "_view_name": "StyleView",
            "_model_name": "ProgressStyleModel",
            "description_width": "",
            "_view_module": "@jupyter-widgets/base",
            "_model_module_version": "1.5.0",
            "_view_count": null,
            "_view_module_version": "1.2.0",
            "bar_color": null,
            "_model_module": "@jupyter-widgets/controls"
          }
        },
        "5a686b04f5b44fda8391a3cf5a608d4a": {
          "model_module": "@jupyter-widgets/base",
          "model_name": "LayoutModel",
          "model_module_version": "1.2.0",
          "state": {
            "_view_name": "LayoutView",
            "grid_template_rows": null,
            "right": null,
            "justify_content": null,
            "_view_module": "@jupyter-widgets/base",
            "overflow": null,
            "_model_module_version": "1.2.0",
            "_view_count": null,
            "flex_flow": null,
            "width": null,
            "min_width": null,
            "border": null,
            "align_items": null,
            "bottom": null,
            "_model_module": "@jupyter-widgets/base",
            "top": null,
            "grid_column": null,
            "overflow_y": null,
            "overflow_x": null,
            "grid_auto_flow": null,
            "grid_area": null,
            "grid_template_columns": null,
            "flex": null,
            "_model_name": "LayoutModel",
            "justify_items": null,
            "grid_row": null,
            "max_height": null,
            "align_content": null,
            "visibility": null,
            "align_self": null,
            "height": null,
            "min_height": null,
            "padding": null,
            "grid_auto_rows": null,
            "grid_gap": null,
            "max_width": null,
            "order": null,
            "_view_module_version": "1.2.0",
            "grid_template_areas": null,
            "object_position": null,
            "object_fit": null,
            "grid_auto_columns": null,
            "margin": null,
            "display": null,
            "left": null
          }
        },
        "e13b3d125434460ea8b4e6bed2d66e76": {
          "model_module": "@jupyter-widgets/controls",
          "model_name": "DescriptionStyleModel",
          "model_module_version": "1.5.0",
          "state": {
            "_view_name": "StyleView",
            "_model_name": "DescriptionStyleModel",
            "description_width": "",
            "_view_module": "@jupyter-widgets/base",
            "_model_module_version": "1.5.0",
            "_view_count": null,
            "_view_module_version": "1.2.0",
            "_model_module": "@jupyter-widgets/controls"
          }
        },
        "76015d71bfed49689119dd4b8055d0d8": {
          "model_module": "@jupyter-widgets/base",
          "model_name": "LayoutModel",
          "model_module_version": "1.2.0",
          "state": {
            "_view_name": "LayoutView",
            "grid_template_rows": null,
            "right": null,
            "justify_content": null,
            "_view_module": "@jupyter-widgets/base",
            "overflow": null,
            "_model_module_version": "1.2.0",
            "_view_count": null,
            "flex_flow": null,
            "width": null,
            "min_width": null,
            "border": null,
            "align_items": null,
            "bottom": null,
            "_model_module": "@jupyter-widgets/base",
            "top": null,
            "grid_column": null,
            "overflow_y": null,
            "overflow_x": null,
            "grid_auto_flow": null,
            "grid_area": null,
            "grid_template_columns": null,
            "flex": null,
            "_model_name": "LayoutModel",
            "justify_items": null,
            "grid_row": null,
            "max_height": null,
            "align_content": null,
            "visibility": null,
            "align_self": null,
            "height": null,
            "min_height": null,
            "padding": null,
            "grid_auto_rows": null,
            "grid_gap": null,
            "max_width": null,
            "order": null,
            "_view_module_version": "1.2.0",
            "grid_template_areas": null,
            "object_position": null,
            "object_fit": null,
            "grid_auto_columns": null,
            "margin": null,
            "display": null,
            "left": null
          }
        },
        "c7f687c0efba44fdbc36f2c71430dd44": {
          "model_module": "@jupyter-widgets/controls",
          "model_name": "HBoxModel",
          "model_module_version": "1.5.0",
          "state": {
            "_view_name": "HBoxView",
            "_dom_classes": [],
            "_model_name": "HBoxModel",
            "_view_module": "@jupyter-widgets/controls",
            "_model_module_version": "1.5.0",
            "_view_count": null,
            "_view_module_version": "1.5.0",
            "box_style": "",
            "layout": "IPY_MODEL_e9b20ef03d384790a4bd7be22a4fadbe",
            "_model_module": "@jupyter-widgets/controls",
            "children": [
              "IPY_MODEL_7de10e8444d74820aa434af64bc3fe5c",
              "IPY_MODEL_dc6345fd3a80410a921944e561bf6a19",
              "IPY_MODEL_7ede65ab05cd4241801eb9a3c119c77d"
            ]
          }
        },
        "e9b20ef03d384790a4bd7be22a4fadbe": {
          "model_module": "@jupyter-widgets/base",
          "model_name": "LayoutModel",
          "model_module_version": "1.2.0",
          "state": {
            "_view_name": "LayoutView",
            "grid_template_rows": null,
            "right": null,
            "justify_content": null,
            "_view_module": "@jupyter-widgets/base",
            "overflow": null,
            "_model_module_version": "1.2.0",
            "_view_count": null,
            "flex_flow": null,
            "width": null,
            "min_width": null,
            "border": null,
            "align_items": null,
            "bottom": null,
            "_model_module": "@jupyter-widgets/base",
            "top": null,
            "grid_column": null,
            "overflow_y": null,
            "overflow_x": null,
            "grid_auto_flow": null,
            "grid_area": null,
            "grid_template_columns": null,
            "flex": null,
            "_model_name": "LayoutModel",
            "justify_items": null,
            "grid_row": null,
            "max_height": null,
            "align_content": null,
            "visibility": null,
            "align_self": null,
            "height": null,
            "min_height": null,
            "padding": null,
            "grid_auto_rows": null,
            "grid_gap": null,
            "max_width": null,
            "order": null,
            "_view_module_version": "1.2.0",
            "grid_template_areas": null,
            "object_position": null,
            "object_fit": null,
            "grid_auto_columns": null,
            "margin": null,
            "display": null,
            "left": null
          }
        },
        "7de10e8444d74820aa434af64bc3fe5c": {
          "model_module": "@jupyter-widgets/controls",
          "model_name": "HTMLModel",
          "model_module_version": "1.5.0",
          "state": {
            "_view_name": "HTMLView",
            "style": "IPY_MODEL_41e10811176a45e883c1c74d992823c5",
            "_dom_classes": [],
            "description": "",
            "_model_name": "HTMLModel",
            "placeholder": "​",
            "_view_module": "@jupyter-widgets/controls",
            "_model_module_version": "1.5.0",
            "value": "  0%",
            "_view_count": null,
            "_view_module_version": "1.5.0",
            "description_tooltip": null,
            "_model_module": "@jupyter-widgets/controls",
            "layout": "IPY_MODEL_34bec05b297c461599861b7f927ba2fd"
          }
        },
        "dc6345fd3a80410a921944e561bf6a19": {
          "model_module": "@jupyter-widgets/controls",
          "model_name": "FloatProgressModel",
          "model_module_version": "1.5.0",
          "state": {
            "_view_name": "ProgressView",
            "style": "IPY_MODEL_3ad4c7d89d7e4088bac51cbfd93d5e9d",
            "_dom_classes": [],
            "description": "",
            "_model_name": "FloatProgressModel",
            "bar_style": "danger",
            "max": 5317,
            "_view_module": "@jupyter-widgets/controls",
            "_model_module_version": "1.5.0",
            "value": 11,
            "_view_count": null,
            "_view_module_version": "1.5.0",
            "orientation": "horizontal",
            "min": 0,
            "description_tooltip": null,
            "_model_module": "@jupyter-widgets/controls",
            "layout": "IPY_MODEL_4180f42423f548f983e0973bc79827ed"
          }
        },
        "7ede65ab05cd4241801eb9a3c119c77d": {
          "model_module": "@jupyter-widgets/controls",
          "model_name": "HTMLModel",
          "model_module_version": "1.5.0",
          "state": {
            "_view_name": "HTMLView",
            "style": "IPY_MODEL_f76927f9958648baa827750857b0a9db",
            "_dom_classes": [],
            "description": "",
            "_model_name": "HTMLModel",
            "placeholder": "​",
            "_view_module": "@jupyter-widgets/controls",
            "_model_module_version": "1.5.0",
            "value": " 11/5317 [00:01&lt;07:00, 12.61it/s]",
            "_view_count": null,
            "_view_module_version": "1.5.0",
            "description_tooltip": null,
            "_model_module": "@jupyter-widgets/controls",
            "layout": "IPY_MODEL_30cd4489c8594068b9628d51ef097bf4"
          }
        },
        "41e10811176a45e883c1c74d992823c5": {
          "model_module": "@jupyter-widgets/controls",
          "model_name": "DescriptionStyleModel",
          "model_module_version": "1.5.0",
          "state": {
            "_view_name": "StyleView",
            "_model_name": "DescriptionStyleModel",
            "description_width": "",
            "_view_module": "@jupyter-widgets/base",
            "_model_module_version": "1.5.0",
            "_view_count": null,
            "_view_module_version": "1.2.0",
            "_model_module": "@jupyter-widgets/controls"
          }
        },
        "34bec05b297c461599861b7f927ba2fd": {
          "model_module": "@jupyter-widgets/base",
          "model_name": "LayoutModel",
          "model_module_version": "1.2.0",
          "state": {
            "_view_name": "LayoutView",
            "grid_template_rows": null,
            "right": null,
            "justify_content": null,
            "_view_module": "@jupyter-widgets/base",
            "overflow": null,
            "_model_module_version": "1.2.0",
            "_view_count": null,
            "flex_flow": null,
            "width": null,
            "min_width": null,
            "border": null,
            "align_items": null,
            "bottom": null,
            "_model_module": "@jupyter-widgets/base",
            "top": null,
            "grid_column": null,
            "overflow_y": null,
            "overflow_x": null,
            "grid_auto_flow": null,
            "grid_area": null,
            "grid_template_columns": null,
            "flex": null,
            "_model_name": "LayoutModel",
            "justify_items": null,
            "grid_row": null,
            "max_height": null,
            "align_content": null,
            "visibility": null,
            "align_self": null,
            "height": null,
            "min_height": null,
            "padding": null,
            "grid_auto_rows": null,
            "grid_gap": null,
            "max_width": null,
            "order": null,
            "_view_module_version": "1.2.0",
            "grid_template_areas": null,
            "object_position": null,
            "object_fit": null,
            "grid_auto_columns": null,
            "margin": null,
            "display": null,
            "left": null
          }
        },
        "3ad4c7d89d7e4088bac51cbfd93d5e9d": {
          "model_module": "@jupyter-widgets/controls",
          "model_name": "ProgressStyleModel",
          "model_module_version": "1.5.0",
          "state": {
            "_view_name": "StyleView",
            "_model_name": "ProgressStyleModel",
            "description_width": "",
            "_view_module": "@jupyter-widgets/base",
            "_model_module_version": "1.5.0",
            "_view_count": null,
            "_view_module_version": "1.2.0",
            "bar_color": null,
            "_model_module": "@jupyter-widgets/controls"
          }
        },
        "4180f42423f548f983e0973bc79827ed": {
          "model_module": "@jupyter-widgets/base",
          "model_name": "LayoutModel",
          "model_module_version": "1.2.0",
          "state": {
            "_view_name": "LayoutView",
            "grid_template_rows": null,
            "right": null,
            "justify_content": null,
            "_view_module": "@jupyter-widgets/base",
            "overflow": null,
            "_model_module_version": "1.2.0",
            "_view_count": null,
            "flex_flow": null,
            "width": null,
            "min_width": null,
            "border": null,
            "align_items": null,
            "bottom": null,
            "_model_module": "@jupyter-widgets/base",
            "top": null,
            "grid_column": null,
            "overflow_y": null,
            "overflow_x": null,
            "grid_auto_flow": null,
            "grid_area": null,
            "grid_template_columns": null,
            "flex": null,
            "_model_name": "LayoutModel",
            "justify_items": null,
            "grid_row": null,
            "max_height": null,
            "align_content": null,
            "visibility": null,
            "align_self": null,
            "height": null,
            "min_height": null,
            "padding": null,
            "grid_auto_rows": null,
            "grid_gap": null,
            "max_width": null,
            "order": null,
            "_view_module_version": "1.2.0",
            "grid_template_areas": null,
            "object_position": null,
            "object_fit": null,
            "grid_auto_columns": null,
            "margin": null,
            "display": null,
            "left": null
          }
        },
        "f76927f9958648baa827750857b0a9db": {
          "model_module": "@jupyter-widgets/controls",
          "model_name": "DescriptionStyleModel",
          "model_module_version": "1.5.0",
          "state": {
            "_view_name": "StyleView",
            "_model_name": "DescriptionStyleModel",
            "description_width": "",
            "_view_module": "@jupyter-widgets/base",
            "_model_module_version": "1.5.0",
            "_view_count": null,
            "_view_module_version": "1.2.0",
            "_model_module": "@jupyter-widgets/controls"
          }
        },
        "30cd4489c8594068b9628d51ef097bf4": {
          "model_module": "@jupyter-widgets/base",
          "model_name": "LayoutModel",
          "model_module_version": "1.2.0",
          "state": {
            "_view_name": "LayoutView",
            "grid_template_rows": null,
            "right": null,
            "justify_content": null,
            "_view_module": "@jupyter-widgets/base",
            "overflow": null,
            "_model_module_version": "1.2.0",
            "_view_count": null,
            "flex_flow": null,
            "width": null,
            "min_width": null,
            "border": null,
            "align_items": null,
            "bottom": null,
            "_model_module": "@jupyter-widgets/base",
            "top": null,
            "grid_column": null,
            "overflow_y": null,
            "overflow_x": null,
            "grid_auto_flow": null,
            "grid_area": null,
            "grid_template_columns": null,
            "flex": null,
            "_model_name": "LayoutModel",
            "justify_items": null,
            "grid_row": null,
            "max_height": null,
            "align_content": null,
            "visibility": null,
            "align_self": null,
            "height": null,
            "min_height": null,
            "padding": null,
            "grid_auto_rows": null,
            "grid_gap": null,
            "max_width": null,
            "order": null,
            "_view_module_version": "1.2.0",
            "grid_template_areas": null,
            "object_position": null,
            "object_fit": null,
            "grid_auto_columns": null,
            "margin": null,
            "display": null,
            "left": null
          }
        },
        "abc825f18157453c9449774d34aab838": {
          "model_module": "@jupyter-widgets/controls",
          "model_name": "HBoxModel",
          "model_module_version": "1.5.0",
          "state": {
            "_view_name": "HBoxView",
            "_dom_classes": [],
            "_model_name": "HBoxModel",
            "_view_module": "@jupyter-widgets/controls",
            "_model_module_version": "1.5.0",
            "_view_count": null,
            "_view_module_version": "1.5.0",
            "box_style": "",
            "layout": "IPY_MODEL_0818e97ce2e64704bcc268a08058fece",
            "_model_module": "@jupyter-widgets/controls",
            "children": [
              "IPY_MODEL_052a71bf440148f18e719018c2f1f709",
              "IPY_MODEL_c1859a0351444a70bf197c6d05b89bbc",
              "IPY_MODEL_ec14b103a68645bab04dc40847f7f17a"
            ]
          }
        },
        "0818e97ce2e64704bcc268a08058fece": {
          "model_module": "@jupyter-widgets/base",
          "model_name": "LayoutModel",
          "model_module_version": "1.2.0",
          "state": {
            "_view_name": "LayoutView",
            "grid_template_rows": null,
            "right": null,
            "justify_content": null,
            "_view_module": "@jupyter-widgets/base",
            "overflow": null,
            "_model_module_version": "1.2.0",
            "_view_count": null,
            "flex_flow": null,
            "width": null,
            "min_width": null,
            "border": null,
            "align_items": null,
            "bottom": null,
            "_model_module": "@jupyter-widgets/base",
            "top": null,
            "grid_column": null,
            "overflow_y": null,
            "overflow_x": null,
            "grid_auto_flow": null,
            "grid_area": null,
            "grid_template_columns": null,
            "flex": null,
            "_model_name": "LayoutModel",
            "justify_items": null,
            "grid_row": null,
            "max_height": null,
            "align_content": null,
            "visibility": null,
            "align_self": null,
            "height": null,
            "min_height": null,
            "padding": null,
            "grid_auto_rows": null,
            "grid_gap": null,
            "max_width": null,
            "order": null,
            "_view_module_version": "1.2.0",
            "grid_template_areas": null,
            "object_position": null,
            "object_fit": null,
            "grid_auto_columns": null,
            "margin": null,
            "display": null,
            "left": null
          }
        },
        "052a71bf440148f18e719018c2f1f709": {
          "model_module": "@jupyter-widgets/controls",
          "model_name": "HTMLModel",
          "model_module_version": "1.5.0",
          "state": {
            "_view_name": "HTMLView",
            "style": "IPY_MODEL_0cb240e4b19a452cae85d3a70cc34fc7",
            "_dom_classes": [],
            "description": "",
            "_model_name": "HTMLModel",
            "placeholder": "​",
            "_view_module": "@jupyter-widgets/controls",
            "_model_module_version": "1.5.0",
            "value": "Epoch 1 of 1: 100%",
            "_view_count": null,
            "_view_module_version": "1.5.0",
            "description_tooltip": null,
            "_model_module": "@jupyter-widgets/controls",
            "layout": "IPY_MODEL_32a7326583c842619cfd0af0fc3a893f"
          }
        },
        "c1859a0351444a70bf197c6d05b89bbc": {
          "model_module": "@jupyter-widgets/controls",
          "model_name": "FloatProgressModel",
          "model_module_version": "1.5.0",
          "state": {
            "_view_name": "ProgressView",
            "style": "IPY_MODEL_6a168452968743af8eb4b6914151cdd0",
            "_dom_classes": [],
            "description": "",
            "_model_name": "FloatProgressModel",
            "bar_style": "success",
            "max": 1,
            "_view_module": "@jupyter-widgets/controls",
            "_model_module_version": "1.5.0",
            "value": 1,
            "_view_count": null,
            "_view_module_version": "1.5.0",
            "orientation": "horizontal",
            "min": 0,
            "description_tooltip": null,
            "_model_module": "@jupyter-widgets/controls",
            "layout": "IPY_MODEL_aa56e88ac2ef488f8ce66b76fc27e652"
          }
        },
        "ec14b103a68645bab04dc40847f7f17a": {
          "model_module": "@jupyter-widgets/controls",
          "model_name": "HTMLModel",
          "model_module_version": "1.5.0",
          "state": {
            "_view_name": "HTMLView",
            "style": "IPY_MODEL_61d4863833e24db7925d073e1a5d9bc6",
            "_dom_classes": [],
            "description": "",
            "_model_name": "HTMLModel",
            "placeholder": "​",
            "_view_module": "@jupyter-widgets/controls",
            "_model_module_version": "1.5.0",
            "value": " 1/1 [00:25&lt;00:00, 25.49s/it]",
            "_view_count": null,
            "_view_module_version": "1.5.0",
            "description_tooltip": null,
            "_model_module": "@jupyter-widgets/controls",
            "layout": "IPY_MODEL_7df689e94d774f7da909fde9be16efa0"
          }
        },
        "0cb240e4b19a452cae85d3a70cc34fc7": {
          "model_module": "@jupyter-widgets/controls",
          "model_name": "DescriptionStyleModel",
          "model_module_version": "1.5.0",
          "state": {
            "_view_name": "StyleView",
            "_model_name": "DescriptionStyleModel",
            "description_width": "",
            "_view_module": "@jupyter-widgets/base",
            "_model_module_version": "1.5.0",
            "_view_count": null,
            "_view_module_version": "1.2.0",
            "_model_module": "@jupyter-widgets/controls"
          }
        },
        "32a7326583c842619cfd0af0fc3a893f": {
          "model_module": "@jupyter-widgets/base",
          "model_name": "LayoutModel",
          "model_module_version": "1.2.0",
          "state": {
            "_view_name": "LayoutView",
            "grid_template_rows": null,
            "right": null,
            "justify_content": null,
            "_view_module": "@jupyter-widgets/base",
            "overflow": null,
            "_model_module_version": "1.2.0",
            "_view_count": null,
            "flex_flow": null,
            "width": null,
            "min_width": null,
            "border": null,
            "align_items": null,
            "bottom": null,
            "_model_module": "@jupyter-widgets/base",
            "top": null,
            "grid_column": null,
            "overflow_y": null,
            "overflow_x": null,
            "grid_auto_flow": null,
            "grid_area": null,
            "grid_template_columns": null,
            "flex": null,
            "_model_name": "LayoutModel",
            "justify_items": null,
            "grid_row": null,
            "max_height": null,
            "align_content": null,
            "visibility": null,
            "align_self": null,
            "height": null,
            "min_height": null,
            "padding": null,
            "grid_auto_rows": null,
            "grid_gap": null,
            "max_width": null,
            "order": null,
            "_view_module_version": "1.2.0",
            "grid_template_areas": null,
            "object_position": null,
            "object_fit": null,
            "grid_auto_columns": null,
            "margin": null,
            "display": null,
            "left": null
          }
        },
        "6a168452968743af8eb4b6914151cdd0": {
          "model_module": "@jupyter-widgets/controls",
          "model_name": "ProgressStyleModel",
          "model_module_version": "1.5.0",
          "state": {
            "_view_name": "StyleView",
            "_model_name": "ProgressStyleModel",
            "description_width": "",
            "_view_module": "@jupyter-widgets/base",
            "_model_module_version": "1.5.0",
            "_view_count": null,
            "_view_module_version": "1.2.0",
            "bar_color": null,
            "_model_module": "@jupyter-widgets/controls"
          }
        },
        "aa56e88ac2ef488f8ce66b76fc27e652": {
          "model_module": "@jupyter-widgets/base",
          "model_name": "LayoutModel",
          "model_module_version": "1.2.0",
          "state": {
            "_view_name": "LayoutView",
            "grid_template_rows": null,
            "right": null,
            "justify_content": null,
            "_view_module": "@jupyter-widgets/base",
            "overflow": null,
            "_model_module_version": "1.2.0",
            "_view_count": null,
            "flex_flow": null,
            "width": null,
            "min_width": null,
            "border": null,
            "align_items": null,
            "bottom": null,
            "_model_module": "@jupyter-widgets/base",
            "top": null,
            "grid_column": null,
            "overflow_y": null,
            "overflow_x": null,
            "grid_auto_flow": null,
            "grid_area": null,
            "grid_template_columns": null,
            "flex": null,
            "_model_name": "LayoutModel",
            "justify_items": null,
            "grid_row": null,
            "max_height": null,
            "align_content": null,
            "visibility": null,
            "align_self": null,
            "height": null,
            "min_height": null,
            "padding": null,
            "grid_auto_rows": null,
            "grid_gap": null,
            "max_width": null,
            "order": null,
            "_view_module_version": "1.2.0",
            "grid_template_areas": null,
            "object_position": null,
            "object_fit": null,
            "grid_auto_columns": null,
            "margin": null,
            "display": null,
            "left": null
          }
        },
        "61d4863833e24db7925d073e1a5d9bc6": {
          "model_module": "@jupyter-widgets/controls",
          "model_name": "DescriptionStyleModel",
          "model_module_version": "1.5.0",
          "state": {
            "_view_name": "StyleView",
            "_model_name": "DescriptionStyleModel",
            "description_width": "",
            "_view_module": "@jupyter-widgets/base",
            "_model_module_version": "1.5.0",
            "_view_count": null,
            "_view_module_version": "1.2.0",
            "_model_module": "@jupyter-widgets/controls"
          }
        },
        "7df689e94d774f7da909fde9be16efa0": {
          "model_module": "@jupyter-widgets/base",
          "model_name": "LayoutModel",
          "model_module_version": "1.2.0",
          "state": {
            "_view_name": "LayoutView",
            "grid_template_rows": null,
            "right": null,
            "justify_content": null,
            "_view_module": "@jupyter-widgets/base",
            "overflow": null,
            "_model_module_version": "1.2.0",
            "_view_count": null,
            "flex_flow": null,
            "width": null,
            "min_width": null,
            "border": null,
            "align_items": null,
            "bottom": null,
            "_model_module": "@jupyter-widgets/base",
            "top": null,
            "grid_column": null,
            "overflow_y": null,
            "overflow_x": null,
            "grid_auto_flow": null,
            "grid_area": null,
            "grid_template_columns": null,
            "flex": null,
            "_model_name": "LayoutModel",
            "justify_items": null,
            "grid_row": null,
            "max_height": null,
            "align_content": null,
            "visibility": null,
            "align_self": null,
            "height": null,
            "min_height": null,
            "padding": null,
            "grid_auto_rows": null,
            "grid_gap": null,
            "max_width": null,
            "order": null,
            "_view_module_version": "1.2.0",
            "grid_template_areas": null,
            "object_position": null,
            "object_fit": null,
            "grid_auto_columns": null,
            "margin": null,
            "display": null,
            "left": null
          }
        },
        "45bb3b6dc4ff43909a84f0d7bc9cf82c": {
          "model_module": "@jupyter-widgets/controls",
          "model_name": "HBoxModel",
          "model_module_version": "1.5.0",
          "state": {
            "_view_name": "HBoxView",
            "_dom_classes": [],
            "_model_name": "HBoxModel",
            "_view_module": "@jupyter-widgets/controls",
            "_model_module_version": "1.5.0",
            "_view_count": null,
            "_view_module_version": "1.5.0",
            "box_style": "",
            "layout": "IPY_MODEL_8041e5d61a5a491fb4bee0ac530e50f1",
            "_model_module": "@jupyter-widgets/controls",
            "children": [
              "IPY_MODEL_79e6404e68a74843bcee5cace5fcbc5c",
              "IPY_MODEL_e4173dbc242e48e9a3cf82b686342a2a",
              "IPY_MODEL_d77ca39c46284b1c9e676382c71469a8"
            ]
          }
        },
        "8041e5d61a5a491fb4bee0ac530e50f1": {
          "model_module": "@jupyter-widgets/base",
          "model_name": "LayoutModel",
          "model_module_version": "1.2.0",
          "state": {
            "_view_name": "LayoutView",
            "grid_template_rows": null,
            "right": null,
            "justify_content": null,
            "_view_module": "@jupyter-widgets/base",
            "overflow": null,
            "_model_module_version": "1.2.0",
            "_view_count": null,
            "flex_flow": null,
            "width": null,
            "min_width": null,
            "border": null,
            "align_items": null,
            "bottom": null,
            "_model_module": "@jupyter-widgets/base",
            "top": null,
            "grid_column": null,
            "overflow_y": null,
            "overflow_x": null,
            "grid_auto_flow": null,
            "grid_area": null,
            "grid_template_columns": null,
            "flex": null,
            "_model_name": "LayoutModel",
            "justify_items": null,
            "grid_row": null,
            "max_height": null,
            "align_content": null,
            "visibility": null,
            "align_self": null,
            "height": null,
            "min_height": null,
            "padding": null,
            "grid_auto_rows": null,
            "grid_gap": null,
            "max_width": null,
            "order": null,
            "_view_module_version": "1.2.0",
            "grid_template_areas": null,
            "object_position": null,
            "object_fit": null,
            "grid_auto_columns": null,
            "margin": null,
            "display": null,
            "left": null
          }
        },
        "79e6404e68a74843bcee5cace5fcbc5c": {
          "model_module": "@jupyter-widgets/controls",
          "model_name": "HTMLModel",
          "model_module_version": "1.5.0",
          "state": {
            "_view_name": "HTMLView",
            "style": "IPY_MODEL_db65348da7cb4cf5abacb9432cdf6a13",
            "_dom_classes": [],
            "description": "",
            "_model_name": "HTMLModel",
            "placeholder": "​",
            "_view_module": "@jupyter-widgets/controls",
            "_model_module_version": "1.5.0",
            "value": "Epochs 0/1. Running Loss:    0.1877: 100%",
            "_view_count": null,
            "_view_module_version": "1.5.0",
            "description_tooltip": null,
            "_model_module": "@jupyter-widgets/controls",
            "layout": "IPY_MODEL_3dffde9346924bf5a7a5cba8f30add9d"
          }
        },
        "e4173dbc242e48e9a3cf82b686342a2a": {
          "model_module": "@jupyter-widgets/controls",
          "model_name": "FloatProgressModel",
          "model_module_version": "1.5.0",
          "state": {
            "_view_name": "ProgressView",
            "style": "IPY_MODEL_9a7966e38bcd453e97a30dc7a47e7b8d",
            "_dom_classes": [],
            "description": "",
            "_model_name": "FloatProgressModel",
            "bar_style": "success",
            "max": 167,
            "_view_module": "@jupyter-widgets/controls",
            "_model_module_version": "1.5.0",
            "value": 167,
            "_view_count": null,
            "_view_module_version": "1.5.0",
            "orientation": "horizontal",
            "min": 0,
            "description_tooltip": null,
            "_model_module": "@jupyter-widgets/controls",
            "layout": "IPY_MODEL_c25bc8376439485d90ab50ab9bbf2bdf"
          }
        },
        "d77ca39c46284b1c9e676382c71469a8": {
          "model_module": "@jupyter-widgets/controls",
          "model_name": "HTMLModel",
          "model_module_version": "1.5.0",
          "state": {
            "_view_name": "HTMLView",
            "style": "IPY_MODEL_c6e99c55fb9d4800b843a20e1e1906b2",
            "_dom_classes": [],
            "description": "",
            "_model_name": "HTMLModel",
            "placeholder": "​",
            "_view_module": "@jupyter-widgets/controls",
            "_model_module_version": "1.5.0",
            "value": " 167/167 [00:16&lt;00:00, 10.68it/s]",
            "_view_count": null,
            "_view_module_version": "1.5.0",
            "description_tooltip": null,
            "_model_module": "@jupyter-widgets/controls",
            "layout": "IPY_MODEL_eb7044fe07f54a7d8ef53ce1d16f86da"
          }
        },
        "db65348da7cb4cf5abacb9432cdf6a13": {
          "model_module": "@jupyter-widgets/controls",
          "model_name": "DescriptionStyleModel",
          "model_module_version": "1.5.0",
          "state": {
            "_view_name": "StyleView",
            "_model_name": "DescriptionStyleModel",
            "description_width": "",
            "_view_module": "@jupyter-widgets/base",
            "_model_module_version": "1.5.0",
            "_view_count": null,
            "_view_module_version": "1.2.0",
            "_model_module": "@jupyter-widgets/controls"
          }
        },
        "3dffde9346924bf5a7a5cba8f30add9d": {
          "model_module": "@jupyter-widgets/base",
          "model_name": "LayoutModel",
          "model_module_version": "1.2.0",
          "state": {
            "_view_name": "LayoutView",
            "grid_template_rows": null,
            "right": null,
            "justify_content": null,
            "_view_module": "@jupyter-widgets/base",
            "overflow": null,
            "_model_module_version": "1.2.0",
            "_view_count": null,
            "flex_flow": null,
            "width": null,
            "min_width": null,
            "border": null,
            "align_items": null,
            "bottom": null,
            "_model_module": "@jupyter-widgets/base",
            "top": null,
            "grid_column": null,
            "overflow_y": null,
            "overflow_x": null,
            "grid_auto_flow": null,
            "grid_area": null,
            "grid_template_columns": null,
            "flex": null,
            "_model_name": "LayoutModel",
            "justify_items": null,
            "grid_row": null,
            "max_height": null,
            "align_content": null,
            "visibility": null,
            "align_self": null,
            "height": null,
            "min_height": null,
            "padding": null,
            "grid_auto_rows": null,
            "grid_gap": null,
            "max_width": null,
            "order": null,
            "_view_module_version": "1.2.0",
            "grid_template_areas": null,
            "object_position": null,
            "object_fit": null,
            "grid_auto_columns": null,
            "margin": null,
            "display": null,
            "left": null
          }
        },
        "9a7966e38bcd453e97a30dc7a47e7b8d": {
          "model_module": "@jupyter-widgets/controls",
          "model_name": "ProgressStyleModel",
          "model_module_version": "1.5.0",
          "state": {
            "_view_name": "StyleView",
            "_model_name": "ProgressStyleModel",
            "description_width": "",
            "_view_module": "@jupyter-widgets/base",
            "_model_module_version": "1.5.0",
            "_view_count": null,
            "_view_module_version": "1.2.0",
            "bar_color": null,
            "_model_module": "@jupyter-widgets/controls"
          }
        },
        "c25bc8376439485d90ab50ab9bbf2bdf": {
          "model_module": "@jupyter-widgets/base",
          "model_name": "LayoutModel",
          "model_module_version": "1.2.0",
          "state": {
            "_view_name": "LayoutView",
            "grid_template_rows": null,
            "right": null,
            "justify_content": null,
            "_view_module": "@jupyter-widgets/base",
            "overflow": null,
            "_model_module_version": "1.2.0",
            "_view_count": null,
            "flex_flow": null,
            "width": null,
            "min_width": null,
            "border": null,
            "align_items": null,
            "bottom": null,
            "_model_module": "@jupyter-widgets/base",
            "top": null,
            "grid_column": null,
            "overflow_y": null,
            "overflow_x": null,
            "grid_auto_flow": null,
            "grid_area": null,
            "grid_template_columns": null,
            "flex": null,
            "_model_name": "LayoutModel",
            "justify_items": null,
            "grid_row": null,
            "max_height": null,
            "align_content": null,
            "visibility": null,
            "align_self": null,
            "height": null,
            "min_height": null,
            "padding": null,
            "grid_auto_rows": null,
            "grid_gap": null,
            "max_width": null,
            "order": null,
            "_view_module_version": "1.2.0",
            "grid_template_areas": null,
            "object_position": null,
            "object_fit": null,
            "grid_auto_columns": null,
            "margin": null,
            "display": null,
            "left": null
          }
        },
        "c6e99c55fb9d4800b843a20e1e1906b2": {
          "model_module": "@jupyter-widgets/controls",
          "model_name": "DescriptionStyleModel",
          "model_module_version": "1.5.0",
          "state": {
            "_view_name": "StyleView",
            "_model_name": "DescriptionStyleModel",
            "description_width": "",
            "_view_module": "@jupyter-widgets/base",
            "_model_module_version": "1.5.0",
            "_view_count": null,
            "_view_module_version": "1.2.0",
            "_model_module": "@jupyter-widgets/controls"
          }
        },
        "eb7044fe07f54a7d8ef53ce1d16f86da": {
          "model_module": "@jupyter-widgets/base",
          "model_name": "LayoutModel",
          "model_module_version": "1.2.0",
          "state": {
            "_view_name": "LayoutView",
            "grid_template_rows": null,
            "right": null,
            "justify_content": null,
            "_view_module": "@jupyter-widgets/base",
            "overflow": null,
            "_model_module_version": "1.2.0",
            "_view_count": null,
            "flex_flow": null,
            "width": null,
            "min_width": null,
            "border": null,
            "align_items": null,
            "bottom": null,
            "_model_module": "@jupyter-widgets/base",
            "top": null,
            "grid_column": null,
            "overflow_y": null,
            "overflow_x": null,
            "grid_auto_flow": null,
            "grid_area": null,
            "grid_template_columns": null,
            "flex": null,
            "_model_name": "LayoutModel",
            "justify_items": null,
            "grid_row": null,
            "max_height": null,
            "align_content": null,
            "visibility": null,
            "align_self": null,
            "height": null,
            "min_height": null,
            "padding": null,
            "grid_auto_rows": null,
            "grid_gap": null,
            "max_width": null,
            "order": null,
            "_view_module_version": "1.2.0",
            "grid_template_areas": null,
            "object_position": null,
            "object_fit": null,
            "grid_auto_columns": null,
            "margin": null,
            "display": null,
            "left": null
          }
        },
        "d438c3454c3e4d149e46ead8b6d496c9": {
          "model_module": "@jupyter-widgets/controls",
          "model_name": "HBoxModel",
          "model_module_version": "1.5.0",
          "state": {
            "_view_name": "HBoxView",
            "_dom_classes": [],
            "_model_name": "HBoxModel",
            "_view_module": "@jupyter-widgets/controls",
            "_model_module_version": "1.5.0",
            "_view_count": null,
            "_view_module_version": "1.5.0",
            "box_style": "",
            "layout": "IPY_MODEL_606741c21c254657bba0a043bbf7c570",
            "_model_module": "@jupyter-widgets/controls",
            "children": [
              "IPY_MODEL_43d7656f0ddb46bca5d07ac07d1fb97c",
              "IPY_MODEL_620c395a405743afb26d99019597b69e",
              "IPY_MODEL_722a1401379d4bc3b5f939fd0ad02813"
            ]
          }
        },
        "606741c21c254657bba0a043bbf7c570": {
          "model_module": "@jupyter-widgets/base",
          "model_name": "LayoutModel",
          "model_module_version": "1.2.0",
          "state": {
            "_view_name": "LayoutView",
            "grid_template_rows": null,
            "right": null,
            "justify_content": null,
            "_view_module": "@jupyter-widgets/base",
            "overflow": null,
            "_model_module_version": "1.2.0",
            "_view_count": null,
            "flex_flow": null,
            "width": null,
            "min_width": null,
            "border": null,
            "align_items": null,
            "bottom": null,
            "_model_module": "@jupyter-widgets/base",
            "top": null,
            "grid_column": null,
            "overflow_y": null,
            "overflow_x": null,
            "grid_auto_flow": null,
            "grid_area": null,
            "grid_template_columns": null,
            "flex": null,
            "_model_name": "LayoutModel",
            "justify_items": null,
            "grid_row": null,
            "max_height": null,
            "align_content": null,
            "visibility": null,
            "align_self": null,
            "height": null,
            "min_height": null,
            "padding": null,
            "grid_auto_rows": null,
            "grid_gap": null,
            "max_width": null,
            "order": null,
            "_view_module_version": "1.2.0",
            "grid_template_areas": null,
            "object_position": null,
            "object_fit": null,
            "grid_auto_columns": null,
            "margin": null,
            "display": null,
            "left": null
          }
        },
        "43d7656f0ddb46bca5d07ac07d1fb97c": {
          "model_module": "@jupyter-widgets/controls",
          "model_name": "HTMLModel",
          "model_module_version": "1.5.0",
          "state": {
            "_view_name": "HTMLView",
            "style": "IPY_MODEL_3b9fb995af8b4995a2f1701fe0def61f",
            "_dom_classes": [],
            "description": "",
            "_model_name": "HTMLModel",
            "placeholder": "​",
            "_view_module": "@jupyter-widgets/controls",
            "_model_module_version": "1.5.0",
            "value": "  0%",
            "_view_count": null,
            "_view_module_version": "1.5.0",
            "description_tooltip": null,
            "_model_module": "@jupyter-widgets/controls",
            "layout": "IPY_MODEL_3a9822ffdeb34941b9eeaf55c6e0b0a4"
          }
        },
        "620c395a405743afb26d99019597b69e": {
          "model_module": "@jupyter-widgets/controls",
          "model_name": "FloatProgressModel",
          "model_module_version": "1.5.0",
          "state": {
            "_view_name": "ProgressView",
            "style": "IPY_MODEL_b0b81164591f4729beddd7d79992d7e9",
            "_dom_classes": [],
            "description": "",
            "_model_name": "FloatProgressModel",
            "bar_style": "danger",
            "max": 1520,
            "_view_module": "@jupyter-widgets/controls",
            "_model_module_version": "1.5.0",
            "value": 4,
            "_view_count": null,
            "_view_module_version": "1.5.0",
            "orientation": "horizontal",
            "min": 0,
            "description_tooltip": null,
            "_model_module": "@jupyter-widgets/controls",
            "layout": "IPY_MODEL_1bd20d5e13774d569674702af00b3543"
          }
        },
        "722a1401379d4bc3b5f939fd0ad02813": {
          "model_module": "@jupyter-widgets/controls",
          "model_name": "HTMLModel",
          "model_module_version": "1.5.0",
          "state": {
            "_view_name": "HTMLView",
            "style": "IPY_MODEL_4a8a38b441cc4d788fb362f7b168d1f3",
            "_dom_classes": [],
            "description": "",
            "_model_name": "HTMLModel",
            "placeholder": "​",
            "_view_module": "@jupyter-widgets/controls",
            "_model_module_version": "1.5.0",
            "value": " 4/1520 [00:00&lt;03:42,  6.82it/s]",
            "_view_count": null,
            "_view_module_version": "1.5.0",
            "description_tooltip": null,
            "_model_module": "@jupyter-widgets/controls",
            "layout": "IPY_MODEL_26c45a517cd54a3a8e9fc534a047caf9"
          }
        },
        "3b9fb995af8b4995a2f1701fe0def61f": {
          "model_module": "@jupyter-widgets/controls",
          "model_name": "DescriptionStyleModel",
          "model_module_version": "1.5.0",
          "state": {
            "_view_name": "StyleView",
            "_model_name": "DescriptionStyleModel",
            "description_width": "",
            "_view_module": "@jupyter-widgets/base",
            "_model_module_version": "1.5.0",
            "_view_count": null,
            "_view_module_version": "1.2.0",
            "_model_module": "@jupyter-widgets/controls"
          }
        },
        "3a9822ffdeb34941b9eeaf55c6e0b0a4": {
          "model_module": "@jupyter-widgets/base",
          "model_name": "LayoutModel",
          "model_module_version": "1.2.0",
          "state": {
            "_view_name": "LayoutView",
            "grid_template_rows": null,
            "right": null,
            "justify_content": null,
            "_view_module": "@jupyter-widgets/base",
            "overflow": null,
            "_model_module_version": "1.2.0",
            "_view_count": null,
            "flex_flow": null,
            "width": null,
            "min_width": null,
            "border": null,
            "align_items": null,
            "bottom": null,
            "_model_module": "@jupyter-widgets/base",
            "top": null,
            "grid_column": null,
            "overflow_y": null,
            "overflow_x": null,
            "grid_auto_flow": null,
            "grid_area": null,
            "grid_template_columns": null,
            "flex": null,
            "_model_name": "LayoutModel",
            "justify_items": null,
            "grid_row": null,
            "max_height": null,
            "align_content": null,
            "visibility": null,
            "align_self": null,
            "height": null,
            "min_height": null,
            "padding": null,
            "grid_auto_rows": null,
            "grid_gap": null,
            "max_width": null,
            "order": null,
            "_view_module_version": "1.2.0",
            "grid_template_areas": null,
            "object_position": null,
            "object_fit": null,
            "grid_auto_columns": null,
            "margin": null,
            "display": null,
            "left": null
          }
        },
        "b0b81164591f4729beddd7d79992d7e9": {
          "model_module": "@jupyter-widgets/controls",
          "model_name": "ProgressStyleModel",
          "model_module_version": "1.5.0",
          "state": {
            "_view_name": "StyleView",
            "_model_name": "ProgressStyleModel",
            "description_width": "",
            "_view_module": "@jupyter-widgets/base",
            "_model_module_version": "1.5.0",
            "_view_count": null,
            "_view_module_version": "1.2.0",
            "bar_color": null,
            "_model_module": "@jupyter-widgets/controls"
          }
        },
        "1bd20d5e13774d569674702af00b3543": {
          "model_module": "@jupyter-widgets/base",
          "model_name": "LayoutModel",
          "model_module_version": "1.2.0",
          "state": {
            "_view_name": "LayoutView",
            "grid_template_rows": null,
            "right": null,
            "justify_content": null,
            "_view_module": "@jupyter-widgets/base",
            "overflow": null,
            "_model_module_version": "1.2.0",
            "_view_count": null,
            "flex_flow": null,
            "width": null,
            "min_width": null,
            "border": null,
            "align_items": null,
            "bottom": null,
            "_model_module": "@jupyter-widgets/base",
            "top": null,
            "grid_column": null,
            "overflow_y": null,
            "overflow_x": null,
            "grid_auto_flow": null,
            "grid_area": null,
            "grid_template_columns": null,
            "flex": null,
            "_model_name": "LayoutModel",
            "justify_items": null,
            "grid_row": null,
            "max_height": null,
            "align_content": null,
            "visibility": null,
            "align_self": null,
            "height": null,
            "min_height": null,
            "padding": null,
            "grid_auto_rows": null,
            "grid_gap": null,
            "max_width": null,
            "order": null,
            "_view_module_version": "1.2.0",
            "grid_template_areas": null,
            "object_position": null,
            "object_fit": null,
            "grid_auto_columns": null,
            "margin": null,
            "display": null,
            "left": null
          }
        },
        "4a8a38b441cc4d788fb362f7b168d1f3": {
          "model_module": "@jupyter-widgets/controls",
          "model_name": "DescriptionStyleModel",
          "model_module_version": "1.5.0",
          "state": {
            "_view_name": "StyleView",
            "_model_name": "DescriptionStyleModel",
            "description_width": "",
            "_view_module": "@jupyter-widgets/base",
            "_model_module_version": "1.5.0",
            "_view_count": null,
            "_view_module_version": "1.2.0",
            "_model_module": "@jupyter-widgets/controls"
          }
        },
        "26c45a517cd54a3a8e9fc534a047caf9": {
          "model_module": "@jupyter-widgets/base",
          "model_name": "LayoutModel",
          "model_module_version": "1.2.0",
          "state": {
            "_view_name": "LayoutView",
            "grid_template_rows": null,
            "right": null,
            "justify_content": null,
            "_view_module": "@jupyter-widgets/base",
            "overflow": null,
            "_model_module_version": "1.2.0",
            "_view_count": null,
            "flex_flow": null,
            "width": null,
            "min_width": null,
            "border": null,
            "align_items": null,
            "bottom": null,
            "_model_module": "@jupyter-widgets/base",
            "top": null,
            "grid_column": null,
            "overflow_y": null,
            "overflow_x": null,
            "grid_auto_flow": null,
            "grid_area": null,
            "grid_template_columns": null,
            "flex": null,
            "_model_name": "LayoutModel",
            "justify_items": null,
            "grid_row": null,
            "max_height": null,
            "align_content": null,
            "visibility": null,
            "align_self": null,
            "height": null,
            "min_height": null,
            "padding": null,
            "grid_auto_rows": null,
            "grid_gap": null,
            "max_width": null,
            "order": null,
            "_view_module_version": "1.2.0",
            "grid_template_areas": null,
            "object_position": null,
            "object_fit": null,
            "grid_auto_columns": null,
            "margin": null,
            "display": null,
            "left": null
          }
        },
        "d3557a0f8615438aa8786c5b6c5b191f": {
          "model_module": "@jupyter-widgets/controls",
          "model_name": "HBoxModel",
          "model_module_version": "1.5.0",
          "state": {
            "_view_name": "HBoxView",
            "_dom_classes": [],
            "_model_name": "HBoxModel",
            "_view_module": "@jupyter-widgets/controls",
            "_model_module_version": "1.5.0",
            "_view_count": null,
            "_view_module_version": "1.5.0",
            "box_style": "",
            "layout": "IPY_MODEL_7516cc1f5ef74abca8fdbd193a28152f",
            "_model_module": "@jupyter-widgets/controls",
            "children": [
              "IPY_MODEL_392803f608574094ac28c84407b84d9e",
              "IPY_MODEL_2145258edbe644cf99c267891f4baf63",
              "IPY_MODEL_161aa3d208a34d95ad931c12861ac860"
            ]
          }
        },
        "7516cc1f5ef74abca8fdbd193a28152f": {
          "model_module": "@jupyter-widgets/base",
          "model_name": "LayoutModel",
          "model_module_version": "1.2.0",
          "state": {
            "_view_name": "LayoutView",
            "grid_template_rows": null,
            "right": null,
            "justify_content": null,
            "_view_module": "@jupyter-widgets/base",
            "overflow": null,
            "_model_module_version": "1.2.0",
            "_view_count": null,
            "flex_flow": null,
            "width": null,
            "min_width": null,
            "border": null,
            "align_items": null,
            "bottom": null,
            "_model_module": "@jupyter-widgets/base",
            "top": null,
            "grid_column": null,
            "overflow_y": null,
            "overflow_x": null,
            "grid_auto_flow": null,
            "grid_area": null,
            "grid_template_columns": null,
            "flex": null,
            "_model_name": "LayoutModel",
            "justify_items": null,
            "grid_row": null,
            "max_height": null,
            "align_content": null,
            "visibility": null,
            "align_self": null,
            "height": null,
            "min_height": null,
            "padding": null,
            "grid_auto_rows": null,
            "grid_gap": null,
            "max_width": null,
            "order": null,
            "_view_module_version": "1.2.0",
            "grid_template_areas": null,
            "object_position": null,
            "object_fit": null,
            "grid_auto_columns": null,
            "margin": null,
            "display": null,
            "left": null
          }
        },
        "392803f608574094ac28c84407b84d9e": {
          "model_module": "@jupyter-widgets/controls",
          "model_name": "HTMLModel",
          "model_module_version": "1.5.0",
          "state": {
            "_view_name": "HTMLView",
            "style": "IPY_MODEL_5c9f366a99ab4f1aa2fe70365ec31406",
            "_dom_classes": [],
            "description": "",
            "_model_name": "HTMLModel",
            "placeholder": "​",
            "_view_module": "@jupyter-widgets/controls",
            "_model_module_version": "1.5.0",
            "value": "Running Evaluation: 100%",
            "_view_count": null,
            "_view_module_version": "1.5.0",
            "description_tooltip": null,
            "_model_module": "@jupyter-widgets/controls",
            "layout": "IPY_MODEL_f17334c2a4dd413f880ca11819f5cd4b"
          }
        },
        "2145258edbe644cf99c267891f4baf63": {
          "model_module": "@jupyter-widgets/controls",
          "model_name": "FloatProgressModel",
          "model_module_version": "1.5.0",
          "state": {
            "_view_name": "ProgressView",
            "style": "IPY_MODEL_2fd6ca01c8fc4a5bb0a3961f1138319c",
            "_dom_classes": [],
            "description": "",
            "_model_name": "FloatProgressModel",
            "bar_style": "success",
            "max": 190,
            "_view_module": "@jupyter-widgets/controls",
            "_model_module_version": "1.5.0",
            "value": 190,
            "_view_count": null,
            "_view_module_version": "1.5.0",
            "orientation": "horizontal",
            "min": 0,
            "description_tooltip": null,
            "_model_module": "@jupyter-widgets/controls",
            "layout": "IPY_MODEL_1f104f2b39d545d3b23e551b9c9f1d72"
          }
        },
        "161aa3d208a34d95ad931c12861ac860": {
          "model_module": "@jupyter-widgets/controls",
          "model_name": "HTMLModel",
          "model_module_version": "1.5.0",
          "state": {
            "_view_name": "HTMLView",
            "style": "IPY_MODEL_d1a580e8862c4b7e9f018df591ed0f03",
            "_dom_classes": [],
            "description": "",
            "_model_name": "HTMLModel",
            "placeholder": "​",
            "_view_module": "@jupyter-widgets/controls",
            "_model_module_version": "1.5.0",
            "value": " 190/190 [00:03&lt;00:00, 57.19it/s]",
            "_view_count": null,
            "_view_module_version": "1.5.0",
            "description_tooltip": null,
            "_model_module": "@jupyter-widgets/controls",
            "layout": "IPY_MODEL_2de18eb72cb245af9b2df8a4239eb67c"
          }
        },
        "5c9f366a99ab4f1aa2fe70365ec31406": {
          "model_module": "@jupyter-widgets/controls",
          "model_name": "DescriptionStyleModel",
          "model_module_version": "1.5.0",
          "state": {
            "_view_name": "StyleView",
            "_model_name": "DescriptionStyleModel",
            "description_width": "",
            "_view_module": "@jupyter-widgets/base",
            "_model_module_version": "1.5.0",
            "_view_count": null,
            "_view_module_version": "1.2.0",
            "_model_module": "@jupyter-widgets/controls"
          }
        },
        "f17334c2a4dd413f880ca11819f5cd4b": {
          "model_module": "@jupyter-widgets/base",
          "model_name": "LayoutModel",
          "model_module_version": "1.2.0",
          "state": {
            "_view_name": "LayoutView",
            "grid_template_rows": null,
            "right": null,
            "justify_content": null,
            "_view_module": "@jupyter-widgets/base",
            "overflow": null,
            "_model_module_version": "1.2.0",
            "_view_count": null,
            "flex_flow": null,
            "width": null,
            "min_width": null,
            "border": null,
            "align_items": null,
            "bottom": null,
            "_model_module": "@jupyter-widgets/base",
            "top": null,
            "grid_column": null,
            "overflow_y": null,
            "overflow_x": null,
            "grid_auto_flow": null,
            "grid_area": null,
            "grid_template_columns": null,
            "flex": null,
            "_model_name": "LayoutModel",
            "justify_items": null,
            "grid_row": null,
            "max_height": null,
            "align_content": null,
            "visibility": null,
            "align_self": null,
            "height": null,
            "min_height": null,
            "padding": null,
            "grid_auto_rows": null,
            "grid_gap": null,
            "max_width": null,
            "order": null,
            "_view_module_version": "1.2.0",
            "grid_template_areas": null,
            "object_position": null,
            "object_fit": null,
            "grid_auto_columns": null,
            "margin": null,
            "display": null,
            "left": null
          }
        },
        "2fd6ca01c8fc4a5bb0a3961f1138319c": {
          "model_module": "@jupyter-widgets/controls",
          "model_name": "ProgressStyleModel",
          "model_module_version": "1.5.0",
          "state": {
            "_view_name": "StyleView",
            "_model_name": "ProgressStyleModel",
            "description_width": "",
            "_view_module": "@jupyter-widgets/base",
            "_model_module_version": "1.5.0",
            "_view_count": null,
            "_view_module_version": "1.2.0",
            "bar_color": null,
            "_model_module": "@jupyter-widgets/controls"
          }
        },
        "1f104f2b39d545d3b23e551b9c9f1d72": {
          "model_module": "@jupyter-widgets/base",
          "model_name": "LayoutModel",
          "model_module_version": "1.2.0",
          "state": {
            "_view_name": "LayoutView",
            "grid_template_rows": null,
            "right": null,
            "justify_content": null,
            "_view_module": "@jupyter-widgets/base",
            "overflow": null,
            "_model_module_version": "1.2.0",
            "_view_count": null,
            "flex_flow": null,
            "width": null,
            "min_width": null,
            "border": null,
            "align_items": null,
            "bottom": null,
            "_model_module": "@jupyter-widgets/base",
            "top": null,
            "grid_column": null,
            "overflow_y": null,
            "overflow_x": null,
            "grid_auto_flow": null,
            "grid_area": null,
            "grid_template_columns": null,
            "flex": null,
            "_model_name": "LayoutModel",
            "justify_items": null,
            "grid_row": null,
            "max_height": null,
            "align_content": null,
            "visibility": null,
            "align_self": null,
            "height": null,
            "min_height": null,
            "padding": null,
            "grid_auto_rows": null,
            "grid_gap": null,
            "max_width": null,
            "order": null,
            "_view_module_version": "1.2.0",
            "grid_template_areas": null,
            "object_position": null,
            "object_fit": null,
            "grid_auto_columns": null,
            "margin": null,
            "display": null,
            "left": null
          }
        },
        "d1a580e8862c4b7e9f018df591ed0f03": {
          "model_module": "@jupyter-widgets/controls",
          "model_name": "DescriptionStyleModel",
          "model_module_version": "1.5.0",
          "state": {
            "_view_name": "StyleView",
            "_model_name": "DescriptionStyleModel",
            "description_width": "",
            "_view_module": "@jupyter-widgets/base",
            "_model_module_version": "1.5.0",
            "_view_count": null,
            "_view_module_version": "1.2.0",
            "_model_module": "@jupyter-widgets/controls"
          }
        },
        "2de18eb72cb245af9b2df8a4239eb67c": {
          "model_module": "@jupyter-widgets/base",
          "model_name": "LayoutModel",
          "model_module_version": "1.2.0",
          "state": {
            "_view_name": "LayoutView",
            "grid_template_rows": null,
            "right": null,
            "justify_content": null,
            "_view_module": "@jupyter-widgets/base",
            "overflow": null,
            "_model_module_version": "1.2.0",
            "_view_count": null,
            "flex_flow": null,
            "width": null,
            "min_width": null,
            "border": null,
            "align_items": null,
            "bottom": null,
            "_model_module": "@jupyter-widgets/base",
            "top": null,
            "grid_column": null,
            "overflow_y": null,
            "overflow_x": null,
            "grid_auto_flow": null,
            "grid_area": null,
            "grid_template_columns": null,
            "flex": null,
            "_model_name": "LayoutModel",
            "justify_items": null,
            "grid_row": null,
            "max_height": null,
            "align_content": null,
            "visibility": null,
            "align_self": null,
            "height": null,
            "min_height": null,
            "padding": null,
            "grid_auto_rows": null,
            "grid_gap": null,
            "max_width": null,
            "order": null,
            "_view_module_version": "1.2.0",
            "grid_template_areas": null,
            "object_position": null,
            "object_fit": null,
            "grid_auto_columns": null,
            "margin": null,
            "display": null,
            "left": null
          }
        },
        "369c4234c9dd42c4b5f40aaa99b20594": {
          "model_module": "@jupyter-widgets/controls",
          "model_name": "HBoxModel",
          "model_module_version": "1.5.0",
          "state": {
            "_view_name": "HBoxView",
            "_dom_classes": [],
            "_model_name": "HBoxModel",
            "_view_module": "@jupyter-widgets/controls",
            "_model_module_version": "1.5.0",
            "_view_count": null,
            "_view_module_version": "1.5.0",
            "box_style": "",
            "layout": "IPY_MODEL_e71c3bcec0ec4785bcfa3aaa5370a616",
            "_model_module": "@jupyter-widgets/controls",
            "children": [
              "IPY_MODEL_c50aeb53ae6146f7af9422001f101bd4",
              "IPY_MODEL_b54aa4c05bbf4589943789a7672d2507",
              "IPY_MODEL_1ab664acf6d547d6903236f4b90dd80f"
            ]
          }
        },
        "e71c3bcec0ec4785bcfa3aaa5370a616": {
          "model_module": "@jupyter-widgets/base",
          "model_name": "LayoutModel",
          "model_module_version": "1.2.0",
          "state": {
            "_view_name": "LayoutView",
            "grid_template_rows": null,
            "right": null,
            "justify_content": null,
            "_view_module": "@jupyter-widgets/base",
            "overflow": null,
            "_model_module_version": "1.2.0",
            "_view_count": null,
            "flex_flow": null,
            "width": null,
            "min_width": null,
            "border": null,
            "align_items": null,
            "bottom": null,
            "_model_module": "@jupyter-widgets/base",
            "top": null,
            "grid_column": null,
            "overflow_y": null,
            "overflow_x": null,
            "grid_auto_flow": null,
            "grid_area": null,
            "grid_template_columns": null,
            "flex": null,
            "_model_name": "LayoutModel",
            "justify_items": null,
            "grid_row": null,
            "max_height": null,
            "align_content": null,
            "visibility": null,
            "align_self": null,
            "height": null,
            "min_height": null,
            "padding": null,
            "grid_auto_rows": null,
            "grid_gap": null,
            "max_width": null,
            "order": null,
            "_view_module_version": "1.2.0",
            "grid_template_areas": null,
            "object_position": null,
            "object_fit": null,
            "grid_auto_columns": null,
            "margin": null,
            "display": null,
            "left": null
          }
        },
        "c50aeb53ae6146f7af9422001f101bd4": {
          "model_module": "@jupyter-widgets/controls",
          "model_name": "HTMLModel",
          "model_module_version": "1.5.0",
          "state": {
            "_view_name": "HTMLView",
            "style": "IPY_MODEL_ff3b510d43dc45878e782bd66ebf1c28",
            "_dom_classes": [],
            "description": "",
            "_model_name": "HTMLModel",
            "placeholder": "​",
            "_view_module": "@jupyter-widgets/controls",
            "_model_module_version": "1.5.0",
            "value": "  4%",
            "_view_count": null,
            "_view_module_version": "1.5.0",
            "description_tooltip": null,
            "_model_module": "@jupyter-widgets/controls",
            "layout": "IPY_MODEL_eb1abfb7608b4bcf991ad1c3e7fdaf40"
          }
        },
        "b54aa4c05bbf4589943789a7672d2507": {
          "model_module": "@jupyter-widgets/controls",
          "model_name": "FloatProgressModel",
          "model_module_version": "1.5.0",
          "state": {
            "_view_name": "ProgressView",
            "style": "IPY_MODEL_3972c1fddc464572a338de5163953a08",
            "_dom_classes": [],
            "description": "",
            "_model_name": "FloatProgressModel",
            "bar_style": "danger",
            "max": 27,
            "_view_module": "@jupyter-widgets/controls",
            "_model_module_version": "1.5.0",
            "value": 1,
            "_view_count": null,
            "_view_module_version": "1.5.0",
            "orientation": "horizontal",
            "min": 0,
            "description_tooltip": null,
            "_model_module": "@jupyter-widgets/controls",
            "layout": "IPY_MODEL_6636cd0c691a4cefac38a145960282cc"
          }
        },
        "1ab664acf6d547d6903236f4b90dd80f": {
          "model_module": "@jupyter-widgets/controls",
          "model_name": "HTMLModel",
          "model_module_version": "1.5.0",
          "state": {
            "_view_name": "HTMLView",
            "style": "IPY_MODEL_a69d2e68477345b4b960e5f4c065cc46",
            "_dom_classes": [],
            "description": "",
            "_model_name": "HTMLModel",
            "placeholder": "​",
            "_view_module": "@jupyter-widgets/controls",
            "_model_module_version": "1.5.0",
            "value": " 1/27 [00:00&lt;00:05,  4.91it/s]",
            "_view_count": null,
            "_view_module_version": "1.5.0",
            "description_tooltip": null,
            "_model_module": "@jupyter-widgets/controls",
            "layout": "IPY_MODEL_76c9a59557c44b99a36d1678312ed987"
          }
        },
        "ff3b510d43dc45878e782bd66ebf1c28": {
          "model_module": "@jupyter-widgets/controls",
          "model_name": "DescriptionStyleModel",
          "model_module_version": "1.5.0",
          "state": {
            "_view_name": "StyleView",
            "_model_name": "DescriptionStyleModel",
            "description_width": "",
            "_view_module": "@jupyter-widgets/base",
            "_model_module_version": "1.5.0",
            "_view_count": null,
            "_view_module_version": "1.2.0",
            "_model_module": "@jupyter-widgets/controls"
          }
        },
        "eb1abfb7608b4bcf991ad1c3e7fdaf40": {
          "model_module": "@jupyter-widgets/base",
          "model_name": "LayoutModel",
          "model_module_version": "1.2.0",
          "state": {
            "_view_name": "LayoutView",
            "grid_template_rows": null,
            "right": null,
            "justify_content": null,
            "_view_module": "@jupyter-widgets/base",
            "overflow": null,
            "_model_module_version": "1.2.0",
            "_view_count": null,
            "flex_flow": null,
            "width": null,
            "min_width": null,
            "border": null,
            "align_items": null,
            "bottom": null,
            "_model_module": "@jupyter-widgets/base",
            "top": null,
            "grid_column": null,
            "overflow_y": null,
            "overflow_x": null,
            "grid_auto_flow": null,
            "grid_area": null,
            "grid_template_columns": null,
            "flex": null,
            "_model_name": "LayoutModel",
            "justify_items": null,
            "grid_row": null,
            "max_height": null,
            "align_content": null,
            "visibility": null,
            "align_self": null,
            "height": null,
            "min_height": null,
            "padding": null,
            "grid_auto_rows": null,
            "grid_gap": null,
            "max_width": null,
            "order": null,
            "_view_module_version": "1.2.0",
            "grid_template_areas": null,
            "object_position": null,
            "object_fit": null,
            "grid_auto_columns": null,
            "margin": null,
            "display": null,
            "left": null
          }
        },
        "3972c1fddc464572a338de5163953a08": {
          "model_module": "@jupyter-widgets/controls",
          "model_name": "ProgressStyleModel",
          "model_module_version": "1.5.0",
          "state": {
            "_view_name": "StyleView",
            "_model_name": "ProgressStyleModel",
            "description_width": "",
            "_view_module": "@jupyter-widgets/base",
            "_model_module_version": "1.5.0",
            "_view_count": null,
            "_view_module_version": "1.2.0",
            "bar_color": null,
            "_model_module": "@jupyter-widgets/controls"
          }
        },
        "6636cd0c691a4cefac38a145960282cc": {
          "model_module": "@jupyter-widgets/base",
          "model_name": "LayoutModel",
          "model_module_version": "1.2.0",
          "state": {
            "_view_name": "LayoutView",
            "grid_template_rows": null,
            "right": null,
            "justify_content": null,
            "_view_module": "@jupyter-widgets/base",
            "overflow": null,
            "_model_module_version": "1.2.0",
            "_view_count": null,
            "flex_flow": null,
            "width": null,
            "min_width": null,
            "border": null,
            "align_items": null,
            "bottom": null,
            "_model_module": "@jupyter-widgets/base",
            "top": null,
            "grid_column": null,
            "overflow_y": null,
            "overflow_x": null,
            "grid_auto_flow": null,
            "grid_area": null,
            "grid_template_columns": null,
            "flex": null,
            "_model_name": "LayoutModel",
            "justify_items": null,
            "grid_row": null,
            "max_height": null,
            "align_content": null,
            "visibility": null,
            "align_self": null,
            "height": null,
            "min_height": null,
            "padding": null,
            "grid_auto_rows": null,
            "grid_gap": null,
            "max_width": null,
            "order": null,
            "_view_module_version": "1.2.0",
            "grid_template_areas": null,
            "object_position": null,
            "object_fit": null,
            "grid_auto_columns": null,
            "margin": null,
            "display": null,
            "left": null
          }
        },
        "a69d2e68477345b4b960e5f4c065cc46": {
          "model_module": "@jupyter-widgets/controls",
          "model_name": "DescriptionStyleModel",
          "model_module_version": "1.5.0",
          "state": {
            "_view_name": "StyleView",
            "_model_name": "DescriptionStyleModel",
            "description_width": "",
            "_view_module": "@jupyter-widgets/base",
            "_model_module_version": "1.5.0",
            "_view_count": null,
            "_view_module_version": "1.2.0",
            "_model_module": "@jupyter-widgets/controls"
          }
        },
        "76c9a59557c44b99a36d1678312ed987": {
          "model_module": "@jupyter-widgets/base",
          "model_name": "LayoutModel",
          "model_module_version": "1.2.0",
          "state": {
            "_view_name": "LayoutView",
            "grid_template_rows": null,
            "right": null,
            "justify_content": null,
            "_view_module": "@jupyter-widgets/base",
            "overflow": null,
            "_model_module_version": "1.2.0",
            "_view_count": null,
            "flex_flow": null,
            "width": null,
            "min_width": null,
            "border": null,
            "align_items": null,
            "bottom": null,
            "_model_module": "@jupyter-widgets/base",
            "top": null,
            "grid_column": null,
            "overflow_y": null,
            "overflow_x": null,
            "grid_auto_flow": null,
            "grid_area": null,
            "grid_template_columns": null,
            "flex": null,
            "_model_name": "LayoutModel",
            "justify_items": null,
            "grid_row": null,
            "max_height": null,
            "align_content": null,
            "visibility": null,
            "align_self": null,
            "height": null,
            "min_height": null,
            "padding": null,
            "grid_auto_rows": null,
            "grid_gap": null,
            "max_width": null,
            "order": null,
            "_view_module_version": "1.2.0",
            "grid_template_areas": null,
            "object_position": null,
            "object_fit": null,
            "grid_auto_columns": null,
            "margin": null,
            "display": null,
            "left": null
          }
        },
        "cf26a0e0409e44e4a5a7fb4efb106409": {
          "model_module": "@jupyter-widgets/controls",
          "model_name": "HBoxModel",
          "model_module_version": "1.5.0",
          "state": {
            "_view_name": "HBoxView",
            "_dom_classes": [],
            "_model_name": "HBoxModel",
            "_view_module": "@jupyter-widgets/controls",
            "_model_module_version": "1.5.0",
            "_view_count": null,
            "_view_module_version": "1.5.0",
            "box_style": "",
            "layout": "IPY_MODEL_85d7c4e2d58e42e88039a8434ae9b367",
            "_model_module": "@jupyter-widgets/controls",
            "children": [
              "IPY_MODEL_2eeecbbefcd34a868b7883b9f2eeb600",
              "IPY_MODEL_f0c5fc18e06147b1a902f28ae7597979",
              "IPY_MODEL_ac82eaf7dbdb4c9083d3d0bd888e0e59"
            ]
          }
        },
        "85d7c4e2d58e42e88039a8434ae9b367": {
          "model_module": "@jupyter-widgets/base",
          "model_name": "LayoutModel",
          "model_module_version": "1.2.0",
          "state": {
            "_view_name": "LayoutView",
            "grid_template_rows": null,
            "right": null,
            "justify_content": null,
            "_view_module": "@jupyter-widgets/base",
            "overflow": null,
            "_model_module_version": "1.2.0",
            "_view_count": null,
            "flex_flow": null,
            "width": null,
            "min_width": null,
            "border": null,
            "align_items": null,
            "bottom": null,
            "_model_module": "@jupyter-widgets/base",
            "top": null,
            "grid_column": null,
            "overflow_y": null,
            "overflow_x": null,
            "grid_auto_flow": null,
            "grid_area": null,
            "grid_template_columns": null,
            "flex": null,
            "_model_name": "LayoutModel",
            "justify_items": null,
            "grid_row": null,
            "max_height": null,
            "align_content": null,
            "visibility": null,
            "align_self": null,
            "height": null,
            "min_height": null,
            "padding": null,
            "grid_auto_rows": null,
            "grid_gap": null,
            "max_width": null,
            "order": null,
            "_view_module_version": "1.2.0",
            "grid_template_areas": null,
            "object_position": null,
            "object_fit": null,
            "grid_auto_columns": null,
            "margin": null,
            "display": null,
            "left": null
          }
        },
        "2eeecbbefcd34a868b7883b9f2eeb600": {
          "model_module": "@jupyter-widgets/controls",
          "model_name": "HTMLModel",
          "model_module_version": "1.5.0",
          "state": {
            "_view_name": "HTMLView",
            "style": "IPY_MODEL_a34e5b0cd8e04890b5876f39d30860ca",
            "_dom_classes": [],
            "description": "",
            "_model_name": "HTMLModel",
            "placeholder": "​",
            "_view_module": "@jupyter-widgets/controls",
            "_model_module_version": "1.5.0",
            "value": "100%",
            "_view_count": null,
            "_view_module_version": "1.5.0",
            "description_tooltip": null,
            "_model_module": "@jupyter-widgets/controls",
            "layout": "IPY_MODEL_fb25cb35c56047138f663979fffef042"
          }
        },
        "f0c5fc18e06147b1a902f28ae7597979": {
          "model_module": "@jupyter-widgets/controls",
          "model_name": "FloatProgressModel",
          "model_module_version": "1.5.0",
          "state": {
            "_view_name": "ProgressView",
            "style": "IPY_MODEL_8f918f653b794befbd042934d1b8e332",
            "_dom_classes": [],
            "description": "",
            "_model_name": "FloatProgressModel",
            "bar_style": "success",
            "max": 1,
            "_view_module": "@jupyter-widgets/controls",
            "_model_module_version": "1.5.0",
            "value": 1,
            "_view_count": null,
            "_view_module_version": "1.5.0",
            "orientation": "horizontal",
            "min": 0,
            "description_tooltip": null,
            "_model_module": "@jupyter-widgets/controls",
            "layout": "IPY_MODEL_caee79edf7a34cd29ba1a419fa78dd5e"
          }
        },
        "ac82eaf7dbdb4c9083d3d0bd888e0e59": {
          "model_module": "@jupyter-widgets/controls",
          "model_name": "HTMLModel",
          "model_module_version": "1.5.0",
          "state": {
            "_view_name": "HTMLView",
            "style": "IPY_MODEL_5c66defb4f23416db10293413553ad13",
            "_dom_classes": [],
            "description": "",
            "_model_name": "HTMLModel",
            "placeholder": "​",
            "_view_module": "@jupyter-widgets/controls",
            "_model_module_version": "1.5.0",
            "value": " 1/1 [00:00&lt;00:00, 19.20it/s]",
            "_view_count": null,
            "_view_module_version": "1.5.0",
            "description_tooltip": null,
            "_model_module": "@jupyter-widgets/controls",
            "layout": "IPY_MODEL_7b75f177e2da4edd8f047f936b2fd7e3"
          }
        },
        "a34e5b0cd8e04890b5876f39d30860ca": {
          "model_module": "@jupyter-widgets/controls",
          "model_name": "DescriptionStyleModel",
          "model_module_version": "1.5.0",
          "state": {
            "_view_name": "StyleView",
            "_model_name": "DescriptionStyleModel",
            "description_width": "",
            "_view_module": "@jupyter-widgets/base",
            "_model_module_version": "1.5.0",
            "_view_count": null,
            "_view_module_version": "1.2.0",
            "_model_module": "@jupyter-widgets/controls"
          }
        },
        "fb25cb35c56047138f663979fffef042": {
          "model_module": "@jupyter-widgets/base",
          "model_name": "LayoutModel",
          "model_module_version": "1.2.0",
          "state": {
            "_view_name": "LayoutView",
            "grid_template_rows": null,
            "right": null,
            "justify_content": null,
            "_view_module": "@jupyter-widgets/base",
            "overflow": null,
            "_model_module_version": "1.2.0",
            "_view_count": null,
            "flex_flow": null,
            "width": null,
            "min_width": null,
            "border": null,
            "align_items": null,
            "bottom": null,
            "_model_module": "@jupyter-widgets/base",
            "top": null,
            "grid_column": null,
            "overflow_y": null,
            "overflow_x": null,
            "grid_auto_flow": null,
            "grid_area": null,
            "grid_template_columns": null,
            "flex": null,
            "_model_name": "LayoutModel",
            "justify_items": null,
            "grid_row": null,
            "max_height": null,
            "align_content": null,
            "visibility": null,
            "align_self": null,
            "height": null,
            "min_height": null,
            "padding": null,
            "grid_auto_rows": null,
            "grid_gap": null,
            "max_width": null,
            "order": null,
            "_view_module_version": "1.2.0",
            "grid_template_areas": null,
            "object_position": null,
            "object_fit": null,
            "grid_auto_columns": null,
            "margin": null,
            "display": null,
            "left": null
          }
        },
        "8f918f653b794befbd042934d1b8e332": {
          "model_module": "@jupyter-widgets/controls",
          "model_name": "ProgressStyleModel",
          "model_module_version": "1.5.0",
          "state": {
            "_view_name": "StyleView",
            "_model_name": "ProgressStyleModel",
            "description_width": "",
            "_view_module": "@jupyter-widgets/base",
            "_model_module_version": "1.5.0",
            "_view_count": null,
            "_view_module_version": "1.2.0",
            "bar_color": null,
            "_model_module": "@jupyter-widgets/controls"
          }
        },
        "caee79edf7a34cd29ba1a419fa78dd5e": {
          "model_module": "@jupyter-widgets/base",
          "model_name": "LayoutModel",
          "model_module_version": "1.2.0",
          "state": {
            "_view_name": "LayoutView",
            "grid_template_rows": null,
            "right": null,
            "justify_content": null,
            "_view_module": "@jupyter-widgets/base",
            "overflow": null,
            "_model_module_version": "1.2.0",
            "_view_count": null,
            "flex_flow": null,
            "width": null,
            "min_width": null,
            "border": null,
            "align_items": null,
            "bottom": null,
            "_model_module": "@jupyter-widgets/base",
            "top": null,
            "grid_column": null,
            "overflow_y": null,
            "overflow_x": null,
            "grid_auto_flow": null,
            "grid_area": null,
            "grid_template_columns": null,
            "flex": null,
            "_model_name": "LayoutModel",
            "justify_items": null,
            "grid_row": null,
            "max_height": null,
            "align_content": null,
            "visibility": null,
            "align_self": null,
            "height": null,
            "min_height": null,
            "padding": null,
            "grid_auto_rows": null,
            "grid_gap": null,
            "max_width": null,
            "order": null,
            "_view_module_version": "1.2.0",
            "grid_template_areas": null,
            "object_position": null,
            "object_fit": null,
            "grid_auto_columns": null,
            "margin": null,
            "display": null,
            "left": null
          }
        },
        "5c66defb4f23416db10293413553ad13": {
          "model_module": "@jupyter-widgets/controls",
          "model_name": "DescriptionStyleModel",
          "model_module_version": "1.5.0",
          "state": {
            "_view_name": "StyleView",
            "_model_name": "DescriptionStyleModel",
            "description_width": "",
            "_view_module": "@jupyter-widgets/base",
            "_model_module_version": "1.5.0",
            "_view_count": null,
            "_view_module_version": "1.2.0",
            "_model_module": "@jupyter-widgets/controls"
          }
        },
        "7b75f177e2da4edd8f047f936b2fd7e3": {
          "model_module": "@jupyter-widgets/base",
          "model_name": "LayoutModel",
          "model_module_version": "1.2.0",
          "state": {
            "_view_name": "LayoutView",
            "grid_template_rows": null,
            "right": null,
            "justify_content": null,
            "_view_module": "@jupyter-widgets/base",
            "overflow": null,
            "_model_module_version": "1.2.0",
            "_view_count": null,
            "flex_flow": null,
            "width": null,
            "min_width": null,
            "border": null,
            "align_items": null,
            "bottom": null,
            "_model_module": "@jupyter-widgets/base",
            "top": null,
            "grid_column": null,
            "overflow_y": null,
            "overflow_x": null,
            "grid_auto_flow": null,
            "grid_area": null,
            "grid_template_columns": null,
            "flex": null,
            "_model_name": "LayoutModel",
            "justify_items": null,
            "grid_row": null,
            "max_height": null,
            "align_content": null,
            "visibility": null,
            "align_self": null,
            "height": null,
            "min_height": null,
            "padding": null,
            "grid_auto_rows": null,
            "grid_gap": null,
            "max_width": null,
            "order": null,
            "_view_module_version": "1.2.0",
            "grid_template_areas": null,
            "object_position": null,
            "object_fit": null,
            "grid_auto_columns": null,
            "margin": null,
            "display": null,
            "left": null
          }
        }
      }
    }
  },
  "cells": [
    {
      "cell_type": "markdown",
      "metadata": {
        "id": "view-in-github",
        "colab_type": "text"
      },
      "source": [
        "<a href=\"https://colab.research.google.com/github/caroheymes/Jedha_nlp_disasters_tweet/blob/master/tweet_modeling_v3.ipynb\" target=\"_parent\"><img src=\"https://colab.research.google.com/assets/colab-badge.svg\" alt=\"Open In Colab\"/></a>"
      ]
    },
    {
      "cell_type": "markdown",
      "metadata": {
        "id": "V7l8ohI0VhSe"
      },
      "source": [
        "# **Projet - Real or Not? NLP with Disaster Tweets - models training**\n",
        "\n",
        "## Project description \n",
        "\n",
        "* Competition - https://www.kaggle.com/c/nlp-getting-started"
      ]
    },
    {
      "cell_type": "markdown",
      "metadata": {
        "id": "iI9GXhFTKlHH"
      },
      "source": [
        "# Loading librairies & data"
      ]
    },
    {
      "cell_type": "code",
      "source": [
        "!python -m spacy download en_core_web_sm -q"
      ],
      "metadata": {
        "id": "XdVl_E-kuZ-F"
      },
      "execution_count": null,
      "outputs": []
    },
    {
      "cell_type": "code",
      "metadata": {
        "id": "7GKarUGgfI_5"
      },
      "source": [
        "!pip install spacy -q"
      ],
      "execution_count": 2,
      "outputs": []
    },
    {
      "cell_type": "code",
      "metadata": {
        "id": "3_XrCGlZiLi8"
      },
      "source": [
        "!pip install unidecode -q"
      ],
      "execution_count": null,
      "outputs": []
    },
    {
      "cell_type": "code",
      "source": [
        "!pip install simpletransformers -q"
      ],
      "metadata": {
        "id": "-pCtGMJsi7SR"
      },
      "execution_count": null,
      "outputs": []
    },
    {
      "cell_type": "code",
      "metadata": {
        "id": "Z4sVSrSvYLcP",
        "colab": {
          "base_uri": "https://localhost:8080/"
        },
        "outputId": "92e3e18d-cfd1-4a77-f167-b9a76fcd0dce"
      },
      "source": [
        "#Packages\n",
        "\n",
        "import numpy as np\n",
        "import pandas as pd\n",
        "import csv\n",
        "from collections import Counter\n",
        "\n",
        "import warnings\n",
        "warnings.filterwarnings(\"ignore\")\n",
        "import requests\n",
        "import json\n",
        "import collections\n",
        "\n",
        "# Text modules\n",
        "import spacy\n",
        "import en_core_web_sm\n",
        "from spacy.lang.en.stop_words import STOP_WORDS\n",
        "import nltk\n",
        "from nltk.corpus import stopwords\n",
        "import gensim\n",
        "from nltk.corpus import wordnet as wnl\n",
        "from nltk.stem import WordNetLemmatizer\n",
        "nltk.download('wordnet')\n",
        "nltk.download('stopwords')\n",
        "from sklearn.feature_extraction.text import ENGLISH_STOP_WORDS\n",
        "import collections\n",
        "\n",
        "# Text cleaning\n",
        "import unidecode\n",
        "import string\n",
        "import re\n",
        "import html\n",
        "\n",
        "#Figures\n",
        "\n",
        "import matplotlib.pyplot as plt\n",
        "\n",
        "\n",
        "#Deep learning\n",
        "import tensorflow as tf\n",
        "from tensorflow.keras.preprocessing.text import Tokenizer\n",
        "from tensorflow.keras.preprocessing.sequence import pad_sequences\n",
        "from tensorflow.keras.layers import Embedding, LSTM, GRU, Bidirectional, Dense, Dropout, Conv1D, GlobalMaxPool1D"
      ],
      "execution_count": 6,
      "outputs": [
        {
          "output_type": "stream",
          "name": "stdout",
          "text": [
            "[nltk_data] Downloading package wordnet to /root/nltk_data...\n",
            "[nltk_data]   Package wordnet is already up-to-date!\n",
            "[nltk_data] Downloading package stopwords to /root/nltk_data...\n",
            "[nltk_data]   Package stopwords is already up-to-date!\n"
          ]
        }
      ]
    },
    {
      "cell_type": "code",
      "metadata": {
        "colab": {
          "base_uri": "https://localhost:8080/"
        },
        "id": "wsV4bkpeVhSj",
        "outputId": "248ac743-462c-4151-f70d-013747defbd3"
      },
      "source": [
        "import os\n",
        "from google.colab import drive\n",
        "drive.mount('/content/drive', force_remount=True)"
      ],
      "execution_count": 1,
      "outputs": [
        {
          "output_type": "stream",
          "name": "stdout",
          "text": [
            "Mounted at /content/drive\n"
          ]
        }
      ]
    },
    {
      "cell_type": "code",
      "metadata": {
        "id": "mNr1l6nAXPYL"
      },
      "source": [
        "os.chdir('/content/')"
      ],
      "execution_count": 2,
      "outputs": []
    },
    {
      "cell_type": "code",
      "metadata": {
        "id": "06eIkHM-Znzw"
      },
      "source": [
        "import pandas as pd\n",
        "df = pd.read_csv('/content/drive/MyDrive/disaster tweet/nlp-getting-started/train.csv').fillna('')"
      ],
      "execution_count": 3,
      "outputs": []
    },
    {
      "cell_type": "code",
      "source": [
        "df.info()"
      ],
      "metadata": {
        "colab": {
          "base_uri": "https://localhost:8080/"
        },
        "id": "Hbu140JUB-F_",
        "outputId": "66933ab0-87f2-45b4-f227-12b397b041f1"
      },
      "execution_count": 10,
      "outputs": [
        {
          "output_type": "stream",
          "name": "stdout",
          "text": [
            "<class 'pandas.core.frame.DataFrame'>\n",
            "RangeIndex: 7613 entries, 0 to 7612\n",
            "Data columns (total 5 columns):\n",
            " #   Column    Non-Null Count  Dtype \n",
            "---  ------    --------------  ----- \n",
            " 0   id        7613 non-null   int64 \n",
            " 1   keyword   7613 non-null   object\n",
            " 2   location  7613 non-null   object\n",
            " 3   text      7613 non-null   object\n",
            " 4   target    7613 non-null   int64 \n",
            "dtypes: int64(2), object(3)\n",
            "memory usage: 297.5+ KB\n"
          ]
        }
      ]
    },
    {
      "cell_type": "markdown",
      "source": [
        "# Nlp tool box"
      ],
      "metadata": {
        "id": "G6zzANJkKFY0"
      }
    },
    {
      "cell_type": "code",
      "source": [
        "#Stopwords list\n",
        "# A robust custom stopword list with many sources\n",
        "\n",
        "# nltk corpus\n",
        "nltk.download('wordnet')\n",
        "nltk.download('stopwords')\n",
        "from nltk.corpus import stopwords\n",
        "nltk_corpus = set(stopwords.words(\"english\"))\n",
        "print('nltk_corpus : ',  len(nltk_corpus))\n",
        "\n",
        "# spacy corpus\n",
        "from spacy.lang.en.stop_words import STOP_WORDS\n",
        "spacy_corpus = STOP_WORDS\n",
        "print('spacy_corpus : ', len(spacy_corpus))\n",
        "\n",
        "# sklearn corpus\n",
        "from sklearn.feature_extraction.text import ENGLISH_STOP_WORDS as sklearn_corpus\n",
        "print('sklearn_corpus : ', len(sklearn_corpus))\n",
        "\n",
        "# gensim corpus\n",
        "gensim_corpus = gensim.parsing.preprocessing.STOPWORDS\n",
        "print('gensim_corpus : ', len(gensim_corpus))\n",
        "\n",
        "# Webconf corpus\n",
        "# cf https://www.webconfs.com/stop-words.php\n",
        "webconf_corpus = {\"able\", \"about\", \"above\", \"abroad\", \"according\", \"accordingly\", \"across\", \"actually\", \"adj\", \"after\", \"afterwards\", \"again\", \"against\", \"ago\", \"ahead\", \"ain't\", \"all\", \"allow\", \"allows\", \"almost\", \"alone\", \"along\", \"alongside\", \"already\", \"also\", \"although\", \"always\", \"am\", \"amid\", \"amidst\", \"among\", \"amongst\", \"an\", \"and\", \"another\", \"any\", \"anybody\", \"anyhow\", \"anyone\", \"anything\", \"anyway\", \"anyways\", \"anywhere\", \"apart\", \"appear\", \"appreciate\", \"appropriate\", \"are\", \"aren't\", \"around\", \"as\", \"a's\", \"aside\", \"ask\", \"asking\", \"associated\", \"at\", \"available\", \"away\", \"awfully\", \"back\", \"backward\", \"backwards\", \"be\", \"became\", \"because\", \"become\", \"becomes\", \"becoming\", \"been\", \"before\", \"beforehand\", \"begin\", \"behind\", \"being\", \"believe\", \"below\", \"beside\", \"besides\", \"best\", \"better\", \"between\", \"beyond\", \"both\", \"brief\", \"but\", \"by\", \"came\", \"can\", \"cannot\", \"cant\", \"can't\", \"caption\", \"cause\", \"causes\", \"certain\", \"certainly\", \"changes\", \"clearly\", \"c'mon\", \"co\", \"co.\", \"com\", \"come\", \"comes\", \"concerning\", \"consequently\", \"consider\", \"considering\", \"contain\", \"containing\", \"contains\", \"corresponding\", \"could\", \"couldn't\", \"course\", \"c's\", \"currently\", \"dare\", \"daren't\", \"definitely\", \"described\", \"despite\", \"did\", \"didn't\", \"different\", \"directly\", \"do\", \"does\", \"doesn't\", \"doing\", \"done\", \"don't\", \"down\", \"downwards\", \"during\", \"each\", \"edu\", \"eg\", \"eight\", \"eighty\", \"either\", \"else\", \"elsewhere\", \"end\", \"ending\", \"enough\", \"entirely\", \"especially\", \"et\", \"etc\", \"even\", \"ever\", \"evermore\", \"every\", \"everybody\", \"everyone\", \"everything\", \"everywhere\", \"ex\", \"exactly\", \"example\", \"except\", \"fairly\", \"far\", \"farther\", \"few\", \"fewer\", \"fifth\", \"first\", \"five\", \"followed\", \"following\", \"follows\", \"for\", \"forever\", \"former\", \"formerly\", \"forth\", \"forward\", \"found\", \"four\", \"from\", \"further\", \"furthermore\", \"get\", \"gets\", \"getting\", \"given\", \"gives\", \"go\", \"goes\", \"going\", \"gone\", \"got\", \"gotten\", \"greetings\", \"had\", \"hadn't\", \"half\", \"happens\", \"hardly\", \"has\", \"hasn't\", \"have\", \"haven't\", \"having\", \"he\", \"he'd\", \"he'll\", \"hello\", \"help\", \"hence\", \"her\", \"here\", \"hereafter\", \"hereby\", \"herein\", \"here's\", \"hereupon\", \"hers\", \"herself\", \"he's\", \"hi\", \"him\", \"himself\", \"his\", \"hither\", \"hopefully\", \"how\", \"howbeit\", \"however\", \"hundred\", \"i'd\", \"ie\", \"if\", \"ignored\", \"i'll\", \"i'm\", \"immediate\", \"in\", \"inasmuch\", \"inc\", \"inc.\", \"indeed\", \"indicate\", \"indicated\", \"indicates\", \"inner\", \"inside\", \"insofar\", \"instead\", \"into\", \"inward\", \"is\", \"isn't\", \"it\", \"it'd\", \"it'll\", \"its\", \"it's\", \"itself\", \"i've\", \"just\", \"k\", \"keep\", \"keeps\", \"kept\", \"know\", \"known\", \"knows\", \"last\", \"lately\", \"later\", \"latter\", \"latterly\", \"least\", \"less\", \"lest\", \"let\", \"let's\", \"like\", \"liked\", \"likely\", \"likewise\", \"little\", \"look\", \"looking\", \"looks\", \"low\", \"lower\", \"ltd\", \"made\", \"mainly\", \"make\", \"makes\", \"many\", \"may\", \"maybe\", \"mayn't\", \"me\", \"mean\", \"meantime\", \"meanwhile\", \"merely\", \"might\", \"mightn't\", \"mine\", \"minus\", \"miss\", \"more\", \"moreover\", \"most\", \"mostly\", \"mr\", \"mrs\", \"much\", \"must\", \"mustn't\", \"my\", \"myself\", \"name\", \"namely\", \"nd\", \"near\", \"nearly\", \"necessary\", \"need\", \"needn't\", \"needs\", \"neither\", \"never\", \"neverf\", \"neverless\", \"nevertheless\", \"new\", \"next\", \"nine\", \"ninety\", \"no\", \"nobody\", \"non\", \"none\", \"nonetheless\", \"noone\", \"no-one\", \"nor\", \"normally\", \"not\", \"nothing\", \"notwithstanding\", \"novel\", \"now\", \"nowhere\", \"obviously\", \"of\", \"off\", \"often\", \"oh\", \"ok\", \"okay\", \"old\", \"on\", \"once\", \"one\", \"ones\", \"one's\", \"only\", \"onto\", \"opposite\", \"or\", \"other\", \"others\", \"otherwise\", \"ought\", \"oughtn't\", \"our\", \"ours\", \"ourselves\", \"out\", \"outside\", \"over\", \"overall\", \"own\", \"particular\", \"particularly\", \"past\", \"per\", \"perhaps\", \"placed\", \"please\", \"plus\", \"possible\", \"presumably\", \"probably\", \"provided\", \"provides\", \"que\", \"quite\", \"qv\", \"rather\", \"rd\", \"re\", \"really\", \"reasonably\", \"recent\", \"recently\", \"regarding\", \"regardless\", \"regards\", \"relatively\", \"respectively\", \"right\", \"round\", \"said\", \"same\", \"saw\", \"say\", \"saying\", \"says\", \"second\", \"secondly\", \"see\", \"seeing\", \"seem\", \"seemed\", \"seeming\", \"seems\", \"seen\", \"self\", \"selves\", \"sensible\", \"sent\", \"serious\", \"seriously\", \"seven\", \"several\", \"shall\", \"shan't\", \"she\", \"she'd\", \"she'll\", \"she's\", \"should\", \"shouldn't\", \"since\", \"six\", \"so\", \"some\", \"somebody\", \"someday\", \"somehow\", \"someone\", \"something\", \"sometime\", \"sometimes\", \"somewhat\", \"somewhere\", \"soon\", \"sorry\", \"specified\", \"specify\", \"specifying\", \"still\", \"sub\", \"such\", \"sup\", \"sure\", \"take\", \"taken\", \"taking\", \"tell\", \"tends\", \"th\", \"than\", \"thank\", \"thanks\", \"thanx\", \"that\", \"that'll\", \"thats\", \"that's\", \"that've\", \"the\", \"their\", \"theirs\", \"them\", \"themselves\", \"then\", \"thence\", \"there\", \"thereafter\", \"thereby\", \"there'd\", \"therefore\", \"therein\", \"there'll\", \"there're\", \"theres\", \"there's\", \"thereupon\", \"there've\", \"these\", \"they\", \"they'd\", \"they'll\", \"they're\", \"they've\", \"thing\", \"things\", \"think\", \"third\", \"thirty\", \"this\", \"thorough\", \"thoroughly\", \"those\", \"though\", \"three\", \"through\", \"throughout\", \"thru\", \"thus\", \"till\", \"to\", \"together\", \"too\", \"took\", \"toward\", \"towards\", \"tried\", \"tries\", \"truly\", \"try\", \"trying\", \"t's\", \"twice\", \"two\", \"un\", \"under\", \"underneath\", \"undoing\", \"unfortunately\", \"unless\", \"unlike\", \"unlikely\", \"until\", \"unto\", \"up\", \"upon\", \"upwards\", \"us\", \"use\", \"used\", \"useful\", \"uses\", \"using\", \"usually\", \"v\", \"value\", \"various\", \"versus\", \"very\", \"via\", \"viz\", \"vs\", \"want\", \"wants\", \"was\", \"wasn't\", \"way\", \"we\", \"we'd\", \"welcome\", \"well\", \"we'll\", \"went\", \"were\", \"we're\", \"weren't\", \"we've\", \"what\", \"whatever\", \"what'll\", \"what's\", \"what've\", \"when\", \"whence\", \"whenever\", \"where\", \"whereafter\", \"whereas\", \"whereby\", \"wherein\", \"where's\", \"whereupon\", \"wherever\", \"whether\", \"which\", \"whichever\", \"while\", \"whilst\", \"whither\", \"who\", \"who'd\", \"whoever\", \"whole\", \"who'll\", \"whom\", \"whomever\", \"who's\", \"whose\", \"why\", \"will\", \"willing\", \"wish\", \"with\", \"within\", \"without\", \"wonder\", \"won't\", \"would\", \"wouldn't\", \"yes\", \"yet\", \"you\", \"you'd\", \"you'll\", \"your\", \"you're\", \"yours\", \"yourself\", \"yourselves\", \"you've\", \"zero\"}\n",
        "print('webconf_corpus : ', len(webconf_corpus))\n",
        "\n",
        "#build custom stop words list and dedup\n",
        "custom = [w for w in nltk_corpus | spacy_corpus | sklearn_corpus | gensim_corpus | webconf_corpus]\n",
        "custom = list(set(custom))\n",
        "print('custom : ', len(custom))"
      ],
      "metadata": {
        "colab": {
          "base_uri": "https://localhost:8080/"
        },
        "id": "nticihgn8Imp",
        "outputId": "0a1824fc-20ef-49a0-913e-6b8129f1681e"
      },
      "execution_count": 11,
      "outputs": [
        {
          "output_type": "stream",
          "name": "stdout",
          "text": [
            "[nltk_data] Downloading package wordnet to /root/nltk_data...\n",
            "[nltk_data]   Package wordnet is already up-to-date!\n",
            "[nltk_data] Downloading package stopwords to /root/nltk_data...\n",
            "[nltk_data]   Package stopwords is already up-to-date!\n",
            "nltk_corpus :  179\n",
            "spacy_corpus :  326\n",
            "sklearn_corpus :  318\n",
            "gensim_corpus :  337\n",
            "webconf_corpus :  635\n",
            "custom :  732\n"
          ]
        }
      ]
    },
    {
      "cell_type": "code",
      "source": [
        "#Function to tokenize tweets\n",
        "\n",
        "#Cleaning functions\n",
        "\n",
        "\n",
        "def basic_clean(tweet):\n",
        "  tweet = tweet.lower()\n",
        "  tweet = unidecode.unidecode(tweet)\n",
        "  tweet = html.unescape(tweet)\n",
        "  tweet = tweet.replace(\"'\",\" \")\n",
        "  tweet = re.sub(r'<.*?>', '', tweet)         # remove html tags\n",
        "  tweet = re.sub('VIDEO:', '', tweet)         # remove 'VIDEO:' from start of tweet\n",
        "  tweet = re.sub('AUDIO:', '', tweet)         # remove 'AUDIO:' from start of tweet\n",
        "  tweet = re.sub(r'https?://\\S+', '', tweet)  # Remove link\n",
        "  tweet = re.sub(r'[0-9,.]+', '', tweet)      # Remove digits\n",
        "  tweet = re.sub(r'@\\S+', '', tweet)          # remove tweeted at\n",
        "  tweet = re.sub(r'\\brt\\b', '', tweet).strip()# Remove RT\n",
        "  tweet = re.sub('\\n',' ', tweet)            # Remove line breaks\n",
        "  tweet = re.sub('\\s+', ' ', tweet).strip()   # Remove leading, trailing, and extra spaces\n",
        "  tweet = re.sub(\"(.)\\\\1{3,}\", \"\\\\1\", tweet)  # Remove duplicate caracters in strings\n",
        "  tweet = ' '.join(nltk.RegexpTokenizer(r\"\\w+\").tokenize(tweet)) #remove punctuation\n",
        "  \n",
        "  return tweet\n",
        "\n",
        "def de_abbreviate(tweet):# cf https://github.com/bicachu/topic-modeling-health-tweets/blob/master/notebooks/clean_tokenizer.py\n",
        "  abbreviations = json.load(open('/content/drive/MyDrive/disaster tweet/abbreviations.json'))\n",
        "  if isinstance(tweet, str):\n",
        "    for key in abbreviations:\n",
        "      value = abbreviations[key]\n",
        "      raw_text = r'\\b' + key + r'\\b'\n",
        "      x = re.sub(raw_text, value, tweet)\t\n",
        "    return tweet\n",
        "  else:\n",
        "    return tweet\n",
        "\n",
        "def remove_stopwords(tweet):\n",
        "\treturn ' '.join([word for word in tweet.split() if word not in custom])\n",
        " \n",
        "def lemmatize(token):\n",
        "  return WordNetLemmatizer().lemmatize(token, pos='n')\n",
        "\n",
        "def process_cleaning(tweet):\n",
        "  \"\"\"custom function to clean tweets\"\"\"\n",
        "  tweet = de_abbreviate(tweet) #In fiest because of \"'\"\n",
        "  tweet = basic_clean(tweet)\n",
        "  tweet = remove_stopwords(tweet)\n",
        "  tweet =' '.join([lemmatize(token) for token in tweet.split() if len(token) > 2])\n",
        "  return tweet\n",
        "\n",
        "for tweet in df.text.values[:5]:\n",
        "  print()\n",
        "  print(tweet)\n",
        "  print(process_cleaning(tweet))\n",
        "  "
      ],
      "metadata": {
        "colab": {
          "base_uri": "https://localhost:8080/"
        },
        "id": "Sa_VS12xJvaH",
        "outputId": "41932001-c6c9-4c8b-e175-35ab6c983130"
      },
      "execution_count": 12,
      "outputs": [
        {
          "output_type": "stream",
          "name": "stdout",
          "text": [
            "\n",
            "Our Deeds are the Reason of this #earthquake May ALLAH Forgive us all\n",
            "deed reason earthquake allah forgive\n",
            "\n",
            "Forest fire near La Ronge Sask. Canada\n",
            "forest ronge sask canada\n",
            "\n",
            "All residents asked to 'shelter in place' are being notified by officers. No other evacuation or shelter in place orders are expected\n",
            "resident asked shelter place notified officer evacuation shelter place order expected\n",
            "\n",
            "13,000 people receive #wildfires evacuation orders in California \n",
            "people receive wildfire evacuation order california\n",
            "\n",
            "Just got sent this photo from Ruby #Alaska as smoke from #wildfires pours into a school \n",
            "photo ruby alaska smoke wildfire pours school\n"
          ]
        }
      ]
    },
    {
      "cell_type": "markdown",
      "metadata": {
        "id": "A3Q2qRQDLagQ"
      },
      "source": [
        "# Data modeling"
      ]
    },
    {
      "cell_type": "code",
      "source": [
        "df = pd.read_csv('/content/drive/MyDrive/disaster tweet/nlp-getting-started/train.csv').fillna('')"
      ],
      "metadata": {
        "id": "SOLTNdchWhUO"
      },
      "execution_count": 13,
      "outputs": []
    },
    {
      "cell_type": "code",
      "source": [
        "# Drop useless columns\n",
        "df = df[['target', 'text']]\n",
        "df.rename(columns={'target' : 'labels'}, inplace=True)\n",
        "df['token'] = [process_cleaning(tweet) for tweet in df.text if isinstance(tweet, str)]\n",
        "df.sample(5)"
      ],
      "metadata": {
        "colab": {
          "base_uri": "https://localhost:8080/",
          "height": 206
        },
        "id": "ZfF_zcNbW-A5",
        "outputId": "f1b74734-5b05-428b-cb71-7f6528e48f8f"
      },
      "execution_count": 14,
      "outputs": [
        {
          "output_type": "execute_result",
          "data": {
            "text/html": [
              "\n",
              "  <div id=\"df-ec3d3b6a-ec7f-45d2-b8fa-b9da3e608310\">\n",
              "    <div class=\"colab-df-container\">\n",
              "      <div>\n",
              "<style scoped>\n",
              "    .dataframe tbody tr th:only-of-type {\n",
              "        vertical-align: middle;\n",
              "    }\n",
              "\n",
              "    .dataframe tbody tr th {\n",
              "        vertical-align: top;\n",
              "    }\n",
              "\n",
              "    .dataframe thead th {\n",
              "        text-align: right;\n",
              "    }\n",
              "</style>\n",
              "<table border=\"1\" class=\"dataframe\">\n",
              "  <thead>\n",
              "    <tr style=\"text-align: right;\">\n",
              "      <th></th>\n",
              "      <th>labels</th>\n",
              "      <th>text</th>\n",
              "      <th>token</th>\n",
              "    </tr>\n",
              "  </thead>\n",
              "  <tbody>\n",
              "    <tr>\n",
              "      <th>6448</th>\n",
              "      <td>1</td>\n",
              "      <td>The number of security officials killed by PKK...</td>\n",
              "      <td>number security official killed pkk terror att...</td>\n",
              "    </tr>\n",
              "    <tr>\n",
              "      <th>1237</th>\n",
              "      <td>1</td>\n",
              "      <td>Ton of smoke coming out of one of the new apar...</td>\n",
              "      <td>ton smoke coming apartment building ross aubur...</td>\n",
              "    </tr>\n",
              "    <tr>\n",
              "      <th>6761</th>\n",
              "      <td>0</td>\n",
              "      <td>Heather Night and Ava Sparxxx enjoy a wild tee...</td>\n",
              "      <td>heather night ava sparxxx enjoy wild teen thre...</td>\n",
              "    </tr>\n",
              "    <tr>\n",
              "      <th>5621</th>\n",
              "      <td>1</td>\n",
              "      <td>./.....hmm 12000 Nigerian refugees repatriated...</td>\n",
              "      <td>hmm nigerian refugee repatriated cameroon</td>\n",
              "    </tr>\n",
              "    <tr>\n",
              "      <th>4051</th>\n",
              "      <td>1</td>\n",
              "      <td>The spread of Conflict #PalmOil has sparked an...</td>\n",
              "      <td>spread conflict palmoil sparked increase fire ...</td>\n",
              "    </tr>\n",
              "  </tbody>\n",
              "</table>\n",
              "</div>\n",
              "      <button class=\"colab-df-convert\" onclick=\"convertToInteractive('df-ec3d3b6a-ec7f-45d2-b8fa-b9da3e608310')\"\n",
              "              title=\"Convert this dataframe to an interactive table.\"\n",
              "              style=\"display:none;\">\n",
              "        \n",
              "  <svg xmlns=\"http://www.w3.org/2000/svg\" height=\"24px\"viewBox=\"0 0 24 24\"\n",
              "       width=\"24px\">\n",
              "    <path d=\"M0 0h24v24H0V0z\" fill=\"none\"/>\n",
              "    <path d=\"M18.56 5.44l.94 2.06.94-2.06 2.06-.94-2.06-.94-.94-2.06-.94 2.06-2.06.94zm-11 1L8.5 8.5l.94-2.06 2.06-.94-2.06-.94L8.5 2.5l-.94 2.06-2.06.94zm10 10l.94 2.06.94-2.06 2.06-.94-2.06-.94-.94-2.06-.94 2.06-2.06.94z\"/><path d=\"M17.41 7.96l-1.37-1.37c-.4-.4-.92-.59-1.43-.59-.52 0-1.04.2-1.43.59L10.3 9.45l-7.72 7.72c-.78.78-.78 2.05 0 2.83L4 21.41c.39.39.9.59 1.41.59.51 0 1.02-.2 1.41-.59l7.78-7.78 2.81-2.81c.8-.78.8-2.07 0-2.86zM5.41 20L4 18.59l7.72-7.72 1.47 1.35L5.41 20z\"/>\n",
              "  </svg>\n",
              "      </button>\n",
              "      \n",
              "  <style>\n",
              "    .colab-df-container {\n",
              "      display:flex;\n",
              "      flex-wrap:wrap;\n",
              "      gap: 12px;\n",
              "    }\n",
              "\n",
              "    .colab-df-convert {\n",
              "      background-color: #E8F0FE;\n",
              "      border: none;\n",
              "      border-radius: 50%;\n",
              "      cursor: pointer;\n",
              "      display: none;\n",
              "      fill: #1967D2;\n",
              "      height: 32px;\n",
              "      padding: 0 0 0 0;\n",
              "      width: 32px;\n",
              "    }\n",
              "\n",
              "    .colab-df-convert:hover {\n",
              "      background-color: #E2EBFA;\n",
              "      box-shadow: 0px 1px 2px rgba(60, 64, 67, 0.3), 0px 1px 3px 1px rgba(60, 64, 67, 0.15);\n",
              "      fill: #174EA6;\n",
              "    }\n",
              "\n",
              "    [theme=dark] .colab-df-convert {\n",
              "      background-color: #3B4455;\n",
              "      fill: #D2E3FC;\n",
              "    }\n",
              "\n",
              "    [theme=dark] .colab-df-convert:hover {\n",
              "      background-color: #434B5C;\n",
              "      box-shadow: 0px 1px 3px 1px rgba(0, 0, 0, 0.15);\n",
              "      filter: drop-shadow(0px 1px 2px rgba(0, 0, 0, 0.3));\n",
              "      fill: #FFFFFF;\n",
              "    }\n",
              "  </style>\n",
              "\n",
              "      <script>\n",
              "        const buttonEl =\n",
              "          document.querySelector('#df-ec3d3b6a-ec7f-45d2-b8fa-b9da3e608310 button.colab-df-convert');\n",
              "        buttonEl.style.display =\n",
              "          google.colab.kernel.accessAllowed ? 'block' : 'none';\n",
              "\n",
              "        async function convertToInteractive(key) {\n",
              "          const element = document.querySelector('#df-ec3d3b6a-ec7f-45d2-b8fa-b9da3e608310');\n",
              "          const dataTable =\n",
              "            await google.colab.kernel.invokeFunction('convertToInteractive',\n",
              "                                                     [key], {});\n",
              "          if (!dataTable) return;\n",
              "\n",
              "          const docLinkHtml = 'Like what you see? Visit the ' +\n",
              "            '<a target=\"_blank\" href=https://colab.research.google.com/notebooks/data_table.ipynb>data table notebook</a>'\n",
              "            + ' to learn more about interactive tables.';\n",
              "          element.innerHTML = '';\n",
              "          dataTable['output_type'] = 'display_data';\n",
              "          await google.colab.output.renderOutput(dataTable, element);\n",
              "          const docLink = document.createElement('div');\n",
              "          docLink.innerHTML = docLinkHtml;\n",
              "          element.appendChild(docLink);\n",
              "        }\n",
              "      </script>\n",
              "    </div>\n",
              "  </div>\n",
              "  "
            ],
            "text/plain": [
              "      labels  ...                                              token\n",
              "6448       1  ...  number security official killed pkk terror att...\n",
              "1237       1  ...  ton smoke coming apartment building ross aubur...\n",
              "6761       0  ...  heather night ava sparxxx enjoy wild teen thre...\n",
              "5621       1  ...          hmm nigerian refugee repatriated cameroon\n",
              "4051       1  ...  spread conflict palmoil sparked increase fire ...\n",
              "\n",
              "[5 rows x 3 columns]"
            ]
          },
          "metadata": {},
          "execution_count": 14
        }
      ]
    },
    {
      "cell_type": "code",
      "source": [
        "#No empty records\n",
        "df = df[df.token != '']"
      ],
      "metadata": {
        "id": "Os4AozW8Qzz5"
      },
      "execution_count": 15,
      "outputs": []
    },
    {
      "cell_type": "code",
      "source": [
        "df.labels.value_counts(normalize=True) #for class_weight"
      ],
      "metadata": {
        "colab": {
          "base_uri": "https://localhost:8080/"
        },
        "id": "TdlPRjZ0F5hq",
        "outputId": "be66f735-de80-4f8c-8e36-c7e77cb8ef72"
      },
      "execution_count": 15,
      "outputs": [
        {
          "output_type": "execute_result",
          "data": {
            "text/plain": [
              "0    0.56983\n",
              "1    0.43017\n",
              "Name: labels, dtype: float64"
            ]
          },
          "metadata": {},
          "execution_count": 15
        }
      ]
    },
    {
      "cell_type": "code",
      "source": [
        "# Define the vocabulary size and number of words in a sequence\n",
        "vocab_size = len(list(set(' '.join([x for x in df.token.values]).split())))\n",
        "print('vocab_size : ', vocab_size)\n",
        "\n",
        "# length of the longest tokenized tweet : \n",
        "sequence_length = max([len(x.split()) for x in df.token.values])\n",
        "print('sequence_length : ', sequence_length)"
      ],
      "metadata": {
        "colab": {
          "base_uri": "https://localhost:8080/"
        },
        "id": "cthhoRd_u1iQ",
        "outputId": "c107bc3c-2809-433c-9ba3-7618ba923c7c"
      },
      "execution_count": 16,
      "outputs": [
        {
          "output_type": "stream",
          "name": "stdout",
          "text": [
            "vocab_size :  12515\n",
            "sequence_length :  21\n"
          ]
        }
      ]
    },
    {
      "cell_type": "code",
      "source": [
        "tokenizer = tf.keras.preprocessing.text.Tokenizer(num_words = vocab_size)\n",
        "tokenizer.fit_on_texts(df.token)\n",
        "df[\"token_encoded\"] = tokenizer.texts_to_sequences(df.token)\n",
        "df = df[df.token != '']\n",
        "df.sample(5)\n",
        "\n"
      ],
      "metadata": {
        "colab": {
          "base_uri": "https://localhost:8080/",
          "height": 206
        },
        "id": "G6Tosvl7YkE1",
        "outputId": "374ced0f-df36-4071-b428-5ffbe8151f2b"
      },
      "execution_count": 17,
      "outputs": [
        {
          "output_type": "execute_result",
          "data": {
            "text/html": [
              "\n",
              "  <div id=\"df-637eecca-4ce0-44fc-9759-ca48d98bae71\">\n",
              "    <div class=\"colab-df-container\">\n",
              "      <div>\n",
              "<style scoped>\n",
              "    .dataframe tbody tr th:only-of-type {\n",
              "        vertical-align: middle;\n",
              "    }\n",
              "\n",
              "    .dataframe tbody tr th {\n",
              "        vertical-align: top;\n",
              "    }\n",
              "\n",
              "    .dataframe thead th {\n",
              "        text-align: right;\n",
              "    }\n",
              "</style>\n",
              "<table border=\"1\" class=\"dataframe\">\n",
              "  <thead>\n",
              "    <tr style=\"text-align: right;\">\n",
              "      <th></th>\n",
              "      <th>labels</th>\n",
              "      <th>text</th>\n",
              "      <th>token</th>\n",
              "      <th>token_encoded</th>\n",
              "    </tr>\n",
              "  </thead>\n",
              "  <tbody>\n",
              "    <tr>\n",
              "      <th>6381</th>\n",
              "      <td>1</td>\n",
              "      <td>11 soldiers killed in ISIS suicide bomb in air...</td>\n",
              "      <td>soldier killed isi suicide bomb air base east ...</td>\n",
              "      <td>[916, 33, 333, 20, 19, 172, 2332, 581, 5133, 1...</td>\n",
              "    </tr>\n",
              "    <tr>\n",
              "      <th>7464</th>\n",
              "      <td>1</td>\n",
              "      <td>Crawling in my skin\\nThese wounds they will no...</td>\n",
              "      <td>crawling skin wound hea</td>\n",
              "      <td>[12434, 1689, 241, 12435]</td>\n",
              "    </tr>\n",
              "    <tr>\n",
              "      <th>1566</th>\n",
              "      <td>0</td>\n",
              "      <td>I regress and I slip and I fall off that cliff</td>\n",
              "      <td>regress slip fall cliff</td>\n",
              "      <td>[6716, 1750, 107, 249]</td>\n",
              "    </tr>\n",
              "    <tr>\n",
              "      <th>1971</th>\n",
              "      <td>0</td>\n",
              "      <td>1970 Mercury Cyclone GT Hood Moulding Very NIC...</td>\n",
              "      <td>mercury cyclone hood moulding nice core cobra jet</td>\n",
              "      <td>[3121, 383, 3537, 4203, 834, 4204, 3122, 1505]</td>\n",
              "    </tr>\n",
              "    <tr>\n",
              "      <th>5892</th>\n",
              "      <td>0</td>\n",
              "      <td>Who need friends when there's booze and Darude...</td>\n",
              "      <td>friend booze darude sandstorm</td>\n",
              "      <td>[205, 10916, 2197, 257]</td>\n",
              "    </tr>\n",
              "  </tbody>\n",
              "</table>\n",
              "</div>\n",
              "      <button class=\"colab-df-convert\" onclick=\"convertToInteractive('df-637eecca-4ce0-44fc-9759-ca48d98bae71')\"\n",
              "              title=\"Convert this dataframe to an interactive table.\"\n",
              "              style=\"display:none;\">\n",
              "        \n",
              "  <svg xmlns=\"http://www.w3.org/2000/svg\" height=\"24px\"viewBox=\"0 0 24 24\"\n",
              "       width=\"24px\">\n",
              "    <path d=\"M0 0h24v24H0V0z\" fill=\"none\"/>\n",
              "    <path d=\"M18.56 5.44l.94 2.06.94-2.06 2.06-.94-2.06-.94-.94-2.06-.94 2.06-2.06.94zm-11 1L8.5 8.5l.94-2.06 2.06-.94-2.06-.94L8.5 2.5l-.94 2.06-2.06.94zm10 10l.94 2.06.94-2.06 2.06-.94-2.06-.94-.94-2.06-.94 2.06-2.06.94z\"/><path d=\"M17.41 7.96l-1.37-1.37c-.4-.4-.92-.59-1.43-.59-.52 0-1.04.2-1.43.59L10.3 9.45l-7.72 7.72c-.78.78-.78 2.05 0 2.83L4 21.41c.39.39.9.59 1.41.59.51 0 1.02-.2 1.41-.59l7.78-7.78 2.81-2.81c.8-.78.8-2.07 0-2.86zM5.41 20L4 18.59l7.72-7.72 1.47 1.35L5.41 20z\"/>\n",
              "  </svg>\n",
              "      </button>\n",
              "      \n",
              "  <style>\n",
              "    .colab-df-container {\n",
              "      display:flex;\n",
              "      flex-wrap:wrap;\n",
              "      gap: 12px;\n",
              "    }\n",
              "\n",
              "    .colab-df-convert {\n",
              "      background-color: #E8F0FE;\n",
              "      border: none;\n",
              "      border-radius: 50%;\n",
              "      cursor: pointer;\n",
              "      display: none;\n",
              "      fill: #1967D2;\n",
              "      height: 32px;\n",
              "      padding: 0 0 0 0;\n",
              "      width: 32px;\n",
              "    }\n",
              "\n",
              "    .colab-df-convert:hover {\n",
              "      background-color: #E2EBFA;\n",
              "      box-shadow: 0px 1px 2px rgba(60, 64, 67, 0.3), 0px 1px 3px 1px rgba(60, 64, 67, 0.15);\n",
              "      fill: #174EA6;\n",
              "    }\n",
              "\n",
              "    [theme=dark] .colab-df-convert {\n",
              "      background-color: #3B4455;\n",
              "      fill: #D2E3FC;\n",
              "    }\n",
              "\n",
              "    [theme=dark] .colab-df-convert:hover {\n",
              "      background-color: #434B5C;\n",
              "      box-shadow: 0px 1px 3px 1px rgba(0, 0, 0, 0.15);\n",
              "      filter: drop-shadow(0px 1px 2px rgba(0, 0, 0, 0.3));\n",
              "      fill: #FFFFFF;\n",
              "    }\n",
              "  </style>\n",
              "\n",
              "      <script>\n",
              "        const buttonEl =\n",
              "          document.querySelector('#df-637eecca-4ce0-44fc-9759-ca48d98bae71 button.colab-df-convert');\n",
              "        buttonEl.style.display =\n",
              "          google.colab.kernel.accessAllowed ? 'block' : 'none';\n",
              "\n",
              "        async function convertToInteractive(key) {\n",
              "          const element = document.querySelector('#df-637eecca-4ce0-44fc-9759-ca48d98bae71');\n",
              "          const dataTable =\n",
              "            await google.colab.kernel.invokeFunction('convertToInteractive',\n",
              "                                                     [key], {});\n",
              "          if (!dataTable) return;\n",
              "\n",
              "          const docLinkHtml = 'Like what you see? Visit the ' +\n",
              "            '<a target=\"_blank\" href=https://colab.research.google.com/notebooks/data_table.ipynb>data table notebook</a>'\n",
              "            + ' to learn more about interactive tables.';\n",
              "          element.innerHTML = '';\n",
              "          dataTable['output_type'] = 'display_data';\n",
              "          await google.colab.output.renderOutput(dataTable, element);\n",
              "          const docLink = document.createElement('div');\n",
              "          docLink.innerHTML = docLinkHtml;\n",
              "          element.appendChild(docLink);\n",
              "        }\n",
              "      </script>\n",
              "    </div>\n",
              "  </div>\n",
              "  "
            ],
            "text/plain": [
              "      labels  ...                                      token_encoded\n",
              "6381       1  ...  [916, 33, 333, 20, 19, 172, 2332, 581, 5133, 1...\n",
              "7464       1  ...                          [12434, 1689, 241, 12435]\n",
              "1566       0  ...                             [6716, 1750, 107, 249]\n",
              "1971       0  ...     [3121, 383, 3537, 4203, 834, 4204, 3122, 1505]\n",
              "5892       0  ...                            [205, 10916, 2197, 257]\n",
              "\n",
              "[5 rows x 4 columns]"
            ]
          },
          "metadata": {},
          "execution_count": 17
        }
      ]
    },
    {
      "cell_type": "code",
      "source": [
        "# lookup for the words and indices\n",
        "top_10_tokens = [{key, value} for key, value in tokenizer.index_word.items() if int(key) < 11]\n",
        "top_10_tokens"
      ],
      "metadata": {
        "colab": {
          "base_uri": "https://localhost:8080/"
        },
        "id": "2TIlynVF7dDi",
        "outputId": "6f439c36-53e7-4003-d168-6fc6d67ae861"
      },
      "execution_count": 18,
      "outputs": [
        {
          "output_type": "execute_result",
          "data": {
            "text/plain": [
              "[{1, 'people'},\n",
              " {2, 'news'},\n",
              " {3, 'time'},\n",
              " {4, 'year'},\n",
              " {5, 'video'},\n",
              " {6, 'disaster'},\n",
              " {7, 'emergency'},\n",
              " {8, 'body'},\n",
              " {9, 'day'},\n",
              " {10, 'home'}]"
            ]
          },
          "metadata": {},
          "execution_count": 18
        }
      ]
    },
    {
      "cell_type": "code",
      "source": [
        "#Padding\n",
        "df_pad = tf.keras.preprocessing.sequence.pad_sequences(df.token_encoded, maxlen=sequence_length, padding=\"post\")\n",
        "df_pad"
      ],
      "metadata": {
        "id": "VwXS2kNmt3v4",
        "colab": {
          "base_uri": "https://localhost:8080/"
        },
        "outputId": "8b9f5177-a6e7-4732-eb5f-45e220d6f405"
      },
      "execution_count": 19,
      "outputs": [
        {
          "output_type": "execute_result",
          "data": {
            "text/plain": [
              "array([[3514,  351,  102, ...,    0,    0,    0],\n",
              "       [  62, 5246, 5247, ...,    0,    0,    0],\n",
              "       [1260, 1159, 1417, ...,    0,    0,    0],\n",
              "       ...,\n",
              "       [ 488,  347, 1148, ...,    0,    0,    0],\n",
              "       [  11,  804, 1726, ...,    0,    0,    0],\n",
              "       [  80,   10,  350, ...,    0,    0,    0]], dtype=int32)"
            ]
          },
          "metadata": {},
          "execution_count": 19
        }
      ]
    },
    {
      "cell_type": "code",
      "source": [
        "# Build a tensorflow dataset containing the encoded texts and the labels.\n",
        "full_df = tf.data.Dataset.from_tensor_slices((df_pad, df.labels))\n",
        "\n",
        "#train test split\n",
        "TAKE_SIZE = int(0.8*df.shape[0])\n",
        "batch_size = 64\n",
        "\n",
        "train = full_df.take(TAKE_SIZE).shuffle(TAKE_SIZE)\n",
        "train = train.batch(batch_size)\n",
        "\n",
        "test = full_df.skip(TAKE_SIZE)\n",
        "test = test.batch(batch_size)\n"
      ],
      "metadata": {
        "id": "BEj5RGw54lvO"
      },
      "execution_count": 20,
      "outputs": []
    },
    {
      "cell_type": "code",
      "source": [
        "# Let's look at one batch \n",
        "for e in train.take(1):\n",
        "  print(e)"
      ],
      "metadata": {
        "colab": {
          "base_uri": "https://localhost:8080/"
        },
        "id": "eTIanK19GR9D",
        "outputId": "17c9aaf8-720b-4fcd-b04d-ba11da7e1a34"
      },
      "execution_count": 21,
      "outputs": [
        {
          "output_type": "stream",
          "name": "stdout",
          "text": [
            "(<tf.Tensor: shape=(64, 21), dtype=int32, numpy=\n",
            "array([[   1,  401,  497, ...,    0,    0,    0],\n",
            "       [ 691,    5,  793, ...,    0,    0,    0],\n",
            "       [  52,  146,  470, ...,    0,    0,    0],\n",
            "       ...,\n",
            "       [5578,  339, 5579, ...,    0,    0,    0],\n",
            "       [ 277,    0,    0, ...,    0,    0,    0],\n",
            "       [1032, 4648,  971, ...,    0,    0,    0]], dtype=int32)>, <tf.Tensor: shape=(64,), dtype=int64, numpy=\n",
            "array([1, 1, 0, 1, 0, 1, 0, 1, 1, 0, 1, 0, 1, 0, 1, 0, 1, 1, 0, 1, 1, 0,\n",
            "       0, 0, 0, 1, 1, 0, 0, 0, 0, 0, 0, 1, 0, 0, 0, 1, 0, 0, 0, 0, 0, 0,\n",
            "       1, 0, 0, 0, 0, 0, 0, 1, 1, 0, 0, 1, 1, 0, 0, 1, 1, 0, 0, 0])>)\n"
          ]
        }
      ]
    },
    {
      "cell_type": "markdown",
      "source": [
        "# First Sequential model"
      ],
      "metadata": {
        "id": "ntusnu5P1XTb"
      }
    },
    {
      "cell_type": "code",
      "source": [
        "os.chdir('/content/drive/MyDrive/disaster tweet/best_model_history')"
      ],
      "metadata": {
        "id": "k18sqVZH2HJz"
      },
      "execution_count": 22,
      "outputs": []
    },
    {
      "cell_type": "code",
      "source": [
        "#  Create a model in order to train an embedding\n",
        "from tensorflow.keras.models import Sequential\n",
        "from tensorflow.keras.layers import  Embedding, Dense, GlobalAveragePooling1D\n",
        "from tensorflow.keras.optimizers import Adam\n",
        "n_dense = 64\n",
        "\n",
        "model = Sequential()\n",
        "model.add(Embedding(vocab_size +1, batch_size, name=\"embedding\", embeddings_initializer='lecun_uniform'))\n",
        "# the input dim needs to be equal to the size of the vocabulary + 1 (because of the zero padding)\n",
        "model.add(tf.keras.layers.Dropout(0.2))\n",
        "model.add(GlobalAveragePooling1D()) # this will pick the average for every word in the sentence along each dimension of the representation space.\n",
        "model.add(tf.keras.layers.Dropout(0.2))\n",
        "\n",
        "# Bidirectional LSTM layer\n",
        "model.add(tf.keras.layers.Reshape(( 1,64)))\n",
        "model.add(tf.keras.layers.Bidirectional(tf.keras.layers.LSTM(32, return_sequences=True)))\n",
        "model.add(tf.keras.layers.Dropout(0.2))\n",
        "model.add(tf.keras.layers.LSTM(16, return_sequences=False)) \n",
        "model.add(tf.keras.layers.Dropout(0.2))\n",
        "\n",
        "# model.add(Dense(64,activation=\"relu\"))\n",
        "# model.add(Dense(32,activation=\"relu\"))\n",
        "model.add(Dense(16,activation=\"relu\"))\n",
        "model.add(Dense(8,\"relu\"))\n",
        "model.add(Dense(1, activation=\"sigmoid\"))\n",
        "model.summary()\n",
        "\n",
        "\n",
        "\n",
        "opt = tf.keras.optimizers.Adam(learning_rate= 0.0005)\n",
        "thresholds = 0.5\n",
        "METRICS = [\n",
        "      tf.keras.metrics.TruePositives(name='tp',thresholds=thresholds),\n",
        "      tf.keras.metrics.FalsePositives(name='fp',thresholds=thresholds),\n",
        "      tf.keras.metrics.TrueNegatives(name='tn',thresholds=thresholds),\n",
        "      tf.keras.metrics.FalseNegatives(name='fn',thresholds=thresholds),\n",
        "      tf.keras.metrics.BinaryAccuracy(name='accuracy'),\n",
        "      tf.keras.metrics.Precision(name='precision'),\n",
        "      tf.keras.metrics.Recall(name='recall'),\n",
        "      \n",
        "]\n",
        "model.compile(optimizer=opt,\n",
        "              loss=\"binary_crossentropy\",\n",
        "               metrics = METRICS)\n"
      ],
      "metadata": {
        "colab": {
          "base_uri": "https://localhost:8080/"
        },
        "id": "jGBGPKuuGwaV",
        "outputId": "25d2a8fb-f412-4891-bacc-f5efa52d07e2"
      },
      "execution_count": 23,
      "outputs": [
        {
          "output_type": "stream",
          "name": "stdout",
          "text": [
            "Model: \"sequential\"\n",
            "_________________________________________________________________\n",
            " Layer (type)                Output Shape              Param #   \n",
            "=================================================================\n",
            " embedding (Embedding)       (None, None, 64)          801024    \n",
            "                                                                 \n",
            " dropout (Dropout)           (None, None, 64)          0         \n",
            "                                                                 \n",
            " global_average_pooling1d (G  (None, 64)               0         \n",
            " lobalAveragePooling1D)                                          \n",
            "                                                                 \n",
            " dropout_1 (Dropout)         (None, 64)                0         \n",
            "                                                                 \n",
            " reshape (Reshape)           (None, 1, 64)             0         \n",
            "                                                                 \n",
            " bidirectional (Bidirectiona  (None, 1, 64)            24832     \n",
            " l)                                                              \n",
            "                                                                 \n",
            " dropout_2 (Dropout)         (None, 1, 64)             0         \n",
            "                                                                 \n",
            " lstm_1 (LSTM)               (None, 16)                5184      \n",
            "                                                                 \n",
            " dropout_3 (Dropout)         (None, 16)                0         \n",
            "                                                                 \n",
            " dense (Dense)               (None, 16)                272       \n",
            "                                                                 \n",
            " dense_1 (Dense)             (None, 8)                 136       \n",
            "                                                                 \n",
            " dense_2 (Dense)             (None, 1)                 9         \n",
            "                                                                 \n",
            "=================================================================\n",
            "Total params: 831,457\n",
            "Trainable params: 831,457\n",
            "Non-trainable params: 0\n",
            "_________________________________________________________________\n"
          ]
        }
      ]
    },
    {
      "cell_type": "code",
      "source": [
        "#Taking weight class in account\n",
        "df.labels.value_counts()/(df.shape[0])\n",
        "class_weight = {0:     0.56983,\n",
        "                1:    0.43017}\n",
        "\n",
        "#Define early stopping\n",
        "from keras.callbacks import EarlyStopping\n",
        "earlystop = EarlyStopping(monitor = 'val_accuracy',\n",
        "                          min_delta = 0.001,\n",
        "                          patience = 25,\n",
        "                          verbose = 1,\n",
        "                          restore_best_weights = True)\n",
        "#Define Checkpoint\n",
        "from keras.callbacks import ModelCheckpoint\n",
        "checkpoint_filepath = '/content/drive/MyDrive/disaster tweet/best_model_history'\n",
        "model_checkpoint_callback = tf.keras.callbacks.ModelCheckpoint('best_model.h5',\n",
        "    # filepath=checkpoint_filepath,\n",
        "    save_weights_only=False,\n",
        "    monitor='val_accuracy',\n",
        "    mode='max',\n",
        "    save_best_only=True,\n",
        "    restore_best_weights = True)\n",
        "\n",
        "\n",
        "my_callbacks = [\n",
        "    earlystop,\n",
        "    model_checkpoint_callback\n",
        "\n",
        "]\n",
        "# Training the model\n",
        "history = model.fit(train,\n",
        "          epochs=30, \n",
        "          validation_data=test,\n",
        "          class_weight = class_weight,\n",
        "          callbacks=my_callbacks)"
      ],
      "metadata": {
        "id": "Itj1LD2--S1m",
        "outputId": "0e75393f-8edf-4ffb-be0d-47b68d78ba68",
        "colab": {
          "base_uri": "https://localhost:8080/"
        }
      },
      "execution_count": 24,
      "outputs": [
        {
          "output_type": "stream",
          "name": "stdout",
          "text": [
            "Epoch 1/30\n",
            "95/95 [==============================] - 13s 33ms/step - loss: 0.3400 - tp: 7.0000 - fp: 11.0000 - tn: 3506.0000 - fn: 2553.0000 - accuracy: 0.5781 - precision: 0.3889 - recall: 0.0027 - val_loss: 0.7138 - val_tp: 0.0000e+00 - val_fp: 0.0000e+00 - val_tn: 812.0000 - val_fn: 708.0000 - val_accuracy: 0.5342 - val_precision: 0.0000e+00 - val_recall: 0.0000e+00\n",
            "Epoch 2/30\n",
            "95/95 [==============================] - 1s 9ms/step - loss: 0.3218 - tp: 0.0000e+00 - fp: 0.0000e+00 - tn: 3517.0000 - fn: 2560.0000 - accuracy: 0.5787 - precision: 0.0000e+00 - recall: 0.0000e+00 - val_loss: 0.6897 - val_tp: 0.0000e+00 - val_fp: 0.0000e+00 - val_tn: 812.0000 - val_fn: 708.0000 - val_accuracy: 0.5342 - val_precision: 0.0000e+00 - val_recall: 0.0000e+00\n",
            "Epoch 3/30\n",
            "95/95 [==============================] - 1s 10ms/step - loss: 0.2820 - tp: 285.0000 - fp: 9.0000 - tn: 3508.0000 - fn: 2275.0000 - accuracy: 0.6242 - precision: 0.9694 - recall: 0.1113 - val_loss: 0.5916 - val_tp: 252.0000 - val_fp: 10.0000 - val_tn: 802.0000 - val_fn: 456.0000 - val_accuracy: 0.6934 - val_precision: 0.9618 - val_recall: 0.3559\n",
            "Epoch 4/30\n",
            "95/95 [==============================] - 1s 10ms/step - loss: 0.2176 - tp: 1653.0000 - fp: 136.0000 - tn: 3381.0000 - fn: 907.0000 - accuracy: 0.8284 - precision: 0.9240 - recall: 0.6457 - val_loss: 0.5236 - val_tp: 500.0000 - val_fp: 93.0000 - val_tn: 719.0000 - val_fn: 208.0000 - val_accuracy: 0.8020 - val_precision: 0.8432 - val_recall: 0.7062\n",
            "Epoch 5/30\n",
            "95/95 [==============================] - 1s 10ms/step - loss: 0.1690 - tp: 2057.0000 - fp: 218.0000 - tn: 3299.0000 - fn: 503.0000 - accuracy: 0.8814 - precision: 0.9042 - recall: 0.8035 - val_loss: 0.4930 - val_tp: 521.0000 - val_fp: 105.0000 - val_tn: 707.0000 - val_fn: 187.0000 - val_accuracy: 0.8079 - val_precision: 0.8323 - val_recall: 0.7359\n",
            "Epoch 6/30\n",
            "95/95 [==============================] - 1s 9ms/step - loss: 0.1318 - tp: 2210.0000 - fp: 203.0000 - tn: 3314.0000 - fn: 350.0000 - accuracy: 0.9090 - precision: 0.9159 - recall: 0.8633 - val_loss: 0.4969 - val_tp: 522.0000 - val_fp: 106.0000 - val_tn: 706.0000 - val_fn: 186.0000 - val_accuracy: 0.8079 - val_precision: 0.8312 - val_recall: 0.7373\n",
            "Epoch 7/30\n",
            "95/95 [==============================] - 1s 9ms/step - loss: 0.1059 - tp: 2269.0000 - fp: 174.0000 - tn: 3343.0000 - fn: 291.0000 - accuracy: 0.9235 - precision: 0.9288 - recall: 0.8863 - val_loss: 0.5049 - val_tp: 541.0000 - val_fp: 138.0000 - val_tn: 674.0000 - val_fn: 167.0000 - val_accuracy: 0.7993 - val_precision: 0.7968 - val_recall: 0.7641\n",
            "Epoch 8/30\n",
            "95/95 [==============================] - 1s 9ms/step - loss: 0.0885 - tp: 2305.0000 - fp: 126.0000 - tn: 3391.0000 - fn: 255.0000 - accuracy: 0.9373 - precision: 0.9482 - recall: 0.9004 - val_loss: 0.5420 - val_tp: 542.0000 - val_fp: 151.0000 - val_tn: 661.0000 - val_fn: 166.0000 - val_accuracy: 0.7914 - val_precision: 0.7821 - val_recall: 0.7655\n",
            "Epoch 9/30\n",
            "95/95 [==============================] - 1s 9ms/step - loss: 0.0770 - tp: 2343.0000 - fp: 116.0000 - tn: 3401.0000 - fn: 217.0000 - accuracy: 0.9452 - precision: 0.9528 - recall: 0.9152 - val_loss: 0.5810 - val_tp: 555.0000 - val_fp: 196.0000 - val_tn: 616.0000 - val_fn: 153.0000 - val_accuracy: 0.7704 - val_precision: 0.7390 - val_recall: 0.7839\n",
            "Epoch 10/30\n",
            "95/95 [==============================] - 1s 9ms/step - loss: 0.0667 - tp: 2364.0000 - fp: 96.0000 - tn: 3421.0000 - fn: 196.0000 - accuracy: 0.9519 - precision: 0.9610 - recall: 0.9234 - val_loss: 0.6134 - val_tp: 544.0000 - val_fp: 169.0000 - val_tn: 643.0000 - val_fn: 164.0000 - val_accuracy: 0.7809 - val_precision: 0.7630 - val_recall: 0.7684\n",
            "Epoch 11/30\n",
            "95/95 [==============================] - 1s 9ms/step - loss: 0.0569 - tp: 2400.0000 - fp: 86.0000 - tn: 3431.0000 - fn: 160.0000 - accuracy: 0.9595 - precision: 0.9654 - recall: 0.9375 - val_loss: 0.6638 - val_tp: 562.0000 - val_fp: 230.0000 - val_tn: 582.0000 - val_fn: 146.0000 - val_accuracy: 0.7526 - val_precision: 0.7096 - val_recall: 0.7938\n",
            "Epoch 12/30\n",
            "95/95 [==============================] - 1s 10ms/step - loss: 0.0516 - tp: 2422.0000 - fp: 69.0000 - tn: 3448.0000 - fn: 138.0000 - accuracy: 0.9659 - precision: 0.9723 - recall: 0.9461 - val_loss: 0.6874 - val_tp: 551.0000 - val_fp: 206.0000 - val_tn: 606.0000 - val_fn: 157.0000 - val_accuracy: 0.7612 - val_precision: 0.7279 - val_recall: 0.7782\n",
            "Epoch 13/30\n",
            "95/95 [==============================] - 1s 9ms/step - loss: 0.0491 - tp: 2418.0000 - fp: 67.0000 - tn: 3450.0000 - fn: 142.0000 - accuracy: 0.9656 - precision: 0.9730 - recall: 0.9445 - val_loss: 0.7448 - val_tp: 568.0000 - val_fp: 251.0000 - val_tn: 561.0000 - val_fn: 140.0000 - val_accuracy: 0.7428 - val_precision: 0.6935 - val_recall: 0.8023\n",
            "Epoch 14/30\n",
            "95/95 [==============================] - 1s 9ms/step - loss: 0.0426 - tp: 2428.0000 - fp: 48.0000 - tn: 3469.0000 - fn: 132.0000 - accuracy: 0.9704 - precision: 0.9806 - recall: 0.9484 - val_loss: 0.7687 - val_tp: 545.0000 - val_fp: 208.0000 - val_tn: 604.0000 - val_fn: 163.0000 - val_accuracy: 0.7559 - val_precision: 0.7238 - val_recall: 0.7698\n",
            "Epoch 15/30\n",
            "95/95 [==============================] - 1s 9ms/step - loss: 0.0416 - tp: 2427.0000 - fp: 49.0000 - tn: 3468.0000 - fn: 133.0000 - accuracy: 0.9701 - precision: 0.9802 - recall: 0.9480 - val_loss: 0.8324 - val_tp: 562.0000 - val_fp: 248.0000 - val_tn: 564.0000 - val_fn: 146.0000 - val_accuracy: 0.7408 - val_precision: 0.6938 - val_recall: 0.7938\n",
            "Epoch 16/30\n",
            "95/95 [==============================] - 1s 9ms/step - loss: 0.0384 - tp: 2443.0000 - fp: 53.0000 - tn: 3464.0000 - fn: 117.0000 - accuracy: 0.9720 - precision: 0.9788 - recall: 0.9543 - val_loss: 0.8482 - val_tp: 555.0000 - val_fp: 239.0000 - val_tn: 573.0000 - val_fn: 153.0000 - val_accuracy: 0.7421 - val_precision: 0.6990 - val_recall: 0.7839\n",
            "Epoch 17/30\n",
            "95/95 [==============================] - 1s 9ms/step - loss: 0.0360 - tp: 2438.0000 - fp: 47.0000 - tn: 3470.0000 - fn: 122.0000 - accuracy: 0.9722 - precision: 0.9811 - recall: 0.9523 - val_loss: 0.9127 - val_tp: 567.0000 - val_fp: 268.0000 - val_tn: 544.0000 - val_fn: 141.0000 - val_accuracy: 0.7309 - val_precision: 0.6790 - val_recall: 0.8008\n",
            "Epoch 18/30\n",
            "95/95 [==============================] - 1s 9ms/step - loss: 0.0358 - tp: 2441.0000 - fp: 44.0000 - tn: 3473.0000 - fn: 119.0000 - accuracy: 0.9732 - precision: 0.9823 - recall: 0.9535 - val_loss: 0.8916 - val_tp: 551.0000 - val_fp: 229.0000 - val_tn: 583.0000 - val_fn: 157.0000 - val_accuracy: 0.7461 - val_precision: 0.7064 - val_recall: 0.7782\n",
            "Epoch 19/30\n",
            "95/95 [==============================] - 1s 9ms/step - loss: 0.0336 - tp: 2451.0000 - fp: 40.0000 - tn: 3477.0000 - fn: 109.0000 - accuracy: 0.9755 - precision: 0.9839 - recall: 0.9574 - val_loss: 0.9359 - val_tp: 549.0000 - val_fp: 238.0000 - val_tn: 574.0000 - val_fn: 159.0000 - val_accuracy: 0.7388 - val_precision: 0.6976 - val_recall: 0.7754\n",
            "Epoch 20/30\n",
            "95/95 [==============================] - 1s 11ms/step - loss: 0.0336 - tp: 2449.0000 - fp: 43.0000 - tn: 3474.0000 - fn: 111.0000 - accuracy: 0.9747 - precision: 0.9827 - recall: 0.9566 - val_loss: 0.9389 - val_tp: 548.0000 - val_fp: 233.0000 - val_tn: 579.0000 - val_fn: 160.0000 - val_accuracy: 0.7414 - val_precision: 0.7017 - val_recall: 0.7740\n",
            "Epoch 21/30\n",
            "95/95 [==============================] - 1s 11ms/step - loss: 0.0319 - tp: 2447.0000 - fp: 35.0000 - tn: 3482.0000 - fn: 113.0000 - accuracy: 0.9756 - precision: 0.9859 - recall: 0.9559 - val_loss: 0.9303 - val_tp: 540.0000 - val_fp: 210.0000 - val_tn: 602.0000 - val_fn: 168.0000 - val_accuracy: 0.7513 - val_precision: 0.7200 - val_recall: 0.7627\n",
            "Epoch 22/30\n",
            "95/95 [==============================] - 1s 11ms/step - loss: 0.0322 - tp: 2459.0000 - fp: 32.0000 - tn: 3485.0000 - fn: 101.0000 - accuracy: 0.9781 - precision: 0.9872 - recall: 0.9605 - val_loss: 0.9755 - val_tp: 554.0000 - val_fp: 238.0000 - val_tn: 574.0000 - val_fn: 154.0000 - val_accuracy: 0.7421 - val_precision: 0.6995 - val_recall: 0.7825\n",
            "Epoch 23/30\n",
            "95/95 [==============================] - 1s 9ms/step - loss: 0.0289 - tp: 2458.0000 - fp: 37.0000 - tn: 3480.0000 - fn: 102.0000 - accuracy: 0.9771 - precision: 0.9852 - recall: 0.9602 - val_loss: 0.9677 - val_tp: 540.0000 - val_fp: 214.0000 - val_tn: 598.0000 - val_fn: 168.0000 - val_accuracy: 0.7487 - val_precision: 0.7162 - val_recall: 0.7627\n",
            "Epoch 24/30\n",
            "95/95 [==============================] - 1s 9ms/step - loss: 0.0300 - tp: 2449.0000 - fp: 35.0000 - tn: 3482.0000 - fn: 111.0000 - accuracy: 0.9760 - precision: 0.9859 - recall: 0.9566 - val_loss: 0.9653 - val_tp: 537.0000 - val_fp: 214.0000 - val_tn: 598.0000 - val_fn: 171.0000 - val_accuracy: 0.7467 - val_precision: 0.7150 - val_recall: 0.7585\n",
            "Epoch 25/30\n",
            "95/95 [==============================] - 1s 9ms/step - loss: 0.0300 - tp: 2445.0000 - fp: 35.0000 - tn: 3482.0000 - fn: 115.0000 - accuracy: 0.9753 - precision: 0.9859 - recall: 0.9551 - val_loss: 0.9581 - val_tp: 527.0000 - val_fp: 193.0000 - val_tn: 619.0000 - val_fn: 181.0000 - val_accuracy: 0.7539 - val_precision: 0.7319 - val_recall: 0.7444\n",
            "Epoch 26/30\n",
            "95/95 [==============================] - 1s 9ms/step - loss: 0.0281 - tp: 2458.0000 - fp: 27.0000 - tn: 3490.0000 - fn: 102.0000 - accuracy: 0.9788 - precision: 0.9891 - recall: 0.9602 - val_loss: 1.0210 - val_tp: 540.0000 - val_fp: 218.0000 - val_tn: 594.0000 - val_fn: 168.0000 - val_accuracy: 0.7461 - val_precision: 0.7124 - val_recall: 0.7627\n",
            "Epoch 27/30\n",
            "95/95 [==============================] - 1s 9ms/step - loss: 0.0276 - tp: 2457.0000 - fp: 28.0000 - tn: 3489.0000 - fn: 103.0000 - accuracy: 0.9784 - precision: 0.9887 - recall: 0.9598 - val_loss: 1.0716 - val_tp: 553.0000 - val_fp: 239.0000 - val_tn: 573.0000 - val_fn: 155.0000 - val_accuracy: 0.7408 - val_precision: 0.6982 - val_recall: 0.7811\n",
            "Epoch 28/30\n",
            "95/95 [==============================] - 1s 9ms/step - loss: 0.0287 - tp: 2452.0000 - fp: 30.0000 - tn: 3487.0000 - fn: 108.0000 - accuracy: 0.9773 - precision: 0.9879 - recall: 0.9578 - val_loss: 1.0660 - val_tp: 549.0000 - val_fp: 237.0000 - val_tn: 575.0000 - val_fn: 159.0000 - val_accuracy: 0.7395 - val_precision: 0.6985 - val_recall: 0.7754\n",
            "Epoch 29/30\n",
            "95/95 [==============================] - 1s 9ms/step - loss: 0.0273 - tp: 2462.0000 - fp: 27.0000 - tn: 3490.0000 - fn: 98.0000 - accuracy: 0.9794 - precision: 0.9892 - recall: 0.9617 - val_loss: 1.0115 - val_tp: 512.0000 - val_fp: 170.0000 - val_tn: 642.0000 - val_fn: 196.0000 - val_accuracy: 0.7592 - val_precision: 0.7507 - val_recall: 0.7232\n",
            "Epoch 30/30\n",
            "90/95 [===========================>..] - ETA: 0s - loss: 0.0275 - tp: 2330.0000 - fp: 24.0000 - tn: 3303.0000 - fn: 103.0000 - accuracy: 0.9780 - precision: 0.9898 - recall: 0.9577Restoring model weights from the end of the best epoch: 5.\n",
            "95/95 [==============================] - 1s 9ms/step - loss: 0.0273 - tp: 2455.0000 - fp: 29.0000 - tn: 3488.0000 - fn: 105.0000 - accuracy: 0.9779 - precision: 0.9883 - recall: 0.9590 - val_loss: 1.0591 - val_tp: 537.0000 - val_fp: 223.0000 - val_tn: 589.0000 - val_fn: 171.0000 - val_accuracy: 0.7408 - val_precision: 0.7066 - val_recall: 0.7585\n",
            "Epoch 00030: early stopping\n"
          ]
        }
      ]
    },
    {
      "cell_type": "code",
      "source": [
        "model.save_weights('best_weights.h5')"
      ],
      "metadata": {
        "id": "ETfPqmUXaYx_"
      },
      "execution_count": 27,
      "outputs": []
    },
    {
      "cell_type": "code",
      "source": [
        "h = pd.DataFrame.from_dict(history.history)\n",
        "h.to_csv('history_model1.csv')"
      ],
      "metadata": {
        "id": "x1Hx0Wxt28O_"
      },
      "execution_count": 28,
      "outputs": []
    },
    {
      "cell_type": "code",
      "source": [
        "# Visualization of the training on the accuracy \n",
        "h.accuracy.plot(color=\"b\")\n",
        "h.val_accuracy.plot(color=\"r\")"
      ],
      "metadata": {
        "colab": {
          "base_uri": "https://localhost:8080/",
          "height": 287
        },
        "id": "P78lGsH03dMK",
        "outputId": "5d5ed497-faf5-4ff5-cc39-36eecf35ac4e"
      },
      "execution_count": 29,
      "outputs": [
        {
          "output_type": "execute_result",
          "data": {
            "text/plain": [
              "<matplotlib.axes._subplots.AxesSubplot at 0x7f82157e78d0>"
            ]
          },
          "metadata": {},
          "execution_count": 29
        },
        {
          "output_type": "display_data",
          "data": {
            "image/png": "[encoded data removed]",
            "text/plain": [
              "<Figure size 432x288 with 1 Axes>"
            ]
          },
          "metadata": {
            "needs_background": "light"
          }
        }
      ]
    },
    {
      "cell_type": "code",
      "source": [
        "# Visualization of the training on the loss \n",
        "h.loss.plot(color=\"b\")\n",
        "h.val_loss.plot(color=\"r\")"
      ],
      "metadata": {
        "colab": {
          "base_uri": "https://localhost:8080/",
          "height": 284
        },
        "id": "7HV3f_S22W5F",
        "outputId": "ddf9e919-be4f-4ebd-b174-e1446e87fb65"
      },
      "execution_count": 126,
      "outputs": [
        {
          "output_type": "execute_result",
          "data": {
            "text/plain": [
              "<matplotlib.axes._subplots.AxesSubplot at 0x7f7df421a1d0>"
            ]
          },
          "metadata": {},
          "execution_count": 126
        },
        {
          "output_type": "display_data",
          "data": {
            "image/png": "[encoded data removed]",
            "text/plain": [
              "<Figure size 432x288 with 1 Axes>"
            ]
          },
          "metadata": {
            "needs_background": "light"
          }
        }
      ]
    },
    {
      "cell_type": "code",
      "source": [
        "result = pd.read_csv('/content/drive/MyDrive/disaster tweet/best_model_history/history_model1.csv')\n",
        "# Best params on 5th epoch\n",
        "result.iloc[5]"
      ],
      "metadata": {
        "colab": {
          "base_uri": "https://localhost:8080/"
        },
        "id": "UiuQdWvu3nq5",
        "outputId": "18dfd354-93fa-4539-aa19-d32ce49b56eb"
      },
      "execution_count": 136,
      "outputs": [
        {
          "output_type": "execute_result",
          "data": {
            "text/plain": [
              "Unnamed: 0          5.000000\n",
              "loss                0.131799\n",
              "tp               2210.000000\n",
              "fp                203.000000\n",
              "tn               3314.000000\n",
              "fn                350.000000\n",
              "accuracy            0.909001\n",
              "precision           0.915872\n",
              "recall              0.863281\n",
              "val_loss            0.496860\n",
              "val_tp            522.000000\n",
              "val_fp            106.000000\n",
              "val_tn            706.000000\n",
              "val_fn            186.000000\n",
              "val_accuracy        0.807895\n",
              "val_precision       0.831210\n",
              "val_recall          0.737288\n",
              "Name: 5, dtype: float64"
            ]
          },
          "metadata": {},
          "execution_count": 136
        }
      ]
    },
    {
      "cell_type": "code",
      "source": [
        "# Best params on 5th epoch\n",
        "print('accuracy : ',result.iloc[5].val_accuracy )\n",
        "precision = result.iloc[5].val_precision\n",
        "print('precision : ',result.iloc[5].val_precision)\n",
        "recall = result.iloc[5].val_recall\n",
        "print('recall :', result.iloc[5].val_recall)\n",
        "print('f1_score : ',2*(precision*recall) / (precision+recall))\n"
      ],
      "metadata": {
        "colab": {
          "base_uri": "https://localhost:8080/"
        },
        "id": "NBhfp8MQ4r2F",
        "outputId": "a60696fc-a1b6-47d7-d744-2cb617e4e424"
      },
      "execution_count": 135,
      "outputs": [
        {
          "output_type": "stream",
          "name": "stdout",
          "text": [
            "accuracy :  0.8078947663307191\n",
            "precision :  0.8312101960182191\n",
            "recall : 0.7372881174087524\n",
            "f1_score :  0.7814371177157998\n"
          ]
        }
      ]
    },
    {
      "cell_type": "code",
      "source": [
        "accuracy = (result['tp'] + result['tn']) / (result['tp'] + result['tn'] + result['fp'] + result['fn'])\n",
        "print('accuracy : ',accuracy )\n",
        "precision = result['tp'] / (result['tp'] + result['fp'])\n",
        "print('precision : ', precision)\n",
        "recall = result['tp']/ (result['tp'] + result['fn'])\n",
        "print('recall :', recall)\n",
        "f1_score = 2*(precision*recall) / (precision+recall)\n",
        "print('f1_score : ',f1_score)"
      ],
      "metadata": {
        "id": "at3fjckV2vX8"
      },
      "execution_count": null,
      "outputs": []
    },
    {
      "cell_type": "code",
      "source": [
        "\n",
        "bestmodel = load_model('/content/drive/MyDrive/disaster tweet/best_model_history/best_model.h5', compile = True)"
      ],
      "metadata": {
        "id": "k_EIXxn3zXL-"
      },
      "execution_count": 114,
      "outputs": []
    },
    {
      "cell_type": "code",
      "source": [
        "predictions, raw_outputs = model.predict(pd.read_csv('/content/drive/MyDrive/disaster tweet/nlp-getting-started/test.csv').text.values[1])\n",
        "predictions.mean().astype(int)"
      ],
      "metadata": {
        "colab": {
          "base_uri": "https://localhost:8080/",
          "height": 117,
          "referenced_widgets": [
            "eb8b0572c2074af28d8a4d1954655870",
            "e12910b970f24d269ef3e2348d0be577",
            "744b061b0a6c495c84ced7f39e8a9fc0",
            "c78519bbcd954d108dc7809857f4031b",
            "3d21469d55d04b99bc58a69e974d638d",
            "16c5fa5d374948b3a055daa29f90f523",
            "5d6652a13906401abd9f8595b812246f",
            "ce95e83073fa475b9a781c68ad1d6195",
            "e435db0ab79546958b7c56ae0e4d5734",
            "d393918da5ea422f83f0ec22f2b78ecf",
            "7d4c19e93f964521a0204e4b62ed9829",
            "ce15a31e1cb0420490baaad723283b12",
            "7fcb9c1920e644f7b4a0b113089b5e47",
            "c01f17a71b494427a86b4f18d2ce7e4b",
            "ca4e81b4e4a1476e99be79901bf14771",
            "1fd2348fc5764f47b38bd82e7fdde70a",
            "a356a200e5c74b6aa907090578facfab",
            "606a0d0f99d04ea9b278be86a1f75f75",
            "7723d59407414cfc8a20963a15289829",
            "5a686b04f5b44fda8391a3cf5a608d4a",
            "e13b3d125434460ea8b4e6bed2d66e76",
            "76015d71bfed49689119dd4b8055d0d8"
          ]
        },
        "id": "dnMF4wFT0ntS",
        "outputId": "eae7b480-91f4-4456-fd83-8844540a51f4"
      },
      "execution_count": 125,
      "outputs": [
        {
          "output_type": "stream",
          "name": "stderr",
          "text": [
            "INFO:simpletransformers.classification.classification_utils: Converting to features started. Cache is not used.\n"
          ]
        },
        {
          "output_type": "display_data",
          "data": {
            "application/vnd.jupyter.widget-view+json": {
              "model_id": "eb8b0572c2074af28d8a4d1954655870",
              "version_minor": 0,
              "version_major": 2
            },
            "text/plain": [
              "  0%|          | 0/64 [00:00<?, ?it/s]"
            ]
          },
          "metadata": {}
        },
        {
          "output_type": "display_data",
          "data": {
            "application/vnd.jupyter.widget-view+json": {
              "model_id": "ce15a31e1cb0420490baaad723283b12",
              "version_minor": 0,
              "version_major": 2
            },
            "text/plain": [
              "  0%|          | 0/1 [00:00<?, ?it/s]"
            ]
          },
          "metadata": {}
        },
        {
          "output_type": "execute_result",
          "data": {
            "text/plain": [
              "0"
            ]
          },
          "metadata": {},
          "execution_count": 125
        }
      ]
    },
    {
      "cell_type": "markdown",
      "source": [
        "# Transformers model"
      ],
      "metadata": {
        "id": "PpfS5tY0sDe5"
      }
    },
    {
      "cell_type": "code",
      "source": [
        "!pip install simpletransformers -q"
      ],
      "metadata": {
        "id": "uxB91zZBtslK"
      },
      "execution_count": null,
      "outputs": []
    },
    {
      "cell_type": "code",
      "source": [
        "df2 = df[['token', 'labels']].copy()\n",
        "df2.rename(columns={'target' : 'labels'}, inplace=True)"
      ],
      "metadata": {
        "id": "DzKOkEv_sLm1"
      },
      "execution_count": 60,
      "outputs": []
    },
    {
      "cell_type": "code",
      "source": [
        "df2 = df2.sample(len(df))"
      ],
      "metadata": {
        "id": "RQKZe-_IscRj"
      },
      "execution_count": 61,
      "outputs": []
    },
    {
      "cell_type": "code",
      "source": [
        "train_df = df2[:int(.70*len(df2))]\n",
        "eval_df = df2[int(.70*len(df2)): int(.9*len(df))]\n",
        "test_df = df2[int(.9*len(df2)):]"
      ],
      "metadata": {
        "id": "TY_WAA6isHWz"
      },
      "execution_count": 62,
      "outputs": []
    },
    {
      "cell_type": "code",
      "source": [
        "train_df.shape, eval_df.shape, test_df.shape"
      ],
      "metadata": {
        "colab": {
          "base_uri": "https://localhost:8080/"
        },
        "id": "_keESXX2sm1C",
        "outputId": "3a205e88-2992-4cb0-9d4a-f39112cf89dc"
      },
      "execution_count": 63,
      "outputs": [
        {
          "output_type": "execute_result",
          "data": {
            "text/plain": [
              "((5317, 2), (1520, 2), (760, 2))"
            ]
          },
          "metadata": {},
          "execution_count": 63
        }
      ]
    },
    {
      "cell_type": "code",
      "source": [
        "\n",
        "from simpletransformers.classification import ClassificationModel, ClassificationArgs\n",
        "import pandas as pd\n",
        "import logging\n",
        "\n",
        "\n",
        "logging.basicConfig(level=logging.INFO)\n",
        "transformers_logger = logging.getLogger(\"transformers\")\n",
        "transformers_logger.setLevel(logging.WARNING)\n",
        "\n",
        "# Optional model configuration\n",
        "model_args = ClassificationArgs(num_train_epochs=3, train_batch_size=32)\n",
        "\n",
        "# Create a ClassificationModel\n",
        "model = ClassificationModel(\n",
        "    \"bertweet\", \"vinai/bertweet-base\", args=model_args, use_cuda=True\n",
        ")"
      ],
      "metadata": {
        "colab": {
          "base_uri": "https://localhost:8080/"
        },
        "id": "Xw25revssqPn",
        "outputId": "cc2d4398-0bcd-4e41-838c-e183809864ab"
      },
      "execution_count": 64,
      "outputs": [
        {
          "output_type": "stream",
          "name": "stderr",
          "text": [
            "Some weights of the model checkpoint at vinai/bertweet-base were not used when initializing RobertaForSequenceClassification: ['roberta.pooler.dense.bias', 'roberta.pooler.dense.weight', 'lm_head.decoder.weight', 'lm_head.decoder.bias', 'lm_head.layer_norm.weight', 'lm_head.dense.bias', 'lm_head.bias', 'lm_head.layer_norm.bias', 'lm_head.dense.weight']\n",
            "- This IS expected if you are initializing RobertaForSequenceClassification from the checkpoint of a model trained on another task or with another architecture (e.g. initializing a BertForSequenceClassification model from a BertForPreTraining model).\n",
            "- This IS NOT expected if you are initializing RobertaForSequenceClassification from the checkpoint of a model that you expect to be exactly identical (initializing a BertForSequenceClassification model from a BertForSequenceClassification model).\n",
            "Some weights of RobertaForSequenceClassification were not initialized from the model checkpoint at vinai/bertweet-base and are newly initialized: ['classifier.dense.weight', 'classifier.out_proj.bias', 'classifier.out_proj.weight', 'classifier.dense.bias']\n",
            "You should probably TRAIN this model on a down-stream task to be able to use it for predictions and inference.\n",
            "emoji is not installed, thus not converting emoticons or emojis into text. Please install emoji: pip3 install emoji\n",
            "Special tokens have been added in the vocabulary, make sure the associated word embeddings are fine-tuned or trained.\n"
          ]
        }
      ]
    },
    {
      "cell_type": "code",
      "source": [
        "train_args = {\n",
        "    \"num_train_epochs\": 1,\n",
        "    \"learning_rate\": 1e-4,\n",
        "    'overwrite_output_dir': True\n",
        "}\n",
        "\n",
        "# Train the model\n",
        "model.train_model(train_df, args = train_args)"
      ],
      "metadata": {
        "colab": {
          "base_uri": "https://localhost:8080/",
          "height": 186,
          "referenced_widgets": [
            "c7f687c0efba44fdbc36f2c71430dd44",
            "e9b20ef03d384790a4bd7be22a4fadbe",
            "7de10e8444d74820aa434af64bc3fe5c",
            "dc6345fd3a80410a921944e561bf6a19",
            "7ede65ab05cd4241801eb9a3c119c77d",
            "41e10811176a45e883c1c74d992823c5",
            "34bec05b297c461599861b7f927ba2fd",
            "3ad4c7d89d7e4088bac51cbfd93d5e9d",
            "4180f42423f548f983e0973bc79827ed",
            "f76927f9958648baa827750857b0a9db",
            "30cd4489c8594068b9628d51ef097bf4",
            "abc825f18157453c9449774d34aab838",
            "0818e97ce2e64704bcc268a08058fece",
            "052a71bf440148f18e719018c2f1f709",
            "c1859a0351444a70bf197c6d05b89bbc",
            "ec14b103a68645bab04dc40847f7f17a",
            "0cb240e4b19a452cae85d3a70cc34fc7",
            "32a7326583c842619cfd0af0fc3a893f",
            "6a168452968743af8eb4b6914151cdd0",
            "aa56e88ac2ef488f8ce66b76fc27e652",
            "61d4863833e24db7925d073e1a5d9bc6",
            "7df689e94d774f7da909fde9be16efa0",
            "45bb3b6dc4ff43909a84f0d7bc9cf82c",
            "8041e5d61a5a491fb4bee0ac530e50f1",
            "79e6404e68a74843bcee5cace5fcbc5c",
            "e4173dbc242e48e9a3cf82b686342a2a",
            "d77ca39c46284b1c9e676382c71469a8",
            "db65348da7cb4cf5abacb9432cdf6a13",
            "3dffde9346924bf5a7a5cba8f30add9d",
            "9a7966e38bcd453e97a30dc7a47e7b8d",
            "c25bc8376439485d90ab50ab9bbf2bdf",
            "c6e99c55fb9d4800b843a20e1e1906b2",
            "eb7044fe07f54a7d8ef53ce1d16f86da"
          ]
        },
        "id": "PpAi7Wn8uZ3S",
        "outputId": "99eaae80-8a7e-40d5-a281-6934cb4b72d1"
      },
      "execution_count": 65,
      "outputs": [
        {
          "output_type": "stream",
          "name": "stderr",
          "text": [
            "INFO:simpletransformers.classification.classification_utils: Converting to features started. Cache is not used.\n"
          ]
        },
        {
          "output_type": "display_data",
          "data": {
            "application/vnd.jupyter.widget-view+json": {
              "model_id": "c7f687c0efba44fdbc36f2c71430dd44",
              "version_minor": 0,
              "version_major": 2
            },
            "text/plain": [
              "  0%|          | 0/5317 [00:00<?, ?it/s]"
            ]
          },
          "metadata": {}
        },
        {
          "output_type": "stream",
          "name": "stderr",
          "text": [
            "INFO:simpletransformers.classification.classification_utils: Saving features into cached file cache_dir/cached_train_bertweet_128_2_2\n"
          ]
        },
        {
          "output_type": "display_data",
          "data": {
            "application/vnd.jupyter.widget-view+json": {
              "model_id": "abc825f18157453c9449774d34aab838",
              "version_minor": 0,
              "version_major": 2
            },
            "text/plain": [
              "Epoch:   0%|          | 0/1 [00:00<?, ?it/s]"
            ]
          },
          "metadata": {}
        },
        {
          "output_type": "display_data",
          "data": {
            "application/vnd.jupyter.widget-view+json": {
              "model_id": "45bb3b6dc4ff43909a84f0d7bc9cf82c",
              "version_minor": 0,
              "version_major": 2
            },
            "text/plain": [
              "Running Epoch 0 of 1:   0%|          | 0/167 [00:00<?, ?it/s]"
            ]
          },
          "metadata": {}
        },
        {
          "output_type": "stream",
          "name": "stderr",
          "text": [
            "INFO:simpletransformers.classification.classification_model: Training of bertweet model complete. Saved to outputs/.\n"
          ]
        },
        {
          "output_type": "execute_result",
          "data": {
            "text/plain": [
              "(167, 0.49481431426045425)"
            ]
          },
          "metadata": {},
          "execution_count": 65
        }
      ]
    },
    {
      "cell_type": "code",
      "source": [
        "result, model_outputs, wrong_predictions = model.eval_model(eval_df)"
      ],
      "metadata": {
        "colab": {
          "base_uri": "https://localhost:8080/",
          "height": 155,
          "referenced_widgets": [
            "d438c3454c3e4d149e46ead8b6d496c9",
            "606741c21c254657bba0a043bbf7c570",
            "43d7656f0ddb46bca5d07ac07d1fb97c",
            "620c395a405743afb26d99019597b69e",
            "722a1401379d4bc3b5f939fd0ad02813",
            "3b9fb995af8b4995a2f1701fe0def61f",
            "3a9822ffdeb34941b9eeaf55c6e0b0a4",
            "b0b81164591f4729beddd7d79992d7e9",
            "1bd20d5e13774d569674702af00b3543",
            "4a8a38b441cc4d788fb362f7b168d1f3",
            "26c45a517cd54a3a8e9fc534a047caf9",
            "d3557a0f8615438aa8786c5b6c5b191f",
            "7516cc1f5ef74abca8fdbd193a28152f",
            "392803f608574094ac28c84407b84d9e",
            "2145258edbe644cf99c267891f4baf63",
            "161aa3d208a34d95ad931c12861ac860",
            "5c9f366a99ab4f1aa2fe70365ec31406",
            "f17334c2a4dd413f880ca11819f5cd4b",
            "2fd6ca01c8fc4a5bb0a3961f1138319c",
            "1f104f2b39d545d3b23e551b9c9f1d72",
            "d1a580e8862c4b7e9f018df591ed0f03",
            "2de18eb72cb245af9b2df8a4239eb67c"
          ]
        },
        "id": "AVrDJ7i042JB",
        "outputId": "e76398ce-1f57-4e9c-d8e6-b38bfa352990"
      },
      "execution_count": 66,
      "outputs": [
        {
          "output_type": "stream",
          "name": "stderr",
          "text": [
            "INFO:simpletransformers.classification.classification_utils: Converting to features started. Cache is not used.\n"
          ]
        },
        {
          "output_type": "display_data",
          "data": {
            "application/vnd.jupyter.widget-view+json": {
              "model_id": "d438c3454c3e4d149e46ead8b6d496c9",
              "version_minor": 0,
              "version_major": 2
            },
            "text/plain": [
              "  0%|          | 0/1520 [00:00<?, ?it/s]"
            ]
          },
          "metadata": {}
        },
        {
          "output_type": "stream",
          "name": "stderr",
          "text": [
            "INFO:simpletransformers.classification.classification_utils: Saving features into cached file cache_dir/cached_dev_bertweet_128_2_2\n"
          ]
        },
        {
          "output_type": "display_data",
          "data": {
            "application/vnd.jupyter.widget-view+json": {
              "model_id": "d3557a0f8615438aa8786c5b6c5b191f",
              "version_minor": 0,
              "version_major": 2
            },
            "text/plain": [
              "Running Evaluation:   0%|          | 0/190 [00:00<?, ?it/s]"
            ]
          },
          "metadata": {}
        },
        {
          "output_type": "stream",
          "name": "stderr",
          "text": [
            "INFO:simpletransformers.classification.classification_model:{'mcc': 0.6021788109036298, 'tp': 473, 'tn': 749, 'fp': 98, 'fn': 200, 'auroc': 0.8620145220172235, 'auprc': 0.8632109450337208, 'eval_loss': 0.44188641999897205}\n"
          ]
        }
      ]
    },
    {
      "cell_type": "code",
      "source": [
        "result"
      ],
      "metadata": {
        "colab": {
          "base_uri": "https://localhost:8080/"
        },
        "id": "Cv-0FOTeLJyo",
        "outputId": "81039c08-bc6f-4fa4-b0da-1d6e27317670"
      },
      "execution_count": 67,
      "outputs": [
        {
          "output_type": "execute_result",
          "data": {
            "text/plain": [
              "{'auprc': 0.8632109450337208,\n",
              " 'auroc': 0.8620145220172235,\n",
              " 'eval_loss': 0.44188641999897205,\n",
              " 'fn': 200,\n",
              " 'fp': 98,\n",
              " 'mcc': 0.6021788109036298,\n",
              " 'tn': 749,\n",
              " 'tp': 473}"
            ]
          },
          "metadata": {},
          "execution_count": 67
        }
      ]
    },
    {
      "cell_type": "code",
      "source": [
        "\n",
        "accuracy = (result['tp'] + result['tn']) / (result['tp'] + result['tn'] + result['fp'] + result['fn'])\n",
        "print('accuracy : ',accuracy )\n",
        "precision = result['tp'] / (result['tp'] + result['fp'])\n",
        "print('precision : ', precision)\n",
        "recall = result['tp']/ (result['tp'] + result['fn'])\n",
        "print('recall :', recall)\n",
        "f1_score = 2*(precision*recall) / (precision+recall)\n",
        "print('f1_score : ',f1_score)"
      ],
      "metadata": {
        "colab": {
          "base_uri": "https://localhost:8080/"
        },
        "id": "FhthuC95LR5p",
        "outputId": "02262cfe-e939-4187-91e9-fdf4b7d400b3"
      },
      "execution_count": 68,
      "outputs": [
        {
          "output_type": "stream",
          "name": "stdout",
          "text": [
            "accuracy :  0.8039473684210526\n",
            "precision :  0.8283712784588442\n",
            "recall : 0.7028231797919762\n",
            "f1_score :  0.7604501607717042\n"
          ]
        }
      ]
    },
    {
      "cell_type": "code",
      "source": [
        "df2.iloc[0]['labels']"
      ],
      "metadata": {
        "colab": {
          "base_uri": "https://localhost:8080/"
        },
        "id": "zueKAtzP7AjG",
        "outputId": "ba6345e6-d0fd-4b46-9cbb-e62cba0c443f"
      },
      "execution_count": 69,
      "outputs": [
        {
          "output_type": "execute_result",
          "data": {
            "text/plain": [
              "0"
            ]
          },
          "metadata": {},
          "execution_count": 69
        }
      ]
    },
    {
      "cell_type": "code",
      "source": [
        "predictions, raw_outputs = model.predict(df2.iloc[0]['token'])\n",
        "predictions.mean().round()"
      ],
      "metadata": {
        "colab": {
          "base_uri": "https://localhost:8080/",
          "height": 117,
          "referenced_widgets": [
            "369c4234c9dd42c4b5f40aaa99b20594",
            "e71c3bcec0ec4785bcfa3aaa5370a616",
            "c50aeb53ae6146f7af9422001f101bd4",
            "b54aa4c05bbf4589943789a7672d2507",
            "1ab664acf6d547d6903236f4b90dd80f",
            "ff3b510d43dc45878e782bd66ebf1c28",
            "eb1abfb7608b4bcf991ad1c3e7fdaf40",
            "3972c1fddc464572a338de5163953a08",
            "6636cd0c691a4cefac38a145960282cc",
            "a69d2e68477345b4b960e5f4c065cc46",
            "76c9a59557c44b99a36d1678312ed987",
            "cf26a0e0409e44e4a5a7fb4efb106409",
            "85d7c4e2d58e42e88039a8434ae9b367",
            "2eeecbbefcd34a868b7883b9f2eeb600",
            "f0c5fc18e06147b1a902f28ae7597979",
            "ac82eaf7dbdb4c9083d3d0bd888e0e59",
            "a34e5b0cd8e04890b5876f39d30860ca",
            "fb25cb35c56047138f663979fffef042",
            "8f918f653b794befbd042934d1b8e332",
            "caee79edf7a34cd29ba1a419fa78dd5e",
            "5c66defb4f23416db10293413553ad13",
            "7b75f177e2da4edd8f047f936b2fd7e3"
          ]
        },
        "id": "ZKIhAUKG60bi",
        "outputId": "82c1d981-02ac-4658-dbb0-be3710cd52b1"
      },
      "execution_count": 73,
      "outputs": [
        {
          "output_type": "stream",
          "name": "stderr",
          "text": [
            "INFO:simpletransformers.classification.classification_utils: Converting to features started. Cache is not used.\n"
          ]
        },
        {
          "output_type": "display_data",
          "data": {
            "application/vnd.jupyter.widget-view+json": {
              "model_id": "369c4234c9dd42c4b5f40aaa99b20594",
              "version_minor": 0,
              "version_major": 2
            },
            "text/plain": [
              "  0%|          | 0/27 [00:00<?, ?it/s]"
            ]
          },
          "metadata": {}
        },
        {
          "output_type": "display_data",
          "data": {
            "application/vnd.jupyter.widget-view+json": {
              "model_id": "cf26a0e0409e44e4a5a7fb4efb106409",
              "version_minor": 0,
              "version_major": 2
            },
            "text/plain": [
              "  0%|          | 0/1 [00:00<?, ?it/s]"
            ]
          },
          "metadata": {}
        },
        {
          "output_type": "execute_result",
          "data": {
            "text/plain": [
              "0.0"
            ]
          },
          "metadata": {},
          "execution_count": 73
        }
      ]
    },
    {
      "cell_type": "code",
      "source": [
        ""
      ],
      "metadata": {
        "id": "i6rbMXZYkjpe"
      },
      "execution_count": null,
      "outputs": []
    },
    {
      "cell_type": "markdown",
      "source": [
        "# Third model with Google Sentence Encoder"
      ],
      "metadata": {
        "id": "kDk9it4S9BT-"
      }
    },
    {
      "cell_type": "code",
      "source": [
        "\n",
        "# cf https://github.com/MahalavanyaSriram/Natural-Language-Processing-with-Disaster-Tweets/blob/master/Jupyter%20Notebooks/google-universal-sentence-encoder.ipynb\n",
        "import tensorflow as tf\n",
        "import tensorflow_hub as hub\n",
        "from tensorflow.keras.models import Sequential\n",
        "from tensorflow.keras.layers import Input,Dense\n",
        "from tensorflow.keras.callbacks import ModelCheckpoint\n",
        "\n",
        "module_url = 'https://tfhub.dev/google/universal-sentence-encoder-large/5'\n",
        "embed = hub.KerasLayer(module_url, trainable=True, name='USE_embedding')\n",
        "\n",
        "def build_model(embed):\n",
        "    model = Sequential([\n",
        "        Input(shape=[], dtype=tf.string),\n",
        "        embed,\n",
        "        Dense(1, activation='sigmoid')\n",
        "    ])\n",
        "    opt = tf.keras.optimizers.Adam(learning_rate= 1e-5)\n",
        "    model.compile(optimizer=opt,\n",
        "              loss=\"binary_crossentropy\", metrics=['accuracy'])\n",
        "    return model\n",
        "\n",
        "model3 = build_model(embed)\n",
        "\n",
        "model3.summary()"
      ],
      "metadata": {
        "colab": {
          "base_uri": "https://localhost:8080/"
        },
        "id": "C_Nm2PiN9Lo8",
        "outputId": "5f31e9fc-607f-4120-acf2-be092e137d48"
      },
      "execution_count": 4,
      "outputs": [
        {
          "output_type": "stream",
          "name": "stdout",
          "text": [
            "Model: \"sequential\"\n",
            "_________________________________________________________________\n",
            " Layer (type)                Output Shape              Param #   \n",
            "=================================================================\n",
            " USE_embedding (KerasLayer)  (None, 512)               147354880 \n",
            "                                                                 \n",
            " dense (Dense)               (None, 1)                 513       \n",
            "                                                                 \n",
            "=================================================================\n",
            "Total params: 147,355,393\n",
            "Trainable params: 147,355,393\n",
            "Non-trainable params: 0\n",
            "_________________________________________________________________\n"
          ]
        }
      ]
    },
    {
      "cell_type": "code",
      "source": [
        "df.rename(columns={'target' : 'labels'}, inplace=True)\n",
        "df.labels.value_counts(normalize=True)"
      ],
      "metadata": {
        "colab": {
          "base_uri": "https://localhost:8080/"
        },
        "id": "366vhPqYvUou",
        "outputId": "6be7a796-2d93-4ce7-8963-3e790b18f80a"
      },
      "execution_count": 9,
      "outputs": [
        {
          "output_type": "execute_result",
          "data": {
            "text/plain": [
              "0    0.57034\n",
              "1    0.42966\n",
              "Name: labels, dtype: float64"
            ]
          },
          "metadata": {},
          "execution_count": 9
        }
      ]
    },
    {
      "cell_type": "code",
      "source": [
        "\n",
        "#Taking weight class in account\n",
        "df.labels.value_counts()/(df.shape[0])\n",
        "class_weight = {0:     0.57034,\n",
        "                1:    0.42966}\n",
        "\n",
        "#Define early stopping\n",
        "from keras.callbacks import EarlyStopping\n",
        "earlystop = EarlyStopping(monitor = 'val_accuracy',\n",
        "                          min_delta = 0.0001,\n",
        "                          patience = 25,\n",
        "                          verbose = 1,\n",
        "                          restore_best_weights = True)\n",
        "#Define Checkpoint\n",
        "from keras.callbacks import ModelCheckpoint\n",
        "\n",
        "model_checkpoint_callback = tf.keras.callbacks.ModelCheckpoint('sentence_encoder_model.h5',\n",
        "    save_weights_only=False,\n",
        "    monitor='val_accuracy',\n",
        "    mode='max',\n",
        "    save_best_only=True,\n",
        "    restore_best_weights = True)\n",
        "\n",
        "\n",
        "my_callbacks = [\n",
        "    earlystop,\n",
        "    model_checkpoint_callback]\n",
        "\n",
        "\n",
        "last_history = model3.fit(\n",
        "    df.text.values, df.labels.values,\n",
        "    steps_per_epoch=10,\n",
        "    epochs=100,\n",
        "    validation_split=0.2,\n",
        "    class_weight = class_weight,\n",
        "    callbacks=my_callbacks,\n",
        "    batch_size=32\n",
        ")\n",
        "\n"
      ],
      "metadata": {
        "colab": {
          "base_uri": "https://localhost:8080/"
        },
        "id": "eknnFZ45YgbE",
        "outputId": "0b3e9b01-c61b-499e-c52c-a9513210c28e"
      },
      "execution_count": 11,
      "outputs": [
        {
          "output_type": "stream",
          "name": "stdout",
          "text": [
            "Epoch 1/100\n",
            "WARNING:tensorflow:Gradients do not exist for variables ['EncoderDNN/DNN/ResidualHidden_0/dense/kernel/part_0:0', 'EncoderDNN/DNN/ResidualHidden_0/dense/kernel/part_1:0', 'EncoderDNN/DNN/ResidualHidden_0/dense/kernel/part_2:0', 'EncoderDNN/DNN/ResidualHidden_0/dense/kernel/part_3:0', 'EncoderDNN/DNN/ResidualHidden_0/dense/kernel/part_4:0', 'EncoderDNN/DNN/ResidualHidden_0/dense/kernel/part_5:0', 'EncoderDNN/DNN/ResidualHidden_0/dense/kernel/part_6:0', 'EncoderDNN/DNN/ResidualHidden_0/dense/kernel/part_7:0', 'EncoderDNN/DNN/ResidualHidden_0/dense/kernel/part_8:0', 'EncoderDNN/DNN/ResidualHidden_0/dense/kernel/part_9:0', 'EncoderDNN/DNN/ResidualHidden_0/dense/kernel/part_10:0', 'EncoderDNN/DNN/ResidualHidden_0/dense/kernel/part_11:0', 'EncoderDNN/DNN/ResidualHidden_0/dense/kernel/part_12:0', 'EncoderDNN/DNN/ResidualHidden_0/dense/kernel/part_13:0', 'EncoderDNN/DNN/ResidualHidden_0/dense/kernel/part_14:0', 'EncoderDNN/DNN/ResidualHidden_0/dense/kernel/part_15:0', 'EncoderDNN/DNN/ResidualHidden_0/dense/kernel/part_16:0', 'EncoderDNN/DNN/ResidualHidden_0/dense/kernel/part_17:0', 'EncoderDNN/DNN/ResidualHidden_0/dense/kernel/part_18:0', 'EncoderDNN/DNN/ResidualHidden_0/dense/kernel/part_19:0', 'EncoderDNN/DNN/ResidualHidden_0/dense/kernel/part_20:0', 'EncoderDNN/DNN/ResidualHidden_0/dense/kernel/part_21:0', 'EncoderDNN/DNN/ResidualHidden_0/dense/kernel/part_22:0', 'EncoderDNN/DNN/ResidualHidden_0/dense/kernel/part_23:0', 'EncoderDNN/DNN/ResidualHidden_0/dense/kernel/part_24:0', 'EncoderDNN/DNN/ResidualHidden_0/dense/kernel/part_25:0', 'EncoderDNN/DNN/ResidualHidden_0/dense/kernel/part_26:0', 'EncoderDNN/DNN/ResidualHidden_0/dense/kernel/part_27:0', 'EncoderDNN/DNN/ResidualHidden_0/dense/kernel/part_28:0', 'EncoderDNN/DNN/ResidualHidden_0/dense/kernel/part_29:0', 'EncoderDNN/DNN/ResidualHidden_1/dense/kernel/part_0:0', 'EncoderDNN/DNN/ResidualHidden_1/dense/kernel/part_1:0', 'EncoderDNN/DNN/ResidualHidden_1/dense/kernel/part_2:0', 'EncoderDNN/DNN/ResidualHidden_1/dense/kernel/part_3:0', 'EncoderDNN/DNN/ResidualHidden_1/dense/kernel/part_4:0', 'EncoderDNN/DNN/ResidualHidden_1/dense/kernel/part_5:0', 'EncoderDNN/DNN/ResidualHidden_1/dense/kernel/part_6:0', 'EncoderDNN/DNN/ResidualHidden_1/dense/kernel/part_7:0', 'EncoderDNN/DNN/ResidualHidden_1/dense/kernel/part_8:0', 'EncoderDNN/DNN/ResidualHidden_1/dense/kernel/part_9:0', 'EncoderDNN/DNN/ResidualHidden_1/dense/kernel/part_10:0', 'EncoderDNN/DNN/ResidualHidden_1/dense/kernel/part_11:0', 'EncoderDNN/DNN/ResidualHidden_1/dense/kernel/part_12:0', 'EncoderDNN/DNN/ResidualHidden_1/dense/kernel/part_13:0', 'EncoderDNN/DNN/ResidualHidden_1/dense/kernel/part_14:0', 'EncoderDNN/DNN/ResidualHidden_1/dense/kernel/part_15:0', 'EncoderDNN/DNN/ResidualHidden_1/dense/kernel/part_16:0', 'EncoderDNN/DNN/ResidualHidden_1/dense/kernel/part_17:0', 'EncoderDNN/DNN/ResidualHidden_1/dense/kernel/part_18:0', 'EncoderDNN/DNN/ResidualHidden_1/dense/kernel/part_19:0', 'EncoderDNN/DNN/ResidualHidden_1/dense/kernel/part_20:0', 'EncoderDNN/DNN/ResidualHidden_1/dense/kernel/part_21:0', 'EncoderDNN/DNN/ResidualHidden_1/dense/kernel/part_22:0', 'EncoderDNN/DNN/ResidualHidden_1/dense/kernel/part_23:0', 'EncoderDNN/DNN/ResidualHidden_1/dense/kernel/part_24:0', 'EncoderDNN/DNN/ResidualHidden_1/dense/kernel/part_25:0', 'EncoderDNN/DNN/ResidualHidden_1/dense/kernel/part_26:0', 'EncoderDNN/DNN/ResidualHidden_1/dense/kernel/part_27:0', 'EncoderDNN/DNN/ResidualHidden_1/dense/kernel/part_28:0', 'EncoderDNN/DNN/ResidualHidden_1/dense/kernel/part_29:0', 'EncoderDNN/DNN/ResidualHidden_2/dense/kernel/part_0:0', 'EncoderDNN/DNN/ResidualHidden_2/dense/kernel/part_1:0', 'EncoderDNN/DNN/ResidualHidden_2/dense/kernel/part_2:0', 'EncoderDNN/DNN/ResidualHidden_2/dense/kernel/part_3:0', 'EncoderDNN/DNN/ResidualHidden_2/dense/kernel/part_4:0', 'EncoderDNN/DNN/ResidualHidden_2/dense/kernel/part_5:0', 'EncoderDNN/DNN/ResidualHidden_2/dense/kernel/part_6:0', 'EncoderDNN/DNN/ResidualHidden_2/dense/kernel/part_7:0', 'EncoderDNN/DNN/ResidualHidden_2/dense/kernel/part_8:0', 'EncoderDNN/DNN/ResidualHidden_2/dense/kernel/part_9:0', 'EncoderDNN/DNN/ResidualHidden_2/dense/kernel/part_10:0', 'EncoderDNN/DNN/ResidualHidden_2/dense/kernel/part_11:0', 'EncoderDNN/DNN/ResidualHidden_2/dense/kernel/part_12:0', 'EncoderDNN/DNN/ResidualHidden_2/dense/kernel/part_13:0', 'EncoderDNN/DNN/ResidualHidden_2/dense/kernel/part_14:0', 'EncoderDNN/DNN/ResidualHidden_2/dense/kernel/part_15:0', 'EncoderDNN/DNN/ResidualHidden_2/dense/kernel/part_16:0', 'EncoderDNN/DNN/ResidualHidden_2/dense/kernel/part_17:0', 'EncoderDNN/DNN/ResidualHidden_2/dense/kernel/part_18:0', 'EncoderDNN/DNN/ResidualHidden_2/dense/kernel/part_19:0', 'EncoderDNN/DNN/ResidualHidden_2/dense/kernel/part_20:0', 'EncoderDNN/DNN/ResidualHidden_2/dense/kernel/part_21:0', 'EncoderDNN/DNN/ResidualHidden_2/dense/kernel/part_22:0', 'EncoderDNN/DNN/ResidualHidden_2/dense/kernel/part_23:0', 'EncoderDNN/DNN/ResidualHidden_2/dense/kernel/part_24:0', 'EncoderDNN/DNN/ResidualHidden_2/dense/kernel/part_25:0', 'EncoderDNN/DNN/ResidualHidden_2/dense/kernel/part_26:0', 'EncoderDNN/DNN/ResidualHidden_2/dense/kernel/part_27:0', 'EncoderDNN/DNN/ResidualHidden_2/dense/kernel/part_28:0', 'EncoderDNN/DNN/ResidualHidden_2/dense/kernel/part_29:0', 'EncoderDNN/DNN/ResidualHidden_3/dense/kernel/part_0:0', 'EncoderDNN/DNN/ResidualHidden_3/dense/kernel/part_1:0', 'EncoderDNN/DNN/ResidualHidden_3/dense/kernel/part_2:0', 'EncoderDNN/DNN/ResidualHidden_3/dense/kernel/part_3:0', 'EncoderDNN/DNN/ResidualHidden_3/dense/kernel/part_4:0', 'EncoderDNN/DNN/ResidualHidden_3/dense/kernel/part_5:0', 'EncoderDNN/DNN/ResidualHidden_3/dense/kernel/part_6:0', 'EncoderDNN/DNN/ResidualHidden_3/dense/kernel/part_7:0', 'EncoderDNN/DNN/ResidualHidden_3/dense/kernel/part_8:0', 'EncoderDNN/DNN/ResidualHidden_3/dense/kernel/part_9:0', 'EncoderDNN/DNN/ResidualHidden_3/dense/kernel/part_10:0', 'EncoderDNN/DNN/ResidualHidden_3/dense/kernel/part_11:0', 'EncoderDNN/DNN/ResidualHidden_3/dense/kernel/part_12:0', 'EncoderDNN/DNN/ResidualHidden_3/dense/kernel/part_13:0', 'EncoderDNN/DNN/ResidualHidden_3/dense/kernel/part_14:0', 'EncoderDNN/DNN/ResidualHidden_3/dense/kernel/part_15:0', 'EncoderDNN/DNN/ResidualHidden_3/dense/kernel/part_16:0', 'EncoderDNN/DNN/ResidualHidden_3/dense/kernel/part_17:0', 'EncoderDNN/DNN/ResidualHidden_3/dense/kernel/part_18:0', 'EncoderDNN/DNN/ResidualHidden_3/dense/kernel/part_19:0', 'EncoderDNN/DNN/ResidualHidden_3/dense/kernel/part_20:0', 'EncoderDNN/DNN/ResidualHidden_3/dense/kernel/part_21:0', 'EncoderDNN/DNN/ResidualHidden_3/dense/kernel/part_22:0', 'EncoderDNN/DNN/ResidualHidden_3/dense/kernel/part_23:0', 'EncoderDNN/DNN/ResidualHidden_3/dense/kernel/part_24:0', 'EncoderDNN/DNN/ResidualHidden_3/dense/kernel/part_25:0', 'EncoderDNN/DNN/ResidualHidden_3/dense/kernel/part_26:0', 'EncoderDNN/DNN/ResidualHidden_3/dense/kernel/part_27:0', 'EncoderDNN/DNN/ResidualHidden_3/dense/kernel/part_28:0', 'EncoderDNN/DNN/ResidualHidden_3/dense/kernel/part_29:0', 'EncoderDNN/DNN/ResidualHidden_3/AdjustDepth/projection/kernel/part_0:0', 'EncoderDNN/DNN/ResidualHidden_3/AdjustDepth/projection/kernel/part_1:0', 'EncoderDNN/DNN/ResidualHidden_3/AdjustDepth/projection/kernel/part_2:0', 'EncoderDNN/DNN/ResidualHidden_3/AdjustDepth/projection/kernel/part_3:0', 'EncoderDNN/DNN/ResidualHidden_3/AdjustDepth/projection/kernel/part_4:0', 'EncoderDNN/DNN/ResidualHidden_3/AdjustDepth/projection/kernel/part_5:0', 'EncoderDNN/DNN/ResidualHidden_3/AdjustDepth/projection/kernel/part_6:0', 'EncoderDNN/DNN/ResidualHidden_3/AdjustDepth/projection/kernel/part_7:0', 'EncoderDNN/DNN/ResidualHidden_3/AdjustDepth/projection/kernel/part_8:0', 'EncoderDNN/DNN/ResidualHidden_3/AdjustDepth/projection/kernel/part_9:0', 'EncoderDNN/DNN/ResidualHidden_3/AdjustDepth/projection/kernel/part_10:0', 'EncoderDNN/DNN/ResidualHidden_3/AdjustDepth/projection/kernel/part_11:0', 'EncoderDNN/DNN/ResidualHidden_3/AdjustDepth/projection/kernel/part_12:0', 'EncoderDNN/DNN/ResidualHidden_3/AdjustDepth/projection/kernel/part_13:0', 'EncoderDNN/DNN/ResidualHidden_3/AdjustDepth/projection/kernel/part_14:0', 'EncoderDNN/DNN/ResidualHidden_3/AdjustDepth/projection/kernel/part_15:0', 'EncoderDNN/DNN/ResidualHidden_3/AdjustDepth/projection/kernel/part_16:0', 'EncoderDNN/DNN/ResidualHidden_3/AdjustDepth/projection/kernel/part_17:0', 'EncoderDNN/DNN/ResidualHidden_3/AdjustDepth/projection/kernel/part_18:0', 'EncoderDNN/DNN/ResidualHidden_3/AdjustDepth/projection/kernel/part_19:0', 'EncoderDNN/DNN/ResidualHidden_3/AdjustDepth/projection/kernel/part_20:0', 'EncoderDNN/DNN/ResidualHidden_3/AdjustDepth/projection/kernel/part_21:0', 'EncoderDNN/DNN/ResidualHidden_3/AdjustDepth/projection/kernel/part_22:0', 'EncoderDNN/DNN/ResidualHidden_3/AdjustDepth/projection/kernel/part_23:0', 'EncoderDNN/DNN/ResidualHidden_3/AdjustDepth/projection/kernel/part_24:0', 'EncoderDNN/DNN/ResidualHidden_3/AdjustDepth/projection/kernel/part_25:0', 'EncoderDNN/DNN/ResidualHidden_3/AdjustDepth/projection/kernel/part_26:0', 'EncoderDNN/DNN/ResidualHidden_3/AdjustDepth/projection/kernel/part_27:0', 'EncoderDNN/DNN/ResidualHidden_3/AdjustDepth/projection/kernel/part_28:0', 'EncoderDNN/DNN/ResidualHidden_3/AdjustDepth/projection/kernel/part_29:0'] when minimizing the loss. If you're using `model.compile()`, did you forget to provide a `loss`argument?\n"
          ]
        },
        {
          "output_type": "stream",
          "name": "stderr",
          "text": [
            "WARNING:tensorflow:Gradients do not exist for variables ['EncoderDNN/DNN/ResidualHidden_0/dense/kernel/part_0:0', 'EncoderDNN/DNN/ResidualHidden_0/dense/kernel/part_1:0', 'EncoderDNN/DNN/ResidualHidden_0/dense/kernel/part_2:0', 'EncoderDNN/DNN/ResidualHidden_0/dense/kernel/part_3:0', 'EncoderDNN/DNN/ResidualHidden_0/dense/kernel/part_4:0', 'EncoderDNN/DNN/ResidualHidden_0/dense/kernel/part_5:0', 'EncoderDNN/DNN/ResidualHidden_0/dense/kernel/part_6:0', 'EncoderDNN/DNN/ResidualHidden_0/dense/kernel/part_7:0', 'EncoderDNN/DNN/ResidualHidden_0/dense/kernel/part_8:0', 'EncoderDNN/DNN/ResidualHidden_0/dense/kernel/part_9:0', 'EncoderDNN/DNN/ResidualHidden_0/dense/kernel/part_10:0', 'EncoderDNN/DNN/ResidualHidden_0/dense/kernel/part_11:0', 'EncoderDNN/DNN/ResidualHidden_0/dense/kernel/part_12:0', 'EncoderDNN/DNN/ResidualHidden_0/dense/kernel/part_13:0', 'EncoderDNN/DNN/ResidualHidden_0/dense/kernel/part_14:0', 'EncoderDNN/DNN/ResidualHidden_0/dense/kernel/part_15:0', 'EncoderDNN/DNN/ResidualHidden_0/dense/kernel/part_16:0', 'EncoderDNN/DNN/ResidualHidden_0/dense/kernel/part_17:0', 'EncoderDNN/DNN/ResidualHidden_0/dense/kernel/part_18:0', 'EncoderDNN/DNN/ResidualHidden_0/dense/kernel/part_19:0', 'EncoderDNN/DNN/ResidualHidden_0/dense/kernel/part_20:0', 'EncoderDNN/DNN/ResidualHidden_0/dense/kernel/part_21:0', 'EncoderDNN/DNN/ResidualHidden_0/dense/kernel/part_22:0', 'EncoderDNN/DNN/ResidualHidden_0/dense/kernel/part_23:0', 'EncoderDNN/DNN/ResidualHidden_0/dense/kernel/part_24:0', 'EncoderDNN/DNN/ResidualHidden_0/dense/kernel/part_25:0', 'EncoderDNN/DNN/ResidualHidden_0/dense/kernel/part_26:0', 'EncoderDNN/DNN/ResidualHidden_0/dense/kernel/part_27:0', 'EncoderDNN/DNN/ResidualHidden_0/dense/kernel/part_28:0', 'EncoderDNN/DNN/ResidualHidden_0/dense/kernel/part_29:0', 'EncoderDNN/DNN/ResidualHidden_1/dense/kernel/part_0:0', 'EncoderDNN/DNN/ResidualHidden_1/dense/kernel/part_1:0', 'EncoderDNN/DNN/ResidualHidden_1/dense/kernel/part_2:0', 'EncoderDNN/DNN/ResidualHidden_1/dense/kernel/part_3:0', 'EncoderDNN/DNN/ResidualHidden_1/dense/kernel/part_4:0', 'EncoderDNN/DNN/ResidualHidden_1/dense/kernel/part_5:0', 'EncoderDNN/DNN/ResidualHidden_1/dense/kernel/part_6:0', 'EncoderDNN/DNN/ResidualHidden_1/dense/kernel/part_7:0', 'EncoderDNN/DNN/ResidualHidden_1/dense/kernel/part_8:0', 'EncoderDNN/DNN/ResidualHidden_1/dense/kernel/part_9:0', 'EncoderDNN/DNN/ResidualHidden_1/dense/kernel/part_10:0', 'EncoderDNN/DNN/ResidualHidden_1/dense/kernel/part_11:0', 'EncoderDNN/DNN/ResidualHidden_1/dense/kernel/part_12:0', 'EncoderDNN/DNN/ResidualHidden_1/dense/kernel/part_13:0', 'EncoderDNN/DNN/ResidualHidden_1/dense/kernel/part_14:0', 'EncoderDNN/DNN/ResidualHidden_1/dense/kernel/part_15:0', 'EncoderDNN/DNN/ResidualHidden_1/dense/kernel/part_16:0', 'EncoderDNN/DNN/ResidualHidden_1/dense/kernel/part_17:0', 'EncoderDNN/DNN/ResidualHidden_1/dense/kernel/part_18:0', 'EncoderDNN/DNN/ResidualHidden_1/dense/kernel/part_19:0', 'EncoderDNN/DNN/ResidualHidden_1/dense/kernel/part_20:0', 'EncoderDNN/DNN/ResidualHidden_1/dense/kernel/part_21:0', 'EncoderDNN/DNN/ResidualHidden_1/dense/kernel/part_22:0', 'EncoderDNN/DNN/ResidualHidden_1/dense/kernel/part_23:0', 'EncoderDNN/DNN/ResidualHidden_1/dense/kernel/part_24:0', 'EncoderDNN/DNN/ResidualHidden_1/dense/kernel/part_25:0', 'EncoderDNN/DNN/ResidualHidden_1/dense/kernel/part_26:0', 'EncoderDNN/DNN/ResidualHidden_1/dense/kernel/part_27:0', 'EncoderDNN/DNN/ResidualHidden_1/dense/kernel/part_28:0', 'EncoderDNN/DNN/ResidualHidden_1/dense/kernel/part_29:0', 'EncoderDNN/DNN/ResidualHidden_2/dense/kernel/part_0:0', 'EncoderDNN/DNN/ResidualHidden_2/dense/kernel/part_1:0', 'EncoderDNN/DNN/ResidualHidden_2/dense/kernel/part_2:0', 'EncoderDNN/DNN/ResidualHidden_2/dense/kernel/part_3:0', 'EncoderDNN/DNN/ResidualHidden_2/dense/kernel/part_4:0', 'EncoderDNN/DNN/ResidualHidden_2/dense/kernel/part_5:0', 'EncoderDNN/DNN/ResidualHidden_2/dense/kernel/part_6:0', 'EncoderDNN/DNN/ResidualHidden_2/dense/kernel/part_7:0', 'EncoderDNN/DNN/ResidualHidden_2/dense/kernel/part_8:0', 'EncoderDNN/DNN/ResidualHidden_2/dense/kernel/part_9:0', 'EncoderDNN/DNN/ResidualHidden_2/dense/kernel/part_10:0', 'EncoderDNN/DNN/ResidualHidden_2/dense/kernel/part_11:0', 'EncoderDNN/DNN/ResidualHidden_2/dense/kernel/part_12:0', 'EncoderDNN/DNN/ResidualHidden_2/dense/kernel/part_13:0', 'EncoderDNN/DNN/ResidualHidden_2/dense/kernel/part_14:0', 'EncoderDNN/DNN/ResidualHidden_2/dense/kernel/part_15:0', 'EncoderDNN/DNN/ResidualHidden_2/dense/kernel/part_16:0', 'EncoderDNN/DNN/ResidualHidden_2/dense/kernel/part_17:0', 'EncoderDNN/DNN/ResidualHidden_2/dense/kernel/part_18:0', 'EncoderDNN/DNN/ResidualHidden_2/dense/kernel/part_19:0', 'EncoderDNN/DNN/ResidualHidden_2/dense/kernel/part_20:0', 'EncoderDNN/DNN/ResidualHidden_2/dense/kernel/part_21:0', 'EncoderDNN/DNN/ResidualHidden_2/dense/kernel/part_22:0', 'EncoderDNN/DNN/ResidualHidden_2/dense/kernel/part_23:0', 'EncoderDNN/DNN/ResidualHidden_2/dense/kernel/part_24:0', 'EncoderDNN/DNN/ResidualHidden_2/dense/kernel/part_25:0', 'EncoderDNN/DNN/ResidualHidden_2/dense/kernel/part_26:0', 'EncoderDNN/DNN/ResidualHidden_2/dense/kernel/part_27:0', 'EncoderDNN/DNN/ResidualHidden_2/dense/kernel/part_28:0', 'EncoderDNN/DNN/ResidualHidden_2/dense/kernel/part_29:0', 'EncoderDNN/DNN/ResidualHidden_3/dense/kernel/part_0:0', 'EncoderDNN/DNN/ResidualHidden_3/dense/kernel/part_1:0', 'EncoderDNN/DNN/ResidualHidden_3/dense/kernel/part_2:0', 'EncoderDNN/DNN/ResidualHidden_3/dense/kernel/part_3:0', 'EncoderDNN/DNN/ResidualHidden_3/dense/kernel/part_4:0', 'EncoderDNN/DNN/ResidualHidden_3/dense/kernel/part_5:0', 'EncoderDNN/DNN/ResidualHidden_3/dense/kernel/part_6:0', 'EncoderDNN/DNN/ResidualHidden_3/dense/kernel/part_7:0', 'EncoderDNN/DNN/ResidualHidden_3/dense/kernel/part_8:0', 'EncoderDNN/DNN/ResidualHidden_3/dense/kernel/part_9:0', 'EncoderDNN/DNN/ResidualHidden_3/dense/kernel/part_10:0', 'EncoderDNN/DNN/ResidualHidden_3/dense/kernel/part_11:0', 'EncoderDNN/DNN/ResidualHidden_3/dense/kernel/part_12:0', 'EncoderDNN/DNN/ResidualHidden_3/dense/kernel/part_13:0', 'EncoderDNN/DNN/ResidualHidden_3/dense/kernel/part_14:0', 'EncoderDNN/DNN/ResidualHidden_3/dense/kernel/part_15:0', 'EncoderDNN/DNN/ResidualHidden_3/dense/kernel/part_16:0', 'EncoderDNN/DNN/ResidualHidden_3/dense/kernel/part_17:0', 'EncoderDNN/DNN/ResidualHidden_3/dense/kernel/part_18:0', 'EncoderDNN/DNN/ResidualHidden_3/dense/kernel/part_19:0', 'EncoderDNN/DNN/ResidualHidden_3/dense/kernel/part_20:0', 'EncoderDNN/DNN/ResidualHidden_3/dense/kernel/part_21:0', 'EncoderDNN/DNN/ResidualHidden_3/dense/kernel/part_22:0', 'EncoderDNN/DNN/ResidualHidden_3/dense/kernel/part_23:0', 'EncoderDNN/DNN/ResidualHidden_3/dense/kernel/part_24:0', 'EncoderDNN/DNN/ResidualHidden_3/dense/kernel/part_25:0', 'EncoderDNN/DNN/ResidualHidden_3/dense/kernel/part_26:0', 'EncoderDNN/DNN/ResidualHidden_3/dense/kernel/part_27:0', 'EncoderDNN/DNN/ResidualHidden_3/dense/kernel/part_28:0', 'EncoderDNN/DNN/ResidualHidden_3/dense/kernel/part_29:0', 'EncoderDNN/DNN/ResidualHidden_3/AdjustDepth/projection/kernel/part_0:0', 'EncoderDNN/DNN/ResidualHidden_3/AdjustDepth/projection/kernel/part_1:0', 'EncoderDNN/DNN/ResidualHidden_3/AdjustDepth/projection/kernel/part_2:0', 'EncoderDNN/DNN/ResidualHidden_3/AdjustDepth/projection/kernel/part_3:0', 'EncoderDNN/DNN/ResidualHidden_3/AdjustDepth/projection/kernel/part_4:0', 'EncoderDNN/DNN/ResidualHidden_3/AdjustDepth/projection/kernel/part_5:0', 'EncoderDNN/DNN/ResidualHidden_3/AdjustDepth/projection/kernel/part_6:0', 'EncoderDNN/DNN/ResidualHidden_3/AdjustDepth/projection/kernel/part_7:0', 'EncoderDNN/DNN/ResidualHidden_3/AdjustDepth/projection/kernel/part_8:0', 'EncoderDNN/DNN/ResidualHidden_3/AdjustDepth/projection/kernel/part_9:0', 'EncoderDNN/DNN/ResidualHidden_3/AdjustDepth/projection/kernel/part_10:0', 'EncoderDNN/DNN/ResidualHidden_3/AdjustDepth/projection/kernel/part_11:0', 'EncoderDNN/DNN/ResidualHidden_3/AdjustDepth/projection/kernel/part_12:0', 'EncoderDNN/DNN/ResidualHidden_3/AdjustDepth/projection/kernel/part_13:0', 'EncoderDNN/DNN/ResidualHidden_3/AdjustDepth/projection/kernel/part_14:0', 'EncoderDNN/DNN/ResidualHidden_3/AdjustDepth/projection/kernel/part_15:0', 'EncoderDNN/DNN/ResidualHidden_3/AdjustDepth/projection/kernel/part_16:0', 'EncoderDNN/DNN/ResidualHidden_3/AdjustDepth/projection/kernel/part_17:0', 'EncoderDNN/DNN/ResidualHidden_3/AdjustDepth/projection/kernel/part_18:0', 'EncoderDNN/DNN/ResidualHidden_3/AdjustDepth/projection/kernel/part_19:0', 'EncoderDNN/DNN/ResidualHidden_3/AdjustDepth/projection/kernel/part_20:0', 'EncoderDNN/DNN/ResidualHidden_3/AdjustDepth/projection/kernel/part_21:0', 'EncoderDNN/DNN/ResidualHidden_3/AdjustDepth/projection/kernel/part_22:0', 'EncoderDNN/DNN/ResidualHidden_3/AdjustDepth/projection/kernel/part_23:0', 'EncoderDNN/DNN/ResidualHidden_3/AdjustDepth/projection/kernel/part_24:0', 'EncoderDNN/DNN/ResidualHidden_3/AdjustDepth/projection/kernel/part_25:0', 'EncoderDNN/DNN/ResidualHidden_3/AdjustDepth/projection/kernel/part_26:0', 'EncoderDNN/DNN/ResidualHidden_3/AdjustDepth/projection/kernel/part_27:0', 'EncoderDNN/DNN/ResidualHidden_3/AdjustDepth/projection/kernel/part_28:0', 'EncoderDNN/DNN/ResidualHidden_3/AdjustDepth/projection/kernel/part_29:0'] when minimizing the loss. If you're using `model.compile()`, did you forget to provide a `loss`argument?\n"
          ]
        },
        {
          "output_type": "stream",
          "name": "stdout",
          "text": [
            "WARNING:tensorflow:Gradients do not exist for variables ['EncoderDNN/DNN/ResidualHidden_0/dense/kernel/part_0:0', 'EncoderDNN/DNN/ResidualHidden_0/dense/kernel/part_1:0', 'EncoderDNN/DNN/ResidualHidden_0/dense/kernel/part_2:0', 'EncoderDNN/DNN/ResidualHidden_0/dense/kernel/part_3:0', 'EncoderDNN/DNN/ResidualHidden_0/dense/kernel/part_4:0', 'EncoderDNN/DNN/ResidualHidden_0/dense/kernel/part_5:0', 'EncoderDNN/DNN/ResidualHidden_0/dense/kernel/part_6:0', 'EncoderDNN/DNN/ResidualHidden_0/dense/kernel/part_7:0', 'EncoderDNN/DNN/ResidualHidden_0/dense/kernel/part_8:0', 'EncoderDNN/DNN/ResidualHidden_0/dense/kernel/part_9:0', 'EncoderDNN/DNN/ResidualHidden_0/dense/kernel/part_10:0', 'EncoderDNN/DNN/ResidualHidden_0/dense/kernel/part_11:0', 'EncoderDNN/DNN/ResidualHidden_0/dense/kernel/part_12:0', 'EncoderDNN/DNN/ResidualHidden_0/dense/kernel/part_13:0', 'EncoderDNN/DNN/ResidualHidden_0/dense/kernel/part_14:0', 'EncoderDNN/DNN/ResidualHidden_0/dense/kernel/part_15:0', 'EncoderDNN/DNN/ResidualHidden_0/dense/kernel/part_16:0', 'EncoderDNN/DNN/ResidualHidden_0/dense/kernel/part_17:0', 'EncoderDNN/DNN/ResidualHidden_0/dense/kernel/part_18:0', 'EncoderDNN/DNN/ResidualHidden_0/dense/kernel/part_19:0', 'EncoderDNN/DNN/ResidualHidden_0/dense/kernel/part_20:0', 'EncoderDNN/DNN/ResidualHidden_0/dense/kernel/part_21:0', 'EncoderDNN/DNN/ResidualHidden_0/dense/kernel/part_22:0', 'EncoderDNN/DNN/ResidualHidden_0/dense/kernel/part_23:0', 'EncoderDNN/DNN/ResidualHidden_0/dense/kernel/part_24:0', 'EncoderDNN/DNN/ResidualHidden_0/dense/kernel/part_25:0', 'EncoderDNN/DNN/ResidualHidden_0/dense/kernel/part_26:0', 'EncoderDNN/DNN/ResidualHidden_0/dense/kernel/part_27:0', 'EncoderDNN/DNN/ResidualHidden_0/dense/kernel/part_28:0', 'EncoderDNN/DNN/ResidualHidden_0/dense/kernel/part_29:0', 'EncoderDNN/DNN/ResidualHidden_1/dense/kernel/part_0:0', 'EncoderDNN/DNN/ResidualHidden_1/dense/kernel/part_1:0', 'EncoderDNN/DNN/ResidualHidden_1/dense/kernel/part_2:0', 'EncoderDNN/DNN/ResidualHidden_1/dense/kernel/part_3:0', 'EncoderDNN/DNN/ResidualHidden_1/dense/kernel/part_4:0', 'EncoderDNN/DNN/ResidualHidden_1/dense/kernel/part_5:0', 'EncoderDNN/DNN/ResidualHidden_1/dense/kernel/part_6:0', 'EncoderDNN/DNN/ResidualHidden_1/dense/kernel/part_7:0', 'EncoderDNN/DNN/ResidualHidden_1/dense/kernel/part_8:0', 'EncoderDNN/DNN/ResidualHidden_1/dense/kernel/part_9:0', 'EncoderDNN/DNN/ResidualHidden_1/dense/kernel/part_10:0', 'EncoderDNN/DNN/ResidualHidden_1/dense/kernel/part_11:0', 'EncoderDNN/DNN/ResidualHidden_1/dense/kernel/part_12:0', 'EncoderDNN/DNN/ResidualHidden_1/dense/kernel/part_13:0', 'EncoderDNN/DNN/ResidualHidden_1/dense/kernel/part_14:0', 'EncoderDNN/DNN/ResidualHidden_1/dense/kernel/part_15:0', 'EncoderDNN/DNN/ResidualHidden_1/dense/kernel/part_16:0', 'EncoderDNN/DNN/ResidualHidden_1/dense/kernel/part_17:0', 'EncoderDNN/DNN/ResidualHidden_1/dense/kernel/part_18:0', 'EncoderDNN/DNN/ResidualHidden_1/dense/kernel/part_19:0', 'EncoderDNN/DNN/ResidualHidden_1/dense/kernel/part_20:0', 'EncoderDNN/DNN/ResidualHidden_1/dense/kernel/part_21:0', 'EncoderDNN/DNN/ResidualHidden_1/dense/kernel/part_22:0', 'EncoderDNN/DNN/ResidualHidden_1/dense/kernel/part_23:0', 'EncoderDNN/DNN/ResidualHidden_1/dense/kernel/part_24:0', 'EncoderDNN/DNN/ResidualHidden_1/dense/kernel/part_25:0', 'EncoderDNN/DNN/ResidualHidden_1/dense/kernel/part_26:0', 'EncoderDNN/DNN/ResidualHidden_1/dense/kernel/part_27:0', 'EncoderDNN/DNN/ResidualHidden_1/dense/kernel/part_28:0', 'EncoderDNN/DNN/ResidualHidden_1/dense/kernel/part_29:0', 'EncoderDNN/DNN/ResidualHidden_2/dense/kernel/part_0:0', 'EncoderDNN/DNN/ResidualHidden_2/dense/kernel/part_1:0', 'EncoderDNN/DNN/ResidualHidden_2/dense/kernel/part_2:0', 'EncoderDNN/DNN/ResidualHidden_2/dense/kernel/part_3:0', 'EncoderDNN/DNN/ResidualHidden_2/dense/kernel/part_4:0', 'EncoderDNN/DNN/ResidualHidden_2/dense/kernel/part_5:0', 'EncoderDNN/DNN/ResidualHidden_2/dense/kernel/part_6:0', 'EncoderDNN/DNN/ResidualHidden_2/dense/kernel/part_7:0', 'EncoderDNN/DNN/ResidualHidden_2/dense/kernel/part_8:0', 'EncoderDNN/DNN/ResidualHidden_2/dense/kernel/part_9:0', 'EncoderDNN/DNN/ResidualHidden_2/dense/kernel/part_10:0', 'EncoderDNN/DNN/ResidualHidden_2/dense/kernel/part_11:0', 'EncoderDNN/DNN/ResidualHidden_2/dense/kernel/part_12:0', 'EncoderDNN/DNN/ResidualHidden_2/dense/kernel/part_13:0', 'EncoderDNN/DNN/ResidualHidden_2/dense/kernel/part_14:0', 'EncoderDNN/DNN/ResidualHidden_2/dense/kernel/part_15:0', 'EncoderDNN/DNN/ResidualHidden_2/dense/kernel/part_16:0', 'EncoderDNN/DNN/ResidualHidden_2/dense/kernel/part_17:0', 'EncoderDNN/DNN/ResidualHidden_2/dense/kernel/part_18:0', 'EncoderDNN/DNN/ResidualHidden_2/dense/kernel/part_19:0', 'EncoderDNN/DNN/ResidualHidden_2/dense/kernel/part_20:0', 'EncoderDNN/DNN/ResidualHidden_2/dense/kernel/part_21:0', 'EncoderDNN/DNN/ResidualHidden_2/dense/kernel/part_22:0', 'EncoderDNN/DNN/ResidualHidden_2/dense/kernel/part_23:0', 'EncoderDNN/DNN/ResidualHidden_2/dense/kernel/part_24:0', 'EncoderDNN/DNN/ResidualHidden_2/dense/kernel/part_25:0', 'EncoderDNN/DNN/ResidualHidden_2/dense/kernel/part_26:0', 'EncoderDNN/DNN/ResidualHidden_2/dense/kernel/part_27:0', 'EncoderDNN/DNN/ResidualHidden_2/dense/kernel/part_28:0', 'EncoderDNN/DNN/ResidualHidden_2/dense/kernel/part_29:0', 'EncoderDNN/DNN/ResidualHidden_3/dense/kernel/part_0:0', 'EncoderDNN/DNN/ResidualHidden_3/dense/kernel/part_1:0', 'EncoderDNN/DNN/ResidualHidden_3/dense/kernel/part_2:0', 'EncoderDNN/DNN/ResidualHidden_3/dense/kernel/part_3:0', 'EncoderDNN/DNN/ResidualHidden_3/dense/kernel/part_4:0', 'EncoderDNN/DNN/ResidualHidden_3/dense/kernel/part_5:0', 'EncoderDNN/DNN/ResidualHidden_3/dense/kernel/part_6:0', 'EncoderDNN/DNN/ResidualHidden_3/dense/kernel/part_7:0', 'EncoderDNN/DNN/ResidualHidden_3/dense/kernel/part_8:0', 'EncoderDNN/DNN/ResidualHidden_3/dense/kernel/part_9:0', 'EncoderDNN/DNN/ResidualHidden_3/dense/kernel/part_10:0', 'EncoderDNN/DNN/ResidualHidden_3/dense/kernel/part_11:0', 'EncoderDNN/DNN/ResidualHidden_3/dense/kernel/part_12:0', 'EncoderDNN/DNN/ResidualHidden_3/dense/kernel/part_13:0', 'EncoderDNN/DNN/ResidualHidden_3/dense/kernel/part_14:0', 'EncoderDNN/DNN/ResidualHidden_3/dense/kernel/part_15:0', 'EncoderDNN/DNN/ResidualHidden_3/dense/kernel/part_16:0', 'EncoderDNN/DNN/ResidualHidden_3/dense/kernel/part_17:0', 'EncoderDNN/DNN/ResidualHidden_3/dense/kernel/part_18:0', 'EncoderDNN/DNN/ResidualHidden_3/dense/kernel/part_19:0', 'EncoderDNN/DNN/ResidualHidden_3/dense/kernel/part_20:0', 'EncoderDNN/DNN/ResidualHidden_3/dense/kernel/part_21:0', 'EncoderDNN/DNN/ResidualHidden_3/dense/kernel/part_22:0', 'EncoderDNN/DNN/ResidualHidden_3/dense/kernel/part_23:0', 'EncoderDNN/DNN/ResidualHidden_3/dense/kernel/part_24:0', 'EncoderDNN/DNN/ResidualHidden_3/dense/kernel/part_25:0', 'EncoderDNN/DNN/ResidualHidden_3/dense/kernel/part_26:0', 'EncoderDNN/DNN/ResidualHidden_3/dense/kernel/part_27:0', 'EncoderDNN/DNN/ResidualHidden_3/dense/kernel/part_28:0', 'EncoderDNN/DNN/ResidualHidden_3/dense/kernel/part_29:0', 'EncoderDNN/DNN/ResidualHidden_3/AdjustDepth/projection/kernel/part_0:0', 'EncoderDNN/DNN/ResidualHidden_3/AdjustDepth/projection/kernel/part_1:0', 'EncoderDNN/DNN/ResidualHidden_3/AdjustDepth/projection/kernel/part_2:0', 'EncoderDNN/DNN/ResidualHidden_3/AdjustDepth/projection/kernel/part_3:0', 'EncoderDNN/DNN/ResidualHidden_3/AdjustDepth/projection/kernel/part_4:0', 'EncoderDNN/DNN/ResidualHidden_3/AdjustDepth/projection/kernel/part_5:0', 'EncoderDNN/DNN/ResidualHidden_3/AdjustDepth/projection/kernel/part_6:0', 'EncoderDNN/DNN/ResidualHidden_3/AdjustDepth/projection/kernel/part_7:0', 'EncoderDNN/DNN/ResidualHidden_3/AdjustDepth/projection/kernel/part_8:0', 'EncoderDNN/DNN/ResidualHidden_3/AdjustDepth/projection/kernel/part_9:0', 'EncoderDNN/DNN/ResidualHidden_3/AdjustDepth/projection/kernel/part_10:0', 'EncoderDNN/DNN/ResidualHidden_3/AdjustDepth/projection/kernel/part_11:0', 'EncoderDNN/DNN/ResidualHidden_3/AdjustDepth/projection/kernel/part_12:0', 'EncoderDNN/DNN/ResidualHidden_3/AdjustDepth/projection/kernel/part_13:0', 'EncoderDNN/DNN/ResidualHidden_3/AdjustDepth/projection/kernel/part_14:0', 'EncoderDNN/DNN/ResidualHidden_3/AdjustDepth/projection/kernel/part_15:0', 'EncoderDNN/DNN/ResidualHidden_3/AdjustDepth/projection/kernel/part_16:0', 'EncoderDNN/DNN/ResidualHidden_3/AdjustDepth/projection/kernel/part_17:0', 'EncoderDNN/DNN/ResidualHidden_3/AdjustDepth/projection/kernel/part_18:0', 'EncoderDNN/DNN/ResidualHidden_3/AdjustDepth/projection/kernel/part_19:0', 'EncoderDNN/DNN/ResidualHidden_3/AdjustDepth/projection/kernel/part_20:0', 'EncoderDNN/DNN/ResidualHidden_3/AdjustDepth/projection/kernel/part_21:0', 'EncoderDNN/DNN/ResidualHidden_3/AdjustDepth/projection/kernel/part_22:0', 'EncoderDNN/DNN/ResidualHidden_3/AdjustDepth/projection/kernel/part_23:0', 'EncoderDNN/DNN/ResidualHidden_3/AdjustDepth/projection/kernel/part_24:0', 'EncoderDNN/DNN/ResidualHidden_3/AdjustDepth/projection/kernel/part_25:0', 'EncoderDNN/DNN/ResidualHidden_3/AdjustDepth/projection/kernel/part_26:0', 'EncoderDNN/DNN/ResidualHidden_3/AdjustDepth/projection/kernel/part_27:0', 'EncoderDNN/DNN/ResidualHidden_3/AdjustDepth/projection/kernel/part_28:0', 'EncoderDNN/DNN/ResidualHidden_3/AdjustDepth/projection/kernel/part_29:0'] when minimizing the loss. If you're using `model.compile()`, did you forget to provide a `loss`argument?\n"
          ]
        },
        {
          "output_type": "stream",
          "name": "stderr",
          "text": [
            "WARNING:tensorflow:Gradients do not exist for variables ['EncoderDNN/DNN/ResidualHidden_0/dense/kernel/part_0:0', 'EncoderDNN/DNN/ResidualHidden_0/dense/kernel/part_1:0', 'EncoderDNN/DNN/ResidualHidden_0/dense/kernel/part_2:0', 'EncoderDNN/DNN/ResidualHidden_0/dense/kernel/part_3:0', 'EncoderDNN/DNN/ResidualHidden_0/dense/kernel/part_4:0', 'EncoderDNN/DNN/ResidualHidden_0/dense/kernel/part_5:0', 'EncoderDNN/DNN/ResidualHidden_0/dense/kernel/part_6:0', 'EncoderDNN/DNN/ResidualHidden_0/dense/kernel/part_7:0', 'EncoderDNN/DNN/ResidualHidden_0/dense/kernel/part_8:0', 'EncoderDNN/DNN/ResidualHidden_0/dense/kernel/part_9:0', 'EncoderDNN/DNN/ResidualHidden_0/dense/kernel/part_10:0', 'EncoderDNN/DNN/ResidualHidden_0/dense/kernel/part_11:0', 'EncoderDNN/DNN/ResidualHidden_0/dense/kernel/part_12:0', 'EncoderDNN/DNN/ResidualHidden_0/dense/kernel/part_13:0', 'EncoderDNN/DNN/ResidualHidden_0/dense/kernel/part_14:0', 'EncoderDNN/DNN/ResidualHidden_0/dense/kernel/part_15:0', 'EncoderDNN/DNN/ResidualHidden_0/dense/kernel/part_16:0', 'EncoderDNN/DNN/ResidualHidden_0/dense/kernel/part_17:0', 'EncoderDNN/DNN/ResidualHidden_0/dense/kernel/part_18:0', 'EncoderDNN/DNN/ResidualHidden_0/dense/kernel/part_19:0', 'EncoderDNN/DNN/ResidualHidden_0/dense/kernel/part_20:0', 'EncoderDNN/DNN/ResidualHidden_0/dense/kernel/part_21:0', 'EncoderDNN/DNN/ResidualHidden_0/dense/kernel/part_22:0', 'EncoderDNN/DNN/ResidualHidden_0/dense/kernel/part_23:0', 'EncoderDNN/DNN/ResidualHidden_0/dense/kernel/part_24:0', 'EncoderDNN/DNN/ResidualHidden_0/dense/kernel/part_25:0', 'EncoderDNN/DNN/ResidualHidden_0/dense/kernel/part_26:0', 'EncoderDNN/DNN/ResidualHidden_0/dense/kernel/part_27:0', 'EncoderDNN/DNN/ResidualHidden_0/dense/kernel/part_28:0', 'EncoderDNN/DNN/ResidualHidden_0/dense/kernel/part_29:0', 'EncoderDNN/DNN/ResidualHidden_1/dense/kernel/part_0:0', 'EncoderDNN/DNN/ResidualHidden_1/dense/kernel/part_1:0', 'EncoderDNN/DNN/ResidualHidden_1/dense/kernel/part_2:0', 'EncoderDNN/DNN/ResidualHidden_1/dense/kernel/part_3:0', 'EncoderDNN/DNN/ResidualHidden_1/dense/kernel/part_4:0', 'EncoderDNN/DNN/ResidualHidden_1/dense/kernel/part_5:0', 'EncoderDNN/DNN/ResidualHidden_1/dense/kernel/part_6:0', 'EncoderDNN/DNN/ResidualHidden_1/dense/kernel/part_7:0', 'EncoderDNN/DNN/ResidualHidden_1/dense/kernel/part_8:0', 'EncoderDNN/DNN/ResidualHidden_1/dense/kernel/part_9:0', 'EncoderDNN/DNN/ResidualHidden_1/dense/kernel/part_10:0', 'EncoderDNN/DNN/ResidualHidden_1/dense/kernel/part_11:0', 'EncoderDNN/DNN/ResidualHidden_1/dense/kernel/part_12:0', 'EncoderDNN/DNN/ResidualHidden_1/dense/kernel/part_13:0', 'EncoderDNN/DNN/ResidualHidden_1/dense/kernel/part_14:0', 'EncoderDNN/DNN/ResidualHidden_1/dense/kernel/part_15:0', 'EncoderDNN/DNN/ResidualHidden_1/dense/kernel/part_16:0', 'EncoderDNN/DNN/ResidualHidden_1/dense/kernel/part_17:0', 'EncoderDNN/DNN/ResidualHidden_1/dense/kernel/part_18:0', 'EncoderDNN/DNN/ResidualHidden_1/dense/kernel/part_19:0', 'EncoderDNN/DNN/ResidualHidden_1/dense/kernel/part_20:0', 'EncoderDNN/DNN/ResidualHidden_1/dense/kernel/part_21:0', 'EncoderDNN/DNN/ResidualHidden_1/dense/kernel/part_22:0', 'EncoderDNN/DNN/ResidualHidden_1/dense/kernel/part_23:0', 'EncoderDNN/DNN/ResidualHidden_1/dense/kernel/part_24:0', 'EncoderDNN/DNN/ResidualHidden_1/dense/kernel/part_25:0', 'EncoderDNN/DNN/ResidualHidden_1/dense/kernel/part_26:0', 'EncoderDNN/DNN/ResidualHidden_1/dense/kernel/part_27:0', 'EncoderDNN/DNN/ResidualHidden_1/dense/kernel/part_28:0', 'EncoderDNN/DNN/ResidualHidden_1/dense/kernel/part_29:0', 'EncoderDNN/DNN/ResidualHidden_2/dense/kernel/part_0:0', 'EncoderDNN/DNN/ResidualHidden_2/dense/kernel/part_1:0', 'EncoderDNN/DNN/ResidualHidden_2/dense/kernel/part_2:0', 'EncoderDNN/DNN/ResidualHidden_2/dense/kernel/part_3:0', 'EncoderDNN/DNN/ResidualHidden_2/dense/kernel/part_4:0', 'EncoderDNN/DNN/ResidualHidden_2/dense/kernel/part_5:0', 'EncoderDNN/DNN/ResidualHidden_2/dense/kernel/part_6:0', 'EncoderDNN/DNN/ResidualHidden_2/dense/kernel/part_7:0', 'EncoderDNN/DNN/ResidualHidden_2/dense/kernel/part_8:0', 'EncoderDNN/DNN/ResidualHidden_2/dense/kernel/part_9:0', 'EncoderDNN/DNN/ResidualHidden_2/dense/kernel/part_10:0', 'EncoderDNN/DNN/ResidualHidden_2/dense/kernel/part_11:0', 'EncoderDNN/DNN/ResidualHidden_2/dense/kernel/part_12:0', 'EncoderDNN/DNN/ResidualHidden_2/dense/kernel/part_13:0', 'EncoderDNN/DNN/ResidualHidden_2/dense/kernel/part_14:0', 'EncoderDNN/DNN/ResidualHidden_2/dense/kernel/part_15:0', 'EncoderDNN/DNN/ResidualHidden_2/dense/kernel/part_16:0', 'EncoderDNN/DNN/ResidualHidden_2/dense/kernel/part_17:0', 'EncoderDNN/DNN/ResidualHidden_2/dense/kernel/part_18:0', 'EncoderDNN/DNN/ResidualHidden_2/dense/kernel/part_19:0', 'EncoderDNN/DNN/ResidualHidden_2/dense/kernel/part_20:0', 'EncoderDNN/DNN/ResidualHidden_2/dense/kernel/part_21:0', 'EncoderDNN/DNN/ResidualHidden_2/dense/kernel/part_22:0', 'EncoderDNN/DNN/ResidualHidden_2/dense/kernel/part_23:0', 'EncoderDNN/DNN/ResidualHidden_2/dense/kernel/part_24:0', 'EncoderDNN/DNN/ResidualHidden_2/dense/kernel/part_25:0', 'EncoderDNN/DNN/ResidualHidden_2/dense/kernel/part_26:0', 'EncoderDNN/DNN/ResidualHidden_2/dense/kernel/part_27:0', 'EncoderDNN/DNN/ResidualHidden_2/dense/kernel/part_28:0', 'EncoderDNN/DNN/ResidualHidden_2/dense/kernel/part_29:0', 'EncoderDNN/DNN/ResidualHidden_3/dense/kernel/part_0:0', 'EncoderDNN/DNN/ResidualHidden_3/dense/kernel/part_1:0', 'EncoderDNN/DNN/ResidualHidden_3/dense/kernel/part_2:0', 'EncoderDNN/DNN/ResidualHidden_3/dense/kernel/part_3:0', 'EncoderDNN/DNN/ResidualHidden_3/dense/kernel/part_4:0', 'EncoderDNN/DNN/ResidualHidden_3/dense/kernel/part_5:0', 'EncoderDNN/DNN/ResidualHidden_3/dense/kernel/part_6:0', 'EncoderDNN/DNN/ResidualHidden_3/dense/kernel/part_7:0', 'EncoderDNN/DNN/ResidualHidden_3/dense/kernel/part_8:0', 'EncoderDNN/DNN/ResidualHidden_3/dense/kernel/part_9:0', 'EncoderDNN/DNN/ResidualHidden_3/dense/kernel/part_10:0', 'EncoderDNN/DNN/ResidualHidden_3/dense/kernel/part_11:0', 'EncoderDNN/DNN/ResidualHidden_3/dense/kernel/part_12:0', 'EncoderDNN/DNN/ResidualHidden_3/dense/kernel/part_13:0', 'EncoderDNN/DNN/ResidualHidden_3/dense/kernel/part_14:0', 'EncoderDNN/DNN/ResidualHidden_3/dense/kernel/part_15:0', 'EncoderDNN/DNN/ResidualHidden_3/dense/kernel/part_16:0', 'EncoderDNN/DNN/ResidualHidden_3/dense/kernel/part_17:0', 'EncoderDNN/DNN/ResidualHidden_3/dense/kernel/part_18:0', 'EncoderDNN/DNN/ResidualHidden_3/dense/kernel/part_19:0', 'EncoderDNN/DNN/ResidualHidden_3/dense/kernel/part_20:0', 'EncoderDNN/DNN/ResidualHidden_3/dense/kernel/part_21:0', 'EncoderDNN/DNN/ResidualHidden_3/dense/kernel/part_22:0', 'EncoderDNN/DNN/ResidualHidden_3/dense/kernel/part_23:0', 'EncoderDNN/DNN/ResidualHidden_3/dense/kernel/part_24:0', 'EncoderDNN/DNN/ResidualHidden_3/dense/kernel/part_25:0', 'EncoderDNN/DNN/ResidualHidden_3/dense/kernel/part_26:0', 'EncoderDNN/DNN/ResidualHidden_3/dense/kernel/part_27:0', 'EncoderDNN/DNN/ResidualHidden_3/dense/kernel/part_28:0', 'EncoderDNN/DNN/ResidualHidden_3/dense/kernel/part_29:0', 'EncoderDNN/DNN/ResidualHidden_3/AdjustDepth/projection/kernel/part_0:0', 'EncoderDNN/DNN/ResidualHidden_3/AdjustDepth/projection/kernel/part_1:0', 'EncoderDNN/DNN/ResidualHidden_3/AdjustDepth/projection/kernel/part_2:0', 'EncoderDNN/DNN/ResidualHidden_3/AdjustDepth/projection/kernel/part_3:0', 'EncoderDNN/DNN/ResidualHidden_3/AdjustDepth/projection/kernel/part_4:0', 'EncoderDNN/DNN/ResidualHidden_3/AdjustDepth/projection/kernel/part_5:0', 'EncoderDNN/DNN/ResidualHidden_3/AdjustDepth/projection/kernel/part_6:0', 'EncoderDNN/DNN/ResidualHidden_3/AdjustDepth/projection/kernel/part_7:0', 'EncoderDNN/DNN/ResidualHidden_3/AdjustDepth/projection/kernel/part_8:0', 'EncoderDNN/DNN/ResidualHidden_3/AdjustDepth/projection/kernel/part_9:0', 'EncoderDNN/DNN/ResidualHidden_3/AdjustDepth/projection/kernel/part_10:0', 'EncoderDNN/DNN/ResidualHidden_3/AdjustDepth/projection/kernel/part_11:0', 'EncoderDNN/DNN/ResidualHidden_3/AdjustDepth/projection/kernel/part_12:0', 'EncoderDNN/DNN/ResidualHidden_3/AdjustDepth/projection/kernel/part_13:0', 'EncoderDNN/DNN/ResidualHidden_3/AdjustDepth/projection/kernel/part_14:0', 'EncoderDNN/DNN/ResidualHidden_3/AdjustDepth/projection/kernel/part_15:0', 'EncoderDNN/DNN/ResidualHidden_3/AdjustDepth/projection/kernel/part_16:0', 'EncoderDNN/DNN/ResidualHidden_3/AdjustDepth/projection/kernel/part_17:0', 'EncoderDNN/DNN/ResidualHidden_3/AdjustDepth/projection/kernel/part_18:0', 'EncoderDNN/DNN/ResidualHidden_3/AdjustDepth/projection/kernel/part_19:0', 'EncoderDNN/DNN/ResidualHidden_3/AdjustDepth/projection/kernel/part_20:0', 'EncoderDNN/DNN/ResidualHidden_3/AdjustDepth/projection/kernel/part_21:0', 'EncoderDNN/DNN/ResidualHidden_3/AdjustDepth/projection/kernel/part_22:0', 'EncoderDNN/DNN/ResidualHidden_3/AdjustDepth/projection/kernel/part_23:0', 'EncoderDNN/DNN/ResidualHidden_3/AdjustDepth/projection/kernel/part_24:0', 'EncoderDNN/DNN/ResidualHidden_3/AdjustDepth/projection/kernel/part_25:0', 'EncoderDNN/DNN/ResidualHidden_3/AdjustDepth/projection/kernel/part_26:0', 'EncoderDNN/DNN/ResidualHidden_3/AdjustDepth/projection/kernel/part_27:0', 'EncoderDNN/DNN/ResidualHidden_3/AdjustDepth/projection/kernel/part_28:0', 'EncoderDNN/DNN/ResidualHidden_3/AdjustDepth/projection/kernel/part_29:0'] when minimizing the loss. If you're using `model.compile()`, did you forget to provide a `loss`argument?\n"
          ]
        },
        {
          "output_type": "stream",
          "name": "stdout",
          "text": [
            "10/10 [==============================] - 76s 3s/step - loss: 0.3527 - accuracy: 0.5125 - val_loss: 0.6939 - val_accuracy: 0.4852\n",
            "Epoch 2/100\n",
            "10/10 [==============================] - 19s 2s/step - loss: 0.3536 - accuracy: 0.4938 - val_loss: 0.6904 - val_accuracy: 0.5121\n",
            "Epoch 3/100\n",
            "10/10 [==============================] - 18s 2s/step - loss: 0.3475 - accuracy: 0.6000 - val_loss: 0.6866 - val_accuracy: 0.5594\n",
            "Epoch 4/100\n",
            "10/10 [==============================] - 18s 2s/step - loss: 0.3439 - accuracy: 0.5938 - val_loss: 0.6825 - val_accuracy: 0.5916\n",
            "Epoch 5/100\n",
            "10/10 [==============================] - 18s 2s/step - loss: 0.3435 - accuracy: 0.6938 - val_loss: 0.6781 - val_accuracy: 0.6106\n",
            "Epoch 6/100\n",
            "10/10 [==============================] - 18s 2s/step - loss: 0.3401 - accuracy: 0.6812 - val_loss: 0.6740 - val_accuracy: 0.6303\n",
            "Epoch 7/100\n",
            "10/10 [==============================] - 18s 2s/step - loss: 0.3357 - accuracy: 0.6594 - val_loss: 0.6695 - val_accuracy: 0.6441\n",
            "Epoch 8/100\n",
            "10/10 [==============================] - 18s 2s/step - loss: 0.3331 - accuracy: 0.7188 - val_loss: 0.6643 - val_accuracy: 0.6632\n",
            "Epoch 9/100\n",
            "10/10 [==============================] - 18s 2s/step - loss: 0.3334 - accuracy: 0.6906 - val_loss: 0.6596 - val_accuracy: 0.6737\n",
            "Epoch 10/100\n",
            "10/10 [==============================] - 18s 2s/step - loss: 0.3276 - accuracy: 0.7031 - val_loss: 0.6543 - val_accuracy: 0.6907\n",
            "Epoch 11/100\n",
            "10/10 [==============================] - 18s 2s/step - loss: 0.3274 - accuracy: 0.7000 - val_loss: 0.6490 - val_accuracy: 0.6986\n",
            "Epoch 12/100\n",
            "10/10 [==============================] - 18s 2s/step - loss: 0.3219 - accuracy: 0.7000 - val_loss: 0.6439 - val_accuracy: 0.6999\n",
            "Epoch 13/100\n",
            "10/10 [==============================] - 18s 2s/step - loss: 0.3142 - accuracy: 0.7437 - val_loss: 0.6369 - val_accuracy: 0.7144\n",
            "Epoch 14/100\n",
            "10/10 [==============================] - 18s 2s/step - loss: 0.3163 - accuracy: 0.6781 - val_loss: 0.6283 - val_accuracy: 0.7393\n",
            "Epoch 15/100\n",
            "10/10 [==============================] - 19s 2s/step - loss: 0.3102 - accuracy: 0.7719 - val_loss: 0.6189 - val_accuracy: 0.7584\n",
            "Epoch 16/100\n",
            "10/10 [==============================] - 19s 2s/step - loss: 0.3100 - accuracy: 0.7656 - val_loss: 0.6103 - val_accuracy: 0.7656\n",
            "Epoch 17/100\n",
            "10/10 [==============================] - 18s 2s/step - loss: 0.3018 - accuracy: 0.7656 - val_loss: 0.6023 - val_accuracy: 0.7669\n",
            "Epoch 18/100\n",
            "10/10 [==============================] - 18s 2s/step - loss: 0.2947 - accuracy: 0.7500 - val_loss: 0.5922 - val_accuracy: 0.7708\n",
            "Epoch 19/100\n",
            "10/10 [==============================] - 18s 2s/step - loss: 0.2935 - accuracy: 0.7750 - val_loss: 0.5810 - val_accuracy: 0.7873\n",
            "Epoch 20/100\n",
            "10/10 [==============================] - 18s 2s/step - loss: 0.2764 - accuracy: 0.8154 - val_loss: 0.5674 - val_accuracy: 0.7958\n",
            "Epoch 21/100\n",
            "10/10 [==============================] - 19s 2s/step - loss: 0.2784 - accuracy: 0.8125 - val_loss: 0.5545 - val_accuracy: 0.8011\n",
            "Epoch 22/100\n",
            "10/10 [==============================] - 10s 1s/step - loss: 0.2743 - accuracy: 0.8031 - val_loss: 0.5465 - val_accuracy: 0.7991\n",
            "Epoch 23/100\n",
            "10/10 [==============================] - 10s 1s/step - loss: 0.2686 - accuracy: 0.8062 - val_loss: 0.5408 - val_accuracy: 0.8011\n",
            "Epoch 24/100\n",
            "10/10 [==============================] - 10s 1s/step - loss: 0.2538 - accuracy: 0.8438 - val_loss: 0.5332 - val_accuracy: 0.8011\n",
            "Epoch 25/100\n",
            "10/10 [==============================] - 18s 2s/step - loss: 0.2711 - accuracy: 0.7781 - val_loss: 0.5264 - val_accuracy: 0.8017\n",
            "Epoch 26/100\n",
            "10/10 [==============================] - 18s 2s/step - loss: 0.2525 - accuracy: 0.8062 - val_loss: 0.5195 - val_accuracy: 0.8043\n",
            "Epoch 27/100\n",
            "10/10 [==============================] - 18s 2s/step - loss: 0.2555 - accuracy: 0.7875 - val_loss: 0.5134 - val_accuracy: 0.8089\n",
            "Epoch 28/100\n",
            "10/10 [==============================] - 18s 2s/step - loss: 0.2434 - accuracy: 0.8406 - val_loss: 0.5047 - val_accuracy: 0.8135\n",
            "Epoch 29/100\n",
            "10/10 [==============================] - 18s 2s/step - loss: 0.2506 - accuracy: 0.8062 - val_loss: 0.5003 - val_accuracy: 0.8148\n",
            "Epoch 30/100\n",
            "10/10 [==============================] - 18s 2s/step - loss: 0.2477 - accuracy: 0.7969 - val_loss: 0.4970 - val_accuracy: 0.8162\n",
            "Epoch 31/100\n",
            "10/10 [==============================] - 10s 1s/step - loss: 0.2350 - accuracy: 0.8344 - val_loss: 0.4954 - val_accuracy: 0.8148\n",
            "Epoch 32/100\n",
            "10/10 [==============================] - 10s 1s/step - loss: 0.2269 - accuracy: 0.8531 - val_loss: 0.4951 - val_accuracy: 0.8083\n",
            "Epoch 33/100\n",
            "10/10 [==============================] - 10s 1s/step - loss: 0.2426 - accuracy: 0.8188 - val_loss: 0.4932 - val_accuracy: 0.8076\n",
            "Epoch 34/100\n",
            "10/10 [==============================] - 10s 1s/step - loss: 0.2295 - accuracy: 0.8313 - val_loss: 0.4880 - val_accuracy: 0.8135\n",
            "Epoch 35/100\n",
            "10/10 [==============================] - 10s 1s/step - loss: 0.2301 - accuracy: 0.8438 - val_loss: 0.4853 - val_accuracy: 0.8129\n",
            "Epoch 36/100\n",
            "10/10 [==============================] - 18s 2s/step - loss: 0.2444 - accuracy: 0.7969 - val_loss: 0.4802 - val_accuracy: 0.8247\n",
            "Epoch 37/100\n",
            "10/10 [==============================] - 10s 1s/step - loss: 0.2248 - accuracy: 0.8281 - val_loss: 0.4721 - val_accuracy: 0.8227\n",
            "Epoch 38/100\n",
            "10/10 [==============================] - 10s 1s/step - loss: 0.2294 - accuracy: 0.8313 - val_loss: 0.4689 - val_accuracy: 0.8227\n",
            "Epoch 39/100\n",
            "10/10 [==============================] - 10s 1s/step - loss: 0.2305 - accuracy: 0.8255 - val_loss: 0.4691 - val_accuracy: 0.8214\n",
            "Epoch 40/100\n",
            "10/10 [==============================] - 10s 1s/step - loss: 0.2279 - accuracy: 0.8156 - val_loss: 0.4681 - val_accuracy: 0.8227\n",
            "Epoch 41/100\n",
            "10/10 [==============================] - 10s 1s/step - loss: 0.2161 - accuracy: 0.8500 - val_loss: 0.4672 - val_accuracy: 0.8247\n",
            "Epoch 42/100\n",
            "10/10 [==============================] - 10s 1s/step - loss: 0.2300 - accuracy: 0.8156 - val_loss: 0.4690 - val_accuracy: 0.8227\n",
            "Epoch 43/100\n",
            "10/10 [==============================] - 10s 1s/step - loss: 0.2151 - accuracy: 0.8469 - val_loss: 0.4696 - val_accuracy: 0.8207\n",
            "Epoch 44/100\n",
            "10/10 [==============================] - 10s 1s/step - loss: 0.2090 - accuracy: 0.8625 - val_loss: 0.4652 - val_accuracy: 0.8227\n",
            "Epoch 45/100\n",
            "10/10 [==============================] - 10s 1s/step - loss: 0.2076 - accuracy: 0.8656 - val_loss: 0.4659 - val_accuracy: 0.8194\n",
            "Epoch 46/100\n",
            "10/10 [==============================] - 18s 2s/step - loss: 0.2059 - accuracy: 0.8594 - val_loss: 0.4590 - val_accuracy: 0.8280\n",
            "Epoch 47/100\n",
            "10/10 [==============================] - 19s 2s/step - loss: 0.2057 - accuracy: 0.8625 - val_loss: 0.4532 - val_accuracy: 0.8299\n",
            "Epoch 48/100\n",
            "10/10 [==============================] - 10s 1s/step - loss: 0.2167 - accuracy: 0.8375 - val_loss: 0.4505 - val_accuracy: 0.8293\n",
            "Epoch 49/100\n",
            "10/10 [==============================] - 18s 2s/step - loss: 0.2027 - accuracy: 0.8656 - val_loss: 0.4528 - val_accuracy: 0.8306\n",
            "Epoch 50/100\n",
            "10/10 [==============================] - 10s 1s/step - loss: 0.1864 - accuracy: 0.9000 - val_loss: 0.4526 - val_accuracy: 0.8299\n",
            "Epoch 51/100\n",
            "10/10 [==============================] - 10s 1s/step - loss: 0.2117 - accuracy: 0.8469 - val_loss: 0.4512 - val_accuracy: 0.8299\n",
            "Epoch 52/100\n",
            "10/10 [==============================] - 10s 1s/step - loss: 0.2121 - accuracy: 0.8469 - val_loss: 0.4504 - val_accuracy: 0.8280\n",
            "Epoch 53/100\n",
            "10/10 [==============================] - 18s 2s/step - loss: 0.2115 - accuracy: 0.8438 - val_loss: 0.4483 - val_accuracy: 0.8313\n",
            "Epoch 54/100\n",
            "10/10 [==============================] - 10s 1s/step - loss: 0.2157 - accuracy: 0.8250 - val_loss: 0.4487 - val_accuracy: 0.8299\n",
            "Epoch 55/100\n",
            "10/10 [==============================] - 18s 2s/step - loss: 0.2074 - accuracy: 0.8469 - val_loss: 0.4490 - val_accuracy: 0.8326\n",
            "Epoch 56/100\n",
            "10/10 [==============================] - 10s 1s/step - loss: 0.2190 - accuracy: 0.8281 - val_loss: 0.4499 - val_accuracy: 0.8313\n",
            "Epoch 57/100\n",
            "10/10 [==============================] - 10s 1s/step - loss: 0.2245 - accuracy: 0.8125 - val_loss: 0.4468 - val_accuracy: 0.8299\n",
            "Epoch 58/100\n",
            "10/10 [==============================] - 9s 1s/step - loss: 0.1942 - accuracy: 0.8792 - val_loss: 0.4448 - val_accuracy: 0.8326\n",
            "Epoch 59/100\n",
            "10/10 [==============================] - 10s 1s/step - loss: 0.1923 - accuracy: 0.8844 - val_loss: 0.4462 - val_accuracy: 0.8326\n",
            "Epoch 60/100\n",
            "10/10 [==============================] - 10s 1s/step - loss: 0.2117 - accuracy: 0.8406 - val_loss: 0.4481 - val_accuracy: 0.8306\n",
            "Epoch 61/100\n",
            "10/10 [==============================] - 10s 1s/step - loss: 0.1940 - accuracy: 0.8750 - val_loss: 0.4476 - val_accuracy: 0.8306\n",
            "Epoch 62/100\n",
            "10/10 [==============================] - 10s 1s/step - loss: 0.2054 - accuracy: 0.8562 - val_loss: 0.4432 - val_accuracy: 0.8326\n",
            "Epoch 63/100\n",
            "10/10 [==============================] - 10s 1s/step - loss: 0.1889 - accuracy: 0.8844 - val_loss: 0.4414 - val_accuracy: 0.8326\n",
            "Epoch 64/100\n",
            "10/10 [==============================] - 18s 2s/step - loss: 0.1837 - accuracy: 0.8938 - val_loss: 0.4405 - val_accuracy: 0.8345\n",
            "Epoch 65/100\n",
            "10/10 [==============================] - 10s 1s/step - loss: 0.2075 - accuracy: 0.8500 - val_loss: 0.4401 - val_accuracy: 0.8339\n",
            "Epoch 66/100\n",
            "10/10 [==============================] - 10s 1s/step - loss: 0.1939 - accuracy: 0.8875 - val_loss: 0.4456 - val_accuracy: 0.8313\n",
            "Epoch 67/100\n",
            "10/10 [==============================] - 10s 1s/step - loss: 0.1992 - accuracy: 0.8562 - val_loss: 0.4485 - val_accuracy: 0.8326\n",
            "Epoch 68/100\n",
            "10/10 [==============================] - 10s 1s/step - loss: 0.2069 - accuracy: 0.8500 - val_loss: 0.4452 - val_accuracy: 0.8326\n",
            "Epoch 69/100\n",
            "10/10 [==============================] - 10s 1s/step - loss: 0.1965 - accuracy: 0.8594 - val_loss: 0.4400 - val_accuracy: 0.8332\n",
            "Epoch 70/100\n",
            "10/10 [==============================] - 18s 2s/step - loss: 0.1925 - accuracy: 0.8687 - val_loss: 0.4380 - val_accuracy: 0.8365\n",
            "Epoch 71/100\n",
            "10/10 [==============================] - 10s 1s/step - loss: 0.1925 - accuracy: 0.8813 - val_loss: 0.4392 - val_accuracy: 0.8352\n",
            "Epoch 72/100\n",
            "10/10 [==============================] - 10s 1s/step - loss: 0.1807 - accuracy: 0.8906 - val_loss: 0.4425 - val_accuracy: 0.8339\n",
            "Epoch 73/100\n",
            "10/10 [==============================] - 10s 1s/step - loss: 0.1870 - accuracy: 0.8844 - val_loss: 0.4409 - val_accuracy: 0.8345\n",
            "Epoch 74/100\n",
            "10/10 [==============================] - 10s 1s/step - loss: 0.1944 - accuracy: 0.8625 - val_loss: 0.4377 - val_accuracy: 0.8332\n",
            "Epoch 75/100\n",
            "10/10 [==============================] - 10s 1s/step - loss: 0.1819 - accuracy: 0.8906 - val_loss: 0.4357 - val_accuracy: 0.8359\n",
            "Epoch 76/100\n",
            "10/10 [==============================] - 10s 1s/step - loss: 0.1891 - accuracy: 0.8719 - val_loss: 0.4357 - val_accuracy: 0.8352\n",
            "Epoch 77/100\n",
            "10/10 [==============================] - 10s 1s/step - loss: 0.1860 - accuracy: 0.8792 - val_loss: 0.4380 - val_accuracy: 0.8332\n",
            "Epoch 78/100\n",
            "10/10 [==============================] - 10s 1s/step - loss: 0.1968 - accuracy: 0.8656 - val_loss: 0.4397 - val_accuracy: 0.8326\n",
            "Epoch 79/100\n",
            "10/10 [==============================] - 10s 1s/step - loss: 0.1750 - accuracy: 0.8969 - val_loss: 0.4424 - val_accuracy: 0.8319\n",
            "Epoch 80/100\n",
            "10/10 [==============================] - 10s 1s/step - loss: 0.1747 - accuracy: 0.9031 - val_loss: 0.4389 - val_accuracy: 0.8319\n",
            "Epoch 81/100\n",
            "10/10 [==============================] - 18s 2s/step - loss: 0.1914 - accuracy: 0.8719 - val_loss: 0.4358 - val_accuracy: 0.8378\n",
            "Epoch 82/100\n",
            "10/10 [==============================] - 10s 1s/step - loss: 0.1662 - accuracy: 0.9094 - val_loss: 0.4332 - val_accuracy: 0.8378\n",
            "Epoch 83/100\n",
            "10/10 [==============================] - 18s 2s/step - loss: 0.1762 - accuracy: 0.9062 - val_loss: 0.4327 - val_accuracy: 0.8398\n",
            "Epoch 84/100\n",
            "10/10 [==============================] - 10s 1s/step - loss: 0.1851 - accuracy: 0.8844 - val_loss: 0.4326 - val_accuracy: 0.8378\n",
            "Epoch 85/100\n",
            "10/10 [==============================] - 10s 1s/step - loss: 0.1959 - accuracy: 0.8656 - val_loss: 0.4335 - val_accuracy: 0.8359\n",
            "Epoch 86/100\n",
            "10/10 [==============================] - 10s 1s/step - loss: 0.1755 - accuracy: 0.8938 - val_loss: 0.4332 - val_accuracy: 0.8365\n",
            "Epoch 87/100\n",
            "10/10 [==============================] - 10s 1s/step - loss: 0.1821 - accuracy: 0.8781 - val_loss: 0.4315 - val_accuracy: 0.8391\n",
            "Epoch 88/100\n",
            "10/10 [==============================] - 10s 1s/step - loss: 0.1788 - accuracy: 0.8906 - val_loss: 0.4311 - val_accuracy: 0.8391\n",
            "Epoch 89/100\n",
            "10/10 [==============================] - 10s 1s/step - loss: 0.1714 - accuracy: 0.9062 - val_loss: 0.4341 - val_accuracy: 0.8365\n",
            "Epoch 90/100\n",
            "10/10 [==============================] - 10s 1s/step - loss: 0.1714 - accuracy: 0.9094 - val_loss: 0.4370 - val_accuracy: 0.8365\n",
            "Epoch 91/100\n",
            "10/10 [==============================] - 10s 1s/step - loss: 0.1766 - accuracy: 0.8875 - val_loss: 0.4352 - val_accuracy: 0.8359\n",
            "Epoch 92/100\n",
            "10/10 [==============================] - 10s 1s/step - loss: 0.1847 - accuracy: 0.8813 - val_loss: 0.4334 - val_accuracy: 0.8359\n",
            "Epoch 93/100\n",
            "10/10 [==============================] - 10s 1s/step - loss: 0.1672 - accuracy: 0.9062 - val_loss: 0.4311 - val_accuracy: 0.8398\n",
            "Epoch 94/100\n",
            "10/10 [==============================] - 18s 2s/step - loss: 0.1993 - accuracy: 0.8594 - val_loss: 0.4310 - val_accuracy: 0.8418\n",
            "Epoch 95/100\n",
            "10/10 [==============================] - 10s 1s/step - loss: 0.1999 - accuracy: 0.8625 - val_loss: 0.4333 - val_accuracy: 0.8339\n",
            "Epoch 96/100\n",
            "10/10 [==============================] - 9s 995ms/step - loss: 0.1756 - accuracy: 0.8960 - val_loss: 0.4332 - val_accuracy: 0.8352\n",
            "Epoch 97/100\n",
            "10/10 [==============================] - 10s 1s/step - loss: 0.1770 - accuracy: 0.8969 - val_loss: 0.4315 - val_accuracy: 0.8411\n",
            "Epoch 98/100\n",
            "10/10 [==============================] - 10s 1s/step - loss: 0.1646 - accuracy: 0.9125 - val_loss: 0.4309 - val_accuracy: 0.8398\n",
            "Epoch 99/100\n",
            "10/10 [==============================] - 10s 1s/step - loss: 0.1954 - accuracy: 0.8594 - val_loss: 0.4309 - val_accuracy: 0.8391\n",
            "Epoch 100/100\n",
            "10/10 [==============================] - 10s 1s/step - loss: 0.1547 - accuracy: 0.9250 - val_loss: 0.4306 - val_accuracy: 0.8372\n"
          ]
        }
      ]
    },
    {
      "cell_type": "code",
      "source": [
        "model3.save_weights('google_enc_best_weights.h5')"
      ],
      "metadata": {
        "id": "rPX4oWOVyEiO"
      },
      "execution_count": 12,
      "outputs": []
    },
    {
      "cell_type": "code",
      "source": [
        "last_history = pd.DataFrame.from_dict(last_history.history)\n",
        "last_history .to_csv('history_model3.csv')"
      ],
      "metadata": {
        "id": "Vhoml10_zBHd"
      },
      "execution_count": 13,
      "outputs": []
    },
    {
      "cell_type": "code",
      "source": [
        "# Visualization of the training on the accuracy \n",
        "ax1 = last_history.accuracy.plot(color=\"b\",label = 'accuracy')\n",
        "ax1.legend()\n",
        "ax2 = last_history.val_accuracy.plot(color=\"r\", label ='val_accuracy')\n",
        "ax2.legend();\n",
        "\n"
      ],
      "metadata": {
        "colab": {
          "base_uri": "https://localhost:8080/",
          "height": 265
        },
        "id": "PZ9a98adzPDe",
        "outputId": "ac242939-079d-4ab3-bc53-3418355bb7af"
      },
      "execution_count": 15,
      "outputs": [
        {
          "output_type": "display_data",
          "data": {
            "image/png": "[encoded data removed]",
            "text/plain": [
              "<Figure size 432x288 with 1 Axes>"
            ]
          },
          "metadata": {
            "needs_background": "light"
          }
        }
      ]
    },
    {
      "cell_type": "code",
      "source": [
        "# Visualization of the training on the loss \n",
        "ax3 = last_history.loss.plot(color=\"green\", label ='loss')\n",
        "ax3.legend()\n",
        "ax4 = last_history.val_loss.plot(color=\"orange\", label='val_loss')\n",
        "ax4.legend();"
      ],
      "metadata": {
        "colab": {
          "base_uri": "https://localhost:8080/",
          "height": 265
        },
        "id": "XQbAAJuc3xeK",
        "outputId": "d7121637-8f1f-4af2-ada3-2d3e24ed3587"
      },
      "execution_count": 16,
      "outputs": [
        {
          "output_type": "display_data",
          "data": {
            "image/png": "[encoded data removed]",
            "text/plain": [
              "<Figure size 432x288 with 1 Axes>"
            ]
          },
          "metadata": {
            "needs_background": "light"
          }
        }
      ]
    },
    {
      "cell_type": "code",
      "source": [
        "# Create a new model instance\n",
        "new_model = build_model(embed)\n",
        "\n",
        "# Restore the weights\n",
        "new_model.load_weights('google_enc_best_weights.h5')\n",
        "\n",
        "# Evaluate the model\n",
        "loss, acc = new_model.evaluate(df.text.values, df.labels.values, verbose=2)\n",
        "print(\"Restored model, accuracy: {:5.2f}%\".format(100 * acc))"
      ],
      "metadata": {
        "colab": {
          "base_uri": "https://localhost:8080/"
        },
        "id": "TXcyzXRV2bt7",
        "outputId": "e830d017-3fc5-41a4-df33-ef5129047bce"
      },
      "execution_count": 17,
      "outputs": [
        {
          "output_type": "stream",
          "name": "stdout",
          "text": [
            "238/238 - 30s - loss: 0.3669 - accuracy: 0.8878 - 30s/epoch - 125ms/step\n",
            "Restored model, accuracy: 88.78%\n"
          ]
        }
      ]
    },
    {
      "cell_type": "code",
      "source": [
        "# Best_model\n",
        "last = pd.read_csv('/content/history_model3.csv')\n",
        "last.rename(columns={'Unnamed: 0' : 'epoch'}, inplace=True)\n",
        "last[last.val_accuracy == last.val_accuracy.max()]"
      ],
      "metadata": {
        "colab": {
          "base_uri": "https://localhost:8080/",
          "height": 81
        },
        "id": "dMnBEAeT62Ml",
        "outputId": "4e1c4050-e75c-4c52-d88f-b6a862565531"
      },
      "execution_count": 26,
      "outputs": [
        {
          "output_type": "execute_result",
          "data": {
            "text/html": [
              "\n",
              "  <div id=\"df-baa12aca-e0a0-4951-965f-f40b44b81c39\">\n",
              "    <div class=\"colab-df-container\">\n",
              "      <div>\n",
              "<style scoped>\n",
              "    .dataframe tbody tr th:only-of-type {\n",
              "        vertical-align: middle;\n",
              "    }\n",
              "\n",
              "    .dataframe tbody tr th {\n",
              "        vertical-align: top;\n",
              "    }\n",
              "\n",
              "    .dataframe thead th {\n",
              "        text-align: right;\n",
              "    }\n",
              "</style>\n",
              "<table border=\"1\" class=\"dataframe\">\n",
              "  <thead>\n",
              "    <tr style=\"text-align: right;\">\n",
              "      <th></th>\n",
              "      <th>epoch</th>\n",
              "      <th>loss</th>\n",
              "      <th>accuracy</th>\n",
              "      <th>val_loss</th>\n",
              "      <th>val_accuracy</th>\n",
              "    </tr>\n",
              "  </thead>\n",
              "  <tbody>\n",
              "    <tr>\n",
              "      <th>93</th>\n",
              "      <td>93</td>\n",
              "      <td>0.199264</td>\n",
              "      <td>0.859375</td>\n",
              "      <td>0.430959</td>\n",
              "      <td>0.84176</td>\n",
              "    </tr>\n",
              "  </tbody>\n",
              "</table>\n",
              "</div>\n",
              "      <button class=\"colab-df-convert\" onclick=\"convertToInteractive('df-baa12aca-e0a0-4951-965f-f40b44b81c39')\"\n",
              "              title=\"Convert this dataframe to an interactive table.\"\n",
              "              style=\"display:none;\">\n",
              "        \n",
              "  <svg xmlns=\"http://www.w3.org/2000/svg\" height=\"24px\"viewBox=\"0 0 24 24\"\n",
              "       width=\"24px\">\n",
              "    <path d=\"M0 0h24v24H0V0z\" fill=\"none\"/>\n",
              "    <path d=\"M18.56 5.44l.94 2.06.94-2.06 2.06-.94-2.06-.94-.94-2.06-.94 2.06-2.06.94zm-11 1L8.5 8.5l.94-2.06 2.06-.94-2.06-.94L8.5 2.5l-.94 2.06-2.06.94zm10 10l.94 2.06.94-2.06 2.06-.94-2.06-.94-.94-2.06-.94 2.06-2.06.94z\"/><path d=\"M17.41 7.96l-1.37-1.37c-.4-.4-.92-.59-1.43-.59-.52 0-1.04.2-1.43.59L10.3 9.45l-7.72 7.72c-.78.78-.78 2.05 0 2.83L4 21.41c.39.39.9.59 1.41.59.51 0 1.02-.2 1.41-.59l7.78-7.78 2.81-2.81c.8-.78.8-2.07 0-2.86zM5.41 20L4 18.59l7.72-7.72 1.47 1.35L5.41 20z\"/>\n",
              "  </svg>\n",
              "      </button>\n",
              "      \n",
              "  <style>\n",
              "    .colab-df-container {\n",
              "      display:flex;\n",
              "      flex-wrap:wrap;\n",
              "      gap: 12px;\n",
              "    }\n",
              "\n",
              "    .colab-df-convert {\n",
              "      background-color: #E8F0FE;\n",
              "      border: none;\n",
              "      border-radius: 50%;\n",
              "      cursor: pointer;\n",
              "      display: none;\n",
              "      fill: #1967D2;\n",
              "      height: 32px;\n",
              "      padding: 0 0 0 0;\n",
              "      width: 32px;\n",
              "    }\n",
              "\n",
              "    .colab-df-convert:hover {\n",
              "      background-color: #E2EBFA;\n",
              "      box-shadow: 0px 1px 2px rgba(60, 64, 67, 0.3), 0px 1px 3px 1px rgba(60, 64, 67, 0.15);\n",
              "      fill: #174EA6;\n",
              "    }\n",
              "\n",
              "    [theme=dark] .colab-df-convert {\n",
              "      background-color: #3B4455;\n",
              "      fill: #D2E3FC;\n",
              "    }\n",
              "\n",
              "    [theme=dark] .colab-df-convert:hover {\n",
              "      background-color: #434B5C;\n",
              "      box-shadow: 0px 1px 3px 1px rgba(0, 0, 0, 0.15);\n",
              "      filter: drop-shadow(0px 1px 2px rgba(0, 0, 0, 0.3));\n",
              "      fill: #FFFFFF;\n",
              "    }\n",
              "  </style>\n",
              "\n",
              "      <script>\n",
              "        const buttonEl =\n",
              "          document.querySelector('#df-baa12aca-e0a0-4951-965f-f40b44b81c39 button.colab-df-convert');\n",
              "        buttonEl.style.display =\n",
              "          google.colab.kernel.accessAllowed ? 'block' : 'none';\n",
              "\n",
              "        async function convertToInteractive(key) {\n",
              "          const element = document.querySelector('#df-baa12aca-e0a0-4951-965f-f40b44b81c39');\n",
              "          const dataTable =\n",
              "            await google.colab.kernel.invokeFunction('convertToInteractive',\n",
              "                                                     [key], {});\n",
              "          if (!dataTable) return;\n",
              "\n",
              "          const docLinkHtml = 'Like what you see? Visit the ' +\n",
              "            '<a target=\"_blank\" href=https://colab.research.google.com/notebooks/data_table.ipynb>data table notebook</a>'\n",
              "            + ' to learn more about interactive tables.';\n",
              "          element.innerHTML = '';\n",
              "          dataTable['output_type'] = 'display_data';\n",
              "          await google.colab.output.renderOutput(dataTable, element);\n",
              "          const docLink = document.createElement('div');\n",
              "          docLink.innerHTML = docLinkHtml;\n",
              "          element.appendChild(docLink);\n",
              "        }\n",
              "      </script>\n",
              "    </div>\n",
              "  </div>\n",
              "  "
            ],
            "text/plain": [
              "    epoch      loss  accuracy  val_loss  val_accuracy\n",
              "93     93  0.199264  0.859375  0.430959       0.84176"
            ]
          },
          "metadata": {},
          "execution_count": 26
        }
      ]
    },
    {
      "cell_type": "markdown",
      "source": [
        "**Conclusion** : this model is the best one among the 3"
      ],
      "metadata": {
        "id": "XCffA0OU8FgL"
      }
    }
  ]
}